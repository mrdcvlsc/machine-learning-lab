{
  "nbformat": 4,
  "nbformat_minor": 5,
  "metadata": {
    "kernelspec": {
      "display_name": "Python 3",
      "language": "python",
      "name": "python3"
    },
    "language_info": {
      "codemirror_mode": {
        "name": "ipython",
        "version": 3
      },
      "file_extension": ".py",
      "mimetype": "text/x-python",
      "name": "python",
      "nbconvert_exporter": "python",
      "pygments_lexer": "ipython3",
      "version": "3.8.10"
    },
    "colab": {
      "name": "cifar10 pytorch 7Layer cnn_bn.ipynb",
      "provenance": [],
      "collapsed_sections": []
    },
    "accelerator": "GPU"
  },
  "cells": [
    {
      "cell_type": "markdown",
      "metadata": {
        "id": "e20c74ca"
      },
      "source": [
        "# A sample Convolutional Neural Network"
      ],
      "id": "e20c74ca"
    },
    {
      "cell_type": "markdown",
      "metadata": {
        "id": "6c4d7c85"
      },
      "source": [
        "---------------------\n",
        "---------------------\n",
        "#### 1. Download the CIFAR10 dataset\n",
        "\n",
        "    first we download the dataset needed, here we use the cifar10 image dataset"
      ],
      "id": "6c4d7c85"
    },
    {
      "cell_type": "code",
      "metadata": {
        "scrolled": true,
        "colab": {
          "base_uri": "https://localhost:8080/"
        },
        "id": "5f41028d",
        "outputId": "49bace86-5782-4e8c-f452-87f95113b15b"
      },
      "source": [
        "import torch\n",
        "import torchvision\n",
        "import torchvision.transforms as transforms\n",
        "\n",
        "# when applied, this will normalize the data from the ranges of (-1) to 1 \n",
        "train_transform = transforms.Compose([\n",
        "    transforms.RandomRotation(15),\n",
        "    transforms.RandomHorizontalFlip(),\n",
        "    transforms.ToTensor(),\n",
        "    transforms.Normalize((0.5, 0.5, 0.5),(0.5, 0.5, 0.5))\n",
        "])\n",
        "\n",
        "test_transform = transforms.Compose([\n",
        "    transforms.ToTensor(),\n",
        "    transforms.Normalize((0.5,0.5,0.5),(0.5,0.5,0.5))\n",
        "])\n",
        "\n",
        "trainset = torchvision.datasets.CIFAR10(root='./data', train=True,download=True, transform=train_transform)\n",
        "testset = torchvision.datasets.CIFAR10(root='./data', train=False,download=True, transform=test_transform)\n",
        "\n",
        "print('\\ntraining data set number of sample images = ',len(trainset))\n",
        "print('testing data set number of sample images  = ',len(testset))"
      ],
      "id": "5f41028d",
      "execution_count": null,
      "outputs": [
        {
          "output_type": "stream",
          "name": "stdout",
          "text": [
            "Files already downloaded and verified\n",
            "Files already downloaded and verified\n",
            "\n",
            "training data set number of sample images =  50000\n",
            "testing data set number of sample images  =  10000\n"
          ]
        }
      ]
    },
    {
      "cell_type": "markdown",
      "metadata": {
        "id": "3a76ccfe"
      },
      "source": [
        "---------------------\n",
        "#### 2. Partition the Datset into batches\n",
        "\n",
        "    here we partition the 50,000 training images into 100, making 500 batches and,\n",
        "    10,000 sample images of test images into 100, making 100 batches\n",
        "    \n",
        "    where each batches contains 100 images"
      ],
      "id": "3a76ccfe"
    },
    {
      "cell_type": "code",
      "metadata": {
        "id": "51e874a5"
      },
      "source": [
        "batch_size = 250\n",
        "\n",
        "trainloader = torch.utils.data.DataLoader(trainset, batch_size=batch_size,shuffle=True, num_workers=2)\n",
        "testloader = torch.utils.data.DataLoader(testset, batch_size=batch_size,shuffle=False, num_workers=2)\n",
        "\n",
        "classes = ('plane','car','bird','cat','deer','dog','frog','horse','ship','truck')"
      ],
      "id": "51e874a5",
      "execution_count": null,
      "outputs": []
    },
    {
      "cell_type": "markdown",
      "metadata": {
        "id": "b27cbce1"
      },
      "source": [
        "---------------------\n",
        "##### (optionals) check the shape of our datasets"
      ],
      "id": "b27cbce1"
    },
    {
      "cell_type": "code",
      "metadata": {
        "colab": {
          "base_uri": "https://localhost:8080/"
        },
        "id": "90cfc512",
        "outputId": "f952aba6-b103-47b0-fc56-8c41404efea8"
      },
      "source": [
        "# here we don't need to flatten every images in our dataset before feeding it to our neural network\n",
        "\n",
        "for data in trainloader:\n",
        "    images, labels = data\n",
        "    print('images dataset shape = ', images.shape)\n",
        "    print('labels dataset shape = ', labels.shape)\n",
        "    break"
      ],
      "id": "90cfc512",
      "execution_count": null,
      "outputs": [
        {
          "output_type": "stream",
          "name": "stdout",
          "text": [
            "images dataset shape =  torch.Size([250, 3, 32, 32])\n",
            "labels dataset shape =  torch.Size([250])\n"
          ]
        }
      ]
    },
    {
      "cell_type": "markdown",
      "metadata": {
        "id": "6eaa10d6"
      },
      "source": [
        "---------------------\n",
        "##### (optionals) Quick peek in the images"
      ],
      "id": "6eaa10d6"
    },
    {
      "cell_type": "code",
      "metadata": {
        "scrolled": true,
        "colab": {
          "base_uri": "https://localhost:8080/",
          "height": 138
        },
        "id": "f33e4b96",
        "outputId": "9444dfc9-6956-44c7-b8a1-af4f67a467a0"
      },
      "source": [
        "import matplotlib.pyplot as plt\n",
        "import numpy as np\n",
        "\n",
        "def imshow(img):\n",
        "    img = img / 2 + 0.5     # unnormalize\n",
        "    npimg = img.numpy()\n",
        "    plt.imshow(np.transpose(npimg, (1, 2, 0)))\n",
        "    plt.show()\n",
        "\n",
        "dataiter = iter(trainloader)\n",
        "images, labels = dataiter.next()\n",
        "\n",
        "imshow(torchvision.utils.make_grid(images[0:5]))\n",
        "\n",
        "print(' '.join('%5s' % classes[labels[j]] for j in range(5)))"
      ],
      "id": "f33e4b96",
      "execution_count": null,
      "outputs": [
        {
          "output_type": "display_data",
          "data": {
            "image/png": "[encoded data removed]",
            "text/plain": [
              "<Figure size 432x288 with 1 Axes>"
            ]
          },
          "metadata": {
            "needs_background": "light"
          }
        },
        {
          "output_type": "stream",
          "name": "stdout",
          "text": [
            "  dog plane   cat   cat   cat\n"
          ]
        }
      ]
    },
    {
      "cell_type": "markdown",
      "metadata": {
        "id": "811ae8ce"
      },
      "source": [
        "---------------------\n",
        "#### 3. Build the Convolution Neural Network"
      ],
      "id": "811ae8ce"
    },
    {
      "cell_type": "code",
      "metadata": {
        "colab": {
          "base_uri": "https://localhost:8080/"
        },
        "id": "a515329b",
        "outputId": "a2255737-0f55-4e75-b3ee-6c9f0fff025f"
      },
      "source": [
        "import torch.nn as nn\n",
        "import torch.nn.functional as F\n",
        "\n",
        "\n",
        "class Net(nn.Module):\n",
        "    def __init__(self):\n",
        "        super().__init__()\n",
        "        \n",
        "        self.pool = nn.MaxPool2d(2, 2, dilation=1)\n",
        "        self.linDrop = nn.Dropout(p=0.5, inplace=False)\n",
        "        \n",
        "        self.conv1 = nn.Conv2d(3, 16, 3, padding=(1,1))\n",
        "        self.bn2d1 = nn.BatchNorm2d(16, eps=1e-05, momentum=0.1, affine=True)\n",
        "        self.conv2 = nn.Conv2d(16, 16, 3, padding=(1,1))\n",
        "        self.bn2d2 = nn.BatchNorm2d(16, eps=1e-05, momentum=0.1, affine=True)\n",
        "        \n",
        "        self.conv3 = nn.Conv2d(16, 32, 3, padding=(1,1))\n",
        "        self.bn2d3 = nn.BatchNorm2d(32, eps=1e-05, momentum=0.1, affine=True)\n",
        "        self.conv4 = nn.Conv2d(32,32, 3, padding=(1,1))\n",
        "        self.bn2d4 = nn.BatchNorm2d(32, eps=1e-05, momentum=0.1, affine=True)\n",
        "        \n",
        "        self.conv5 = nn.Conv2d(32, 64, 3, padding=(1,1))\n",
        "        self.bn2d5 = nn.BatchNorm2d(64, eps=1e-05, momentum=0.1, affine=True)\n",
        "        self.conv6 = nn.Conv2d(64, 64, 3, padding=(1,1))\n",
        "        self.bn2d6 = nn.BatchNorm2d(64, eps=1e-05, momentum=0.1, affine=True)\n",
        "        self.conv7 = nn.Conv2d(64, 64, 3, padding=(1,1))\n",
        "        self.bn2d7 = nn.BatchNorm2d(64, eps=1e-05, momentum=0.1, affine=True)\n",
        "        \n",
        "        self.fc1 = nn.Linear(64 * 4 * 4, 64)\n",
        "        self.fc2 = nn.Linear(64, 64)\n",
        "        self.fc3 = nn.Linear(64, 64)\n",
        "        self.fc4 = nn.Linear(64, 10)\n",
        "\n",
        "    def forward(self, x):\n",
        "\n",
        "        x = F.relu(self.bn2d1(self.conv1(x)))\n",
        "        x = F.relu(self.bn2d2(self.conv2(x)))\n",
        "        x = self.pool(x)\n",
        "        \n",
        "        x = F.relu(self.bn2d3(self.conv3(x)))\n",
        "        x = F.relu(self.bn2d4(self.conv4(x)))\n",
        "        x = self.pool(x)\n",
        "        \n",
        "        x = F.relu(self.bn2d5(self.conv5(x)))\n",
        "        x = F.relu(self.bn2d6(self.conv6(x)))\n",
        "        x = F.relu(self.bn2d7(self.conv7(x)))\n",
        "        x = self.pool(x)\n",
        "        \n",
        "        x = torch.flatten(x, 1) # flatten all dimensions except batch\n",
        "        \n",
        "        x = self.linDrop(x)\n",
        "        \n",
        "        x = F.relu(self.fc1(x))\n",
        "        x = F.relu(self.fc2(x))\n",
        "        x = F.relu(self.fc3(x))\n",
        "        x = F.log_softmax(self.fc4(x), dim=1)\n",
        "                \n",
        "        return x\n",
        "\n",
        "net = Net() # CPU\n",
        "\n",
        "device = torch.device(\"cuda:0\" if torch.cuda.is_available() else \"cpu\")\n",
        "net.to(device) # GPU\n",
        "\n",
        "print('device in use : ',device)\n",
        "\n",
        "net"
      ],
      "id": "a515329b",
      "execution_count": null,
      "outputs": [
        {
          "output_type": "stream",
          "name": "stdout",
          "text": [
            "device in use :  cuda:0\n"
          ]
        },
        {
          "output_type": "execute_result",
          "data": {
            "text/plain": [
              "Net(\n",
              "  (pool): MaxPool2d(kernel_size=2, stride=2, padding=0, dilation=1, ceil_mode=False)\n",
              "  (linDrop): Dropout(p=0.5, inplace=False)\n",
              "  (conv1): Conv2d(3, 16, kernel_size=(3, 3), stride=(1, 1), padding=(1, 1))\n",
              "  (bn2d1): BatchNorm2d(16, eps=1e-05, momentum=0.1, affine=True, track_running_stats=True)\n",
              "  (conv2): Conv2d(16, 16, kernel_size=(3, 3), stride=(1, 1), padding=(1, 1))\n",
              "  (bn2d2): BatchNorm2d(16, eps=1e-05, momentum=0.1, affine=True, track_running_stats=True)\n",
              "  (conv3): Conv2d(16, 32, kernel_size=(3, 3), stride=(1, 1), padding=(1, 1))\n",
              "  (bn2d3): BatchNorm2d(32, eps=1e-05, momentum=0.1, affine=True, track_running_stats=True)\n",
              "  (conv4): Conv2d(32, 32, kernel_size=(3, 3), stride=(1, 1), padding=(1, 1))\n",
              "  (bn2d4): BatchNorm2d(32, eps=1e-05, momentum=0.1, affine=True, track_running_stats=True)\n",
              "  (conv5): Conv2d(32, 64, kernel_size=(3, 3), stride=(1, 1), padding=(1, 1))\n",
              "  (bn2d5): BatchNorm2d(64, eps=1e-05, momentum=0.1, affine=True, track_running_stats=True)\n",
              "  (conv6): Conv2d(64, 64, kernel_size=(3, 3), stride=(1, 1), padding=(1, 1))\n",
              "  (bn2d6): BatchNorm2d(64, eps=1e-05, momentum=0.1, affine=True, track_running_stats=True)\n",
              "  (conv7): Conv2d(64, 64, kernel_size=(3, 3), stride=(1, 1), padding=(1, 1))\n",
              "  (bn2d7): BatchNorm2d(64, eps=1e-05, momentum=0.1, affine=True, track_running_stats=True)\n",
              "  (fc1): Linear(in_features=1024, out_features=64, bias=True)\n",
              "  (fc2): Linear(in_features=64, out_features=64, bias=True)\n",
              "  (fc3): Linear(in_features=64, out_features=64, bias=True)\n",
              "  (fc4): Linear(in_features=64, out_features=10, bias=True)\n",
              ")"
            ]
          },
          "metadata": {},
          "execution_count": 5
        }
      ]
    },
    {
      "cell_type": "markdown",
      "metadata": {
        "id": "3d87bd4a"
      },
      "source": [
        "---------------------\n",
        "#### (optionals) NOTE : if you are curious on how to get the shapes after pooling or convolution, this is the function\n",
        "\n",
        "    though since I'm the one who wrote this one, there might be errors in this function"
      ],
      "id": "3d87bd4a"
    },
    {
      "cell_type": "code",
      "metadata": {
        "scrolled": true,
        "colab": {
          "base_uri": "https://localhost:8080/"
        },
        "id": "f801b5d6",
        "outputId": "117bc003-4747-4741-9e9c-02553e893cef"
      },
      "source": [
        "def conv_out_len(N,kernel_len=1, stride=1):\n",
        "    cnt = 0\n",
        "    i = 0\n",
        "    while i < N:\n",
        "        if i+kernel_len > N:\n",
        "            break\n",
        "        cnt += 1\n",
        "        i += stride\n",
        "    return cnt\n",
        "\n",
        "conv_out_len(6,kernel_len=2, stride=2)"
      ],
      "id": "f801b5d6",
      "execution_count": null,
      "outputs": [
        {
          "output_type": "execute_result",
          "data": {
            "text/plain": [
              "3"
            ]
          },
          "metadata": {},
          "execution_count": 6
        }
      ]
    },
    {
      "cell_type": "markdown",
      "metadata": {
        "id": "e7f3feda"
      },
      "source": [
        "---------------------\n",
        "#### The shape of the weights of the network\n",
        "\n",
        "conv1 kernel 1 shape explanation\n",
        "\n",
        "    1. net.conv1.weight.shape[0] = 6\n",
        "        this is a user defined numbers of features, or number of kernels,\n",
        "        defined in the 2nd argument of 'self.conv1 = nn.Conv2d(3, 6, 5)' in '__init__',\n",
        "        this kernel will be a 3 dimensional matrix/tensor, where the extra dimension is the channels,\n",
        "        and the remaining will be the 2d image\n",
        "        \n",
        "    2. net.conv1.weight.shape[1] = 3\n",
        "        this is the numbers of channels our 2d kernels will have,\n",
        "        this should have the same value with the channels of the training and test dataset images\n",
        "        defined in the 1st argument of 'self.conv1 = nn.Conv2d(3, 6, 5)' in '__init__'\n",
        "        \n",
        "    3. net.conv1.weight.shape[2&3] = 5x5\n",
        "        this is the size of the 2d kernel\n",
        "        defined in the 3rd/last argument of 'self.conv1 = nn.Conv2d(3, 6, 5)' in '__init__'\n",
        "\n",
        "$\n",
        "\\begin{matrix}\n",
        "\\text{conv1 2D kernels} & = & 6x3x5x5 \\\\\n",
        "\\text{conv2 2D kernels} & = & 16x6x5x5 \\\\\n",
        "\\text{fc1 1D weight} & = & 120x400 \\\\\n",
        "\\text{fc2 1D weight} & = & 84x120 \\\\\n",
        "\\text{fc3 1D weight} & = & 10x84 \\\\\n",
        "\\end{matrix}\n",
        "$\n",
        "\n",
        "kernels are just like weights, but instead of a a collection of 1 dimensional vector that is connected to a node\n",
        "represented by a rectangular matrix like a feed forward network, convolutional layers are more like\n",
        "a collection of 2 dimensional matrix\n",
        "\n",
        "-----------------------\n",
        "\n",
        "#### Feed Forward Output Shapes of Layers\n",
        "\n",
        "    this is the output shapes of each layers when the input is\n",
        "    passed into the network using the forward function,\n",
        "    \n",
        "    here the forwad-step number 0.) is the input, 100 batches of 32x32 images, with 3 channels rgb\n",
        "    \n",
        "$\n",
        "    \\begin{matrix}\n",
        "    \\mathbf{forward-steps} &\\mathbf{layer} & \\mathbf{kernel/weight-shape}& \\mathbf{operation} & \\mathbf{input-shape} & \\mathbf{output-shape} \\\\\n",
        "    0.) & \\text{image batch} & n/a & n/a & 100x3x32x32 & 100x3x32x32 \\\\\n",
        "    1.) & \\text{conv1} & 6x3x5x5 & \\text{convolution} & 100x3x32x32 & 100x6x28x28 \\\\\n",
        "    2.) & \\text{pool} & 2x2 & \\text{maxpooling} & 100x6x28x28 & 100x16x14x14 \\\\\n",
        "    3.) & \\text{conv2} & 16x6x5x5 & \\text{convolution} & 100x16x14x14 & 100x16x10x10 \\\\\n",
        "    4.) & \\text{pool} & 2x2 & \\text{maxpooling} & 100x16x10x10 & 100x16x5x5 \\\\\n",
        "    5.) & \\text{flatten} & n/a & \\text{flatten conv2 output} & 100x16x5x5 & 100x400 \\\\\n",
        "    6.) & \\text{fc1} & 120x400 & \\text{matrix multiply} & 100x400 & 100x120 \\\\\n",
        "    7.) & \\text{fc2} & 84x120 & \\text{matrix multiply} & 100x120 & 100x84 \\\\\n",
        "    8.) & \\text{fc3} & 10x84 & \\text{matric multiply} & 100x84 & 100x10 \\\\\n",
        "    \\end{matrix}\n",
        "$\n",
        "\n",
        "maxpooling here has a stride of 2\n",
        "\n",
        "#### This is what is happening inside the forward() function of out neural network"
      ],
      "id": "e7f3feda"
    },
    {
      "cell_type": "markdown",
      "metadata": {
        "id": "36778ec9"
      },
      "source": [
        "---------------------\n",
        "####  4. Choosing our optimizer\n",
        "    \n",
        "    you can use any optimizer you want, either the classic SGD(sochastic gradient descent), \n",
        "    or the newer ones like AdaGrad, and etc.\n",
        "    \n",
        "    but here we will used the most recent optimizer that is considered\n",
        "    to be one of the fastest optimizer for updating our neural networks' weight called 'Adam',\n",
        "    so that we will have a faster convergence and use only a small numbers of epoch(training loop)"
      ],
      "id": "36778ec9"
    },
    {
      "cell_type": "code",
      "metadata": {
        "id": "1133023f"
      },
      "source": [
        "import torch.optim as optim\n",
        "\n",
        "optimizer = optim.Adam(net.parameters(), lr=0.001)"
      ],
      "id": "1133023f",
      "execution_count": null,
      "outputs": []
    },
    {
      "cell_type": "markdown",
      "metadata": {
        "id": "4265fbf3"
      },
      "source": [
        "---------------------\n",
        "#### 5. Train the neural network"
      ],
      "id": "4265fbf3"
    },
    {
      "cell_type": "code",
      "metadata": {
        "scrolled": true,
        "colab": {
          "base_uri": "https://localhost:8080/"
        },
        "id": "e934292e",
        "outputId": "ab1ce8e4-99a2-47a4-d219-0812200fd7c9"
      },
      "source": [
        "import time\n",
        "\n",
        "start = time.time()\n",
        "\n",
        "EPOCH = 60 # run 30 epoch\n",
        "\n",
        "net.train()\n",
        "\n",
        "i = 0\n",
        "for epoch in range(EPOCH):\n",
        "    i+=1\n",
        "    print('(',round((i/EPOCH)*100,2),'%) Epoch : ',i,'/',EPOCH, sep='')\n",
        "    for data in trainloader:\n",
        "        # inputs, labels = data # CPU\n",
        "        inputs, labels = data[0].to(device), data[1].to(device) # To GPU\n",
        "\n",
        "        optimizer.zero_grad()\n",
        "        outputs = net(inputs)\n",
        "        loss = F.nll_loss(outputs, labels) # loss function use in tandem with log_softmax\n",
        "        loss.backward()\n",
        "        optimizer.step()\n",
        "\n",
        "end = time.time()\n",
        "            \n",
        "dur_sec = end-start\n",
        "dur_min = dur_sec/60\n",
        "dur_hr  = dur_min/60\n",
        "\n",
        "print('Finished Training, \\nTraining took',dur_sec,'seconds')\n",
        "print(dur_min,'min')\n",
        "print(dur_hr,'hr')"
      ],
      "id": "e934292e",
      "execution_count": null,
      "outputs": [
        {
          "output_type": "stream",
          "name": "stdout",
          "text": [
            "(1.67%) Epoch : 1/60\n"
          ]
        },
        {
          "output_type": "stream",
          "name": "stderr",
          "text": [
            "/usr/local/lib/python3.7/dist-packages/torch/nn/functional.py:718: UserWarning: Named tensors and all their associated APIs are an experimental feature and subject to change. Please do not use them for anything important until they are released as stable. (Triggered internally at  /pytorch/c10/core/TensorImpl.h:1156.)\n",
            "  return torch.max_pool2d(input, kernel_size, stride, padding, dilation, ceil_mode)\n"
          ]
        },
        {
          "output_type": "stream",
          "name": "stdout",
          "text": [
            "(3.33%) Epoch : 2/60\n",
            "(5.0%) Epoch : 3/60\n",
            "(6.67%) Epoch : 4/60\n",
            "(8.33%) Epoch : 5/60\n",
            "(10.0%) Epoch : 6/60\n",
            "(11.67%) Epoch : 7/60\n",
            "(13.33%) Epoch : 8/60\n",
            "(15.0%) Epoch : 9/60\n",
            "(16.67%) Epoch : 10/60\n",
            "(18.33%) Epoch : 11/60\n",
            "(20.0%) Epoch : 12/60\n",
            "(21.67%) Epoch : 13/60\n",
            "(23.33%) Epoch : 14/60\n",
            "(25.0%) Epoch : 15/60\n",
            "(26.67%) Epoch : 16/60\n",
            "(28.33%) Epoch : 17/60\n",
            "(30.0%) Epoch : 18/60\n",
            "(31.67%) Epoch : 19/60\n",
            "(33.33%) Epoch : 20/60\n",
            "(35.0%) Epoch : 21/60\n",
            "(36.67%) Epoch : 22/60\n",
            "(38.33%) Epoch : 23/60\n",
            "(40.0%) Epoch : 24/60\n",
            "(41.67%) Epoch : 25/60\n",
            "(43.33%) Epoch : 26/60\n",
            "(45.0%) Epoch : 27/60\n",
            "(46.67%) Epoch : 28/60\n",
            "(48.33%) Epoch : 29/60\n",
            "(50.0%) Epoch : 30/60\n",
            "(51.67%) Epoch : 31/60\n",
            "(53.33%) Epoch : 32/60\n",
            "(55.0%) Epoch : 33/60\n",
            "(56.67%) Epoch : 34/60\n",
            "(58.33%) Epoch : 35/60\n",
            "(60.0%) Epoch : 36/60\n",
            "(61.67%) Epoch : 37/60\n",
            "(63.33%) Epoch : 38/60\n",
            "(65.0%) Epoch : 39/60\n",
            "(66.67%) Epoch : 40/60\n",
            "(68.33%) Epoch : 41/60\n",
            "(70.0%) Epoch : 42/60\n",
            "(71.67%) Epoch : 43/60\n",
            "(73.33%) Epoch : 44/60\n",
            "(75.0%) Epoch : 45/60\n",
            "(76.67%) Epoch : 46/60\n",
            "(78.33%) Epoch : 47/60\n",
            "(80.0%) Epoch : 48/60\n",
            "(81.67%) Epoch : 49/60\n",
            "(83.33%) Epoch : 50/60\n",
            "(85.0%) Epoch : 51/60\n",
            "(86.67%) Epoch : 52/60\n",
            "(88.33%) Epoch : 53/60\n",
            "(90.0%) Epoch : 54/60\n",
            "(91.67%) Epoch : 55/60\n",
            "(93.33%) Epoch : 56/60\n",
            "(95.0%) Epoch : 57/60\n",
            "(96.67%) Epoch : 58/60\n",
            "(98.33%) Epoch : 59/60\n",
            "(100.0%) Epoch : 60/60\n",
            "Finished Training, \n",
            "Training took 1115.9803247451782 seconds\n",
            "18.599672079086304 min\n",
            "0.3099945346514384 hr\n"
          ]
        }
      ]
    },
    {
      "cell_type": "markdown",
      "metadata": {
        "id": "081506e4"
      },
      "source": [
        "---------------------\n",
        "#### (optionals) Save the trained model"
      ],
      "id": "081506e4"
    },
    {
      "cell_type": "code",
      "metadata": {
        "id": "4c15d381"
      },
      "source": [
        "# PATH = './cifar_net_bn.pth'\n",
        "# torch.save(net.state_dict(), PATH)"
      ],
      "id": "4c15d381",
      "execution_count": null,
      "outputs": []
    },
    {
      "cell_type": "markdown",
      "metadata": {
        "id": "fc800c27"
      },
      "source": [
        "---------------------\n",
        "#### (optionals)  Load the model back"
      ],
      "id": "fc800c27"
    },
    {
      "cell_type": "code",
      "metadata": {
        "id": "9d0c8c59"
      },
      "source": [
        "# net = Net()\n",
        "# net.load_state_dict(torch.load(PATH))"
      ],
      "id": "9d0c8c59",
      "execution_count": null,
      "outputs": []
    },
    {
      "cell_type": "markdown",
      "metadata": {
        "id": "980eb220"
      },
      "source": [
        "---------------------\n",
        "#### (optionals)  Try one item in the test dataset using the model"
      ],
      "id": "980eb220"
    },
    {
      "cell_type": "code",
      "metadata": {
        "id": "128ca36e",
        "colab": {
          "base_uri": "https://localhost:8080/",
          "height": 335
        },
        "outputId": "247e2da0-75b2-41c3-a601-d273f5d743cf"
      },
      "source": [
        "index = 30\n",
        "\n",
        "net.eval()\n",
        "\n",
        "for data in testloader:\n",
        "    image, label = data[0].to(device), data[1].to(device)\n",
        "    break\n",
        "\n",
        "selected_image = torch.unsqueeze(image[index],0).to(device)\n",
        "\n",
        "imshow(image[index].to('cpu'))\n",
        "print('Target label : ', classes[labels[index]])\n",
        "\n",
        "prediction = net(selected_image)\n",
        "\n",
        "print('Predicted label : ',classes[prediction[0].argmax().item()])"
      ],
      "id": "128ca36e",
      "execution_count": null,
      "outputs": [
        {
          "output_type": "display_data",
          "data": {
            "image/png": "[encoded data removed]",
            "text/plain": [
              "<Figure size 432x288 with 1 Axes>"
            ]
          },
          "metadata": {
            "needs_background": "light"
          }
        },
        {
          "output_type": "stream",
          "name": "stdout",
          "text": [
            "Target label :  frog\n",
            "output_method1 :  6\n",
            "output_method2 :  6\n",
            "Predicted label :  frog\n"
          ]
        }
      ]
    },
    {
      "cell_type": "markdown",
      "metadata": {
        "id": "ca590c3d"
      },
      "source": [
        "---------------------\n",
        "#### 6. Check the Accuracy of the model from out datasets"
      ],
      "id": "ca590c3d"
    },
    {
      "cell_type": "code",
      "metadata": {
        "id": "abc173e4",
        "colab": {
          "base_uri": "https://localhost:8080/"
        },
        "outputId": "430da1f6-9008-42e8-8c9c-ac03c43281ad"
      },
      "source": [
        "start = time.time()\n",
        "\n",
        "correct = 0\n",
        "total = 0\n",
        "\n",
        "# since we're not training, we don't need to calculate the gradients for our outputs\n",
        "with torch.no_grad():\n",
        "    for data in trainloader:\n",
        "        # images, labels = data\n",
        "        images, labels = data[0].to(device), data[1].to(device) # To GPU\n",
        "        # calculate outputs by running images through the network \n",
        "        outputs = net(images)\n",
        "        # the class with the highest energy is what we choose as prediction\n",
        "        _, predicted = torch.max(outputs.data, 1)\n",
        "        total += labels.size(0)\n",
        "        correct += (predicted == labels).sum().item()\n",
        "\n",
        "print('Accuracy of the network on training images: %d %%' % (100 * correct / total))\n",
        "        \n",
        "correct = 0\n",
        "total = 0\n",
        "\n",
        "with torch.no_grad():\n",
        "    for data in testloader:\n",
        "        # images, labels = data\n",
        "        images, labels = data[0].to(device), data[1].to(device) # To GPU\n",
        "        outputs = net(images)\n",
        "        _, predicted = torch.max(outputs.data, 1)\n",
        "        total += labels.size(0)\n",
        "        correct += (predicted == labels).sum().item()\n",
        "\n",
        "print('Accuracy of the network on testing images: %d %%' % (100 * correct / total))\n",
        "\n",
        "end = time.time()\n",
        "\n",
        "print('The whole cell took ',(end-start), 'seconds')"
      ],
      "id": "abc173e4",
      "execution_count": null,
      "outputs": [
        {
          "output_type": "stream",
          "name": "stdout",
          "text": [
            "Accuracy of the network on training images: 88 %\n",
            "Accuracy of the network on testing images: 84 %\n",
            "The whole cell took  19.454512357711792 seconds\n"
          ]
        }
      ]
    },
    {
      "cell_type": "code",
      "metadata": {
        "id": "dqzDIgmKXRfz"
      },
      "source": [
        ""
      ],
      "id": "dqzDIgmKXRfz",
      "execution_count": null,
      "outputs": []
    }
  ]
}