{
  "nbformat": 4,
  "nbformat_minor": 5,
  "metadata": {
    "kernelspec": {
      "display_name": "Python 3",
      "language": "python",
      "name": "python3"
    },
    "language_info": {
      "codemirror_mode": {
        "name": "ipython",
        "version": 3
      },
      "file_extension": ".py",
      "mimetype": "text/x-python",
      "name": "python",
      "nbconvert_exporter": "python",
      "pygments_lexer": "ipython3",
      "version": "3.8.10"
    },
    "colab": {
      "name": "cifar10 pytorch 11Layer cnn_bn.ipynb",
      "provenance": [],
      "collapsed_sections": []
    },
    "accelerator": "GPU"
  },
  "cells": [
    {
      "cell_type": "code",
      "metadata": {
        "id": "fYEUgJ_SCCSW",
        "colab": {
          "base_uri": "https://localhost:8080/"
        },
        "outputId": "4353442d-24af-4ef3-bbc3-2c8dafec8d3a"
      },
      "source": [
        "from google.colab import drive\n",
        "drive.mount('/content/drive')"
      ],
      "id": "fYEUgJ_SCCSW",
      "execution_count": null,
      "outputs": [
        {
          "output_type": "stream",
          "name": "stdout",
          "text": [
            "Drive already mounted at /content/drive; to attempt to forcibly remount, call drive.mount(\"/content/drive\", force_remount=True).\n"
          ]
        }
      ]
    },
    {
      "cell_type": "markdown",
      "metadata": {
        "id": "c6f46fb1"
      },
      "source": [
        "----------------------"
      ],
      "id": "c6f46fb1"
    },
    {
      "cell_type": "markdown",
      "metadata": {
        "id": "e20c74ca"
      },
      "source": [
        "# A sample Convolutional Neural Network"
      ],
      "id": "e20c74ca"
    },
    {
      "cell_type": "markdown",
      "metadata": {
        "id": "6c4d7c85"
      },
      "source": [
        "---------------------\n",
        "---------------------\n",
        "#### 1. Download the CIFAR10 dataset\n",
        "\n",
        "    first we download the dataset needed, here we use the cifar10 image dataset"
      ],
      "id": "6c4d7c85"
    },
    {
      "cell_type": "code",
      "metadata": {
        "id": "tv_IphTgCe9K",
        "colab": {
          "base_uri": "https://localhost:8080/"
        },
        "outputId": "72d18cc4-4e13-499a-f507-e1694aac2465"
      },
      "source": [
        "import torch\n",
        "\n",
        "device = torch.device(\"cuda:0\" if torch.cuda.is_available() else \"cpu\")\n",
        "\n",
        "def device_stat(using_device):\n",
        "    if using_device.type == 'cuda':\n",
        "        print(torch.cuda.get_device_name(0))\n",
        "        print('Memory Usage:')\n",
        "        print('Allocated:', round(torch.cuda.memory_allocated(0)/1024**3,1), 'GB')\n",
        "        print('Cached:   ', round(torch.cuda.memory_cached(0)/1024**3,1), 'GB')\n",
        "    else:\n",
        "        print('cpu in use')\n",
        "\n",
        "device_stat(device)"
      ],
      "id": "tv_IphTgCe9K",
      "execution_count": null,
      "outputs": [
        {
          "output_type": "stream",
          "name": "stdout",
          "text": [
            "Tesla K80\n",
            "Memory Usage:\n",
            "Allocated: 0.0 GB\n",
            "Cached:    0.0 GB\n"
          ]
        },
        {
          "output_type": "stream",
          "name": "stderr",
          "text": [
            "/usr/local/lib/python3.7/dist-packages/torch/cuda/memory.py:375: FutureWarning: torch.cuda.memory_cached has been renamed to torch.cuda.memory_reserved\n",
            "  FutureWarning)\n"
          ]
        }
      ]
    },
    {
      "cell_type": "code",
      "metadata": {
        "scrolled": true,
        "colab": {
          "base_uri": "https://localhost:8080/"
        },
        "id": "5f41028d",
        "outputId": "8db94e27-27b3-4dc5-968e-ed1cf67aa832"
      },
      "source": [
        "import torchvision\n",
        "import torchvision.transforms as transforms\n",
        "\n",
        "# when applied, this will normalize the data from the ranges of (-1) to 1 \n",
        "train_transform = transforms.Compose([\n",
        "    transforms.Resize((112,112)),\n",
        "    transforms.RandomHorizontalFlip(),\n",
        "    transforms.RandomRotation(10),\n",
        "    transforms.ToTensor(),\n",
        "    transforms.Normalize((0.5,0.5,0.5), (0.5,0.5,0.5))\n",
        "])\n",
        "\n",
        "test_transform = transforms.Compose([\n",
        "    transforms.Resize((112,112)),\n",
        "    transforms.ToTensor(),\n",
        "    transforms.Normalize((0.5,0.5,0.5),(0.5,0.5,0.5))\n",
        "])\n",
        "\n",
        "trainset = torchvision.datasets.CIFAR10(root='./data', train=True,download=True, transform=train_transform)\n",
        "testset = torchvision.datasets.CIFAR10(root='./data', train=False,download=True, transform=test_transform)\n",
        "\n",
        "print('\\ntraining data set number of sample images = ',len(trainset))\n",
        "print('testing data set number of sample images  = ',len(testset))"
      ],
      "id": "5f41028d",
      "execution_count": null,
      "outputs": [
        {
          "output_type": "stream",
          "name": "stdout",
          "text": [
            "Files already downloaded and verified\n",
            "Files already downloaded and verified\n",
            "\n",
            "training data set number of sample images =  50000\n",
            "testing data set number of sample images  =  10000\n"
          ]
        }
      ]
    },
    {
      "cell_type": "markdown",
      "metadata": {
        "id": "3a76ccfe"
      },
      "source": [
        "---------------------\n",
        "#### 2. Partition the Datset into batches\n",
        "\n",
        "    here we partition the 50,000 training images into 100, making 500 batches and,\n",
        "    10,000 sample images of test images into 100, making 100 batches\n",
        "    \n",
        "    where each batches contains 100 images"
      ],
      "id": "3a76ccfe"
    },
    {
      "cell_type": "code",
      "metadata": {
        "id": "51e874a5",
        "colab": {
          "base_uri": "https://localhost:8080/"
        },
        "outputId": "8a1ea97c-f6ab-4648-d906-82b0aa5230e3"
      },
      "source": [
        "batch_size = 250\n",
        "\n",
        "trainloader = torch.utils.data.DataLoader(trainset, batch_size=batch_size,shuffle=True, num_workers=2)\n",
        "testloader = torch.utils.data.DataLoader(testset, batch_size=batch_size,shuffle=False, num_workers=2)\n",
        "\n",
        "classes = ('plane','car','bird','cat','deer','dog','frog','horse','ship','truck')\n",
        "\n",
        "device_stat(device)"
      ],
      "id": "51e874a5",
      "execution_count": null,
      "outputs": [
        {
          "output_type": "stream",
          "name": "stdout",
          "text": [
            "Tesla K80\n",
            "Memory Usage:\n",
            "Allocated: 0.0 GB\n",
            "Cached:    0.0 GB\n"
          ]
        },
        {
          "output_type": "stream",
          "name": "stderr",
          "text": [
            "/usr/local/lib/python3.7/dist-packages/torch/cuda/memory.py:375: FutureWarning: torch.cuda.memory_cached has been renamed to torch.cuda.memory_reserved\n",
            "  FutureWarning)\n"
          ]
        }
      ]
    },
    {
      "cell_type": "markdown",
      "metadata": {
        "id": "b27cbce1"
      },
      "source": [
        "---------------------\n",
        "##### (optionals) check the shape of our datasets"
      ],
      "id": "b27cbce1"
    },
    {
      "cell_type": "code",
      "metadata": {
        "colab": {
          "base_uri": "https://localhost:8080/"
        },
        "id": "90cfc512",
        "outputId": "f2892657-eef9-4176-a69f-21da46b3313e"
      },
      "source": [
        "# here we don't need to flatten every images in our dataset before feeding it to our neural network\n",
        "\n",
        "for data in trainloader:\n",
        "    images, labels = data\n",
        "    print('images dataset shape = ', images.shape)\n",
        "    print('labels dataset shape = ', labels.shape)\n",
        "    break\n"
      ],
      "id": "90cfc512",
      "execution_count": null,
      "outputs": [
        {
          "output_type": "stream",
          "name": "stdout",
          "text": [
            "images dataset shape =  torch.Size([250, 3, 112, 112])\n",
            "labels dataset shape =  torch.Size([250])\n"
          ]
        }
      ]
    },
    {
      "cell_type": "markdown",
      "metadata": {
        "id": "6eaa10d6"
      },
      "source": [
        "---------------------\n",
        "##### (optionals) Quick peek in the images"
      ],
      "id": "6eaa10d6"
    },
    {
      "cell_type": "code",
      "metadata": {
        "scrolled": true,
        "id": "f33e4b96",
        "colab": {
          "base_uri": "https://localhost:8080/",
          "height": 427
        },
        "outputId": "2f2fb165-5572-47a9-bd0f-411fe1058cb5"
      },
      "source": [
        "import matplotlib.pyplot as plt\n",
        "import numpy as np\n",
        "\n",
        "def imshow(img):\n",
        "    img = img / 2 + 0.5     # unnormalize\n",
        "    npimg = img.numpy()\n",
        "    plt.imshow(np.transpose(npimg, (1, 2, 0)))\n",
        "    plt.show()\n",
        "\n",
        "for data in trainloader:\n",
        "    image,label = data\n",
        "    break\n",
        "\n",
        "index = 0\n",
        "image = image[index]\n",
        "\n",
        "print('image shape = ',image.shape)\n",
        "\n",
        "imshow(image)\n",
        "print('label : ',classes[label[index].item()])\n",
        "\n",
        "# x_proc = torch.unsqueeze(x_subject,0)\n",
        "# print('unsqze x_proc shape', x_proc.shape)\n",
        "\n",
        "# x_proc = net.conv1(x)\n",
        "\n",
        "# print(x_proc.shape)\n",
        "# print('label : ',classes[y[index]])\n",
        "\n",
        "device_stat(device)"
      ],
      "id": "f33e4b96",
      "execution_count": null,
      "outputs": [
        {
          "output_type": "stream",
          "name": "stdout",
          "text": [
            "image shape =  torch.Size([3, 112, 112])\n"
          ]
        },
        {
          "output_type": "display_data",
          "data": {
            "image/png": "[encoded data removed]",
            "text/plain": [
              "<Figure size 432x288 with 1 Axes>"
            ]
          },
          "metadata": {
            "needs_background": "light"
          }
        },
        {
          "output_type": "stream",
          "name": "stdout",
          "text": [
            "label :  truck\n",
            "Tesla K80\n",
            "Memory Usage:\n",
            "Allocated: 0.0 GB\n",
            "Cached:    0.0 GB\n"
          ]
        },
        {
          "output_type": "stream",
          "name": "stderr",
          "text": [
            "/usr/local/lib/python3.7/dist-packages/torch/cuda/memory.py:375: FutureWarning: torch.cuda.memory_cached has been renamed to torch.cuda.memory_reserved\n",
            "  FutureWarning)\n"
          ]
        }
      ]
    },
    {
      "cell_type": "markdown",
      "metadata": {
        "id": "811ae8ce"
      },
      "source": [
        "---------------------\n",
        "#### 3. Build the Convolution Neural Network"
      ],
      "id": "811ae8ce"
    },
    {
      "cell_type": "code",
      "metadata": {
        "colab": {
          "base_uri": "https://localhost:8080/"
        },
        "id": "a515329b",
        "outputId": "8f160af5-9b73-4cef-d404-a3e4a4ca7a8b"
      },
      "source": [
        "import torch.nn as nn\n",
        "import torch.nn.functional as F\n",
        "\n",
        "\n",
        "class Net(nn.Module):\n",
        "    def __init__(self):\n",
        "        super().__init__()\n",
        "        \n",
        "        self.maxPool = nn.MaxPool2d(kernel_size=2, stride=2, padding=0, dilation=1, ceil_mode=False)\n",
        "        # self.avePool = nn.AdaptiveAvgPool2d(output_size=(7, 7))\n",
        "\n",
        "        self.drop1D = nn.Dropout(p=0.50, inplace=False)\n",
        "\n",
        "        self.conv1 = nn.Conv2d(3, 16, 3, stride=1, padding=1)\n",
        "        self.conv1_bn = nn.BatchNorm2d(16, eps=1e-05, momentum=0.1, affine=True)\n",
        "        self.conv2 = nn.Conv2d(16, 16, 3, stride=1, padding=1)\n",
        "        self.conv2_bn = nn.BatchNorm2d(16, eps=1e-05, momentum=0.1, affine=True)\n",
        "        \n",
        "        self.conv3 = nn.Conv2d(16, 32, 3, stride=1, padding=1)\n",
        "        self.conv3_bn = nn.BatchNorm2d(32, eps=1e-05, momentum=0.1, affine=True)\n",
        "        self.conv4 = nn.Conv2d(32, 32, 3, stride=1, padding=1)\n",
        "        self.conv4_bn = nn.BatchNorm2d(32, eps=1e-05, momentum=0.1, affine=True)\n",
        "\n",
        "        self.conv5 = nn.Conv2d(32, 64, 3, stride=1, padding=1)\n",
        "        self.conv5_bn = nn.BatchNorm2d(64, eps=1e-05, momentum=0.1, affine=True)\n",
        "        self.conv6 = nn.Conv2d(64, 64, 3, stride=1, padding=1)\n",
        "        self.conv6_bn = nn.BatchNorm2d(64, eps=1e-05, momentum=0.1, affine=True)\n",
        "        \n",
        "        self.conv7 = nn.Conv2d(64, 128, 3, stride=1, padding=1)\n",
        "        self.conv7_bn = nn.BatchNorm2d(128, eps=1e-05, momentum=0.1, affine=True)\n",
        "        self.conv8 = nn.Conv2d(128, 128, 3, stride=1, padding=1)\n",
        "        self.conv8_bn = nn.BatchNorm2d(128, eps=1e-05, momentum=0.1, affine=True)\n",
        "\n",
        "        self.conv9 = nn.Conv2d(128, 256, 3, stride=1, padding=1)\n",
        "        self.conv9_bn = nn.BatchNorm2d(256, eps=1e-05, momentum=0.1, affine=True)\n",
        "        self.conv10 = nn.Conv2d(256, 256, 3, stride=1, padding=1)\n",
        "        self.conv10_bn = nn.BatchNorm2d(256, eps=1e-05, momentum=0.1, affine=True)\n",
        "        self.conv11 = nn.Conv2d(256, 256, 3, stride=1, padding=1)\n",
        "        self.conv11_bn = nn.BatchNorm2d(256, eps=1e-05, momentum=0.1, affine=True)      \n",
        "\n",
        "        self.fc1 = nn.Linear(2304, 64)\n",
        "        self.fc2 = nn.Linear(64, 64)\n",
        "        self.fc3 = nn.Linear(64, 10)\n",
        "\n",
        "    def forward(self, x):\n",
        "        \n",
        "        x = F.relu(self.conv1_bn(self.conv1(x)), inplace=True)\n",
        "        x = F.relu(self.conv2_bn(self.conv2(x)), inplace=True)\n",
        "        x = self.maxPool(x)\n",
        "        # print('pool0 shape = ', x.shape)\n",
        "         \n",
        "        x = F.relu(self.conv3_bn(self.conv3(x)), inplace=True)\n",
        "        x = F.relu(self.conv4_bn(self.conv4(x)), inplace=True)\n",
        "        x = self.maxPool(x)\n",
        "        # print('pool1 shape = ', x.shape)\n",
        "        \n",
        "        x = F.relu(self.conv5_bn(self.conv5(x)), inplace=True)\n",
        "        x = F.relu(self.conv6_bn(self.conv6(x)), inplace=True)\n",
        "        x = self.maxPool(x)\n",
        "        # print('pool2 shape = ', x.shape)\n",
        "\n",
        "        x = F.relu(self.conv7_bn(self.conv7(x)), inplace=True)\n",
        "        x = F.relu(self.conv8_bn(self.conv8(x)), inplace=True)\n",
        "        x = self.maxPool(x)\n",
        "        # print('pool3 shape = ', x.shape)\n",
        "\n",
        "        x = F.relu(self.conv9_bn(self.conv9(x)), inplace=True)\n",
        "        x = F.relu(self.conv10_bn(self.conv10(x)), inplace=True)\n",
        "        x = F.relu(self.conv11_bn(self.conv11(x)), inplace=True)\n",
        "        x = self.maxPool(x)\n",
        "        # print('pool4 shape = ', x.shape)\n",
        "\n",
        "        # x = self.avePool(x)\n",
        "        # print('poolAve shape = ', x.shape)\n",
        "\n",
        "        x = torch.flatten(x, 1) # flatten all dimensions except batch\n",
        "        x = self.drop1D(x)\n",
        "        # print('flatten shape = ', x.shape)\n",
        "        \n",
        "        x = F.relu(self.fc1(x), inplace=True)\n",
        "        # print('first fc1 shape = ', x.shape)\n",
        "        \n",
        "        x = F.relu(self.fc2(x), inplace=True)\n",
        "        # print('first fc2 shape = ', x.shape)\n",
        "\n",
        "        x = self.fc3(x)\n",
        "        # print('first fc3 shape = ', x.shape)\n",
        "\n",
        "        # or use log_softmax\n",
        "        # x = F.log_softmax(x, dim=1)\n",
        "        # print('softmax shape = ', x.shape)\n",
        "\n",
        "        return x\n",
        "\n",
        "\n",
        "net = Net() # CPU\n",
        "\n",
        "net.to(device) # GPU\n",
        "\n",
        "print('device in use :',device)\n",
        "print('available devices :',torch.cuda.device_count())\n",
        "print(net)\n",
        "\n",
        "device_stat(device)"
      ],
      "id": "a515329b",
      "execution_count": null,
      "outputs": [
        {
          "output_type": "stream",
          "name": "stdout",
          "text": [
            "device in use : cuda:0\n",
            "available devices : 1\n",
            "Net(\n",
            "  (maxPool): MaxPool2d(kernel_size=2, stride=2, padding=0, dilation=1, ceil_mode=False)\n",
            "  (drop1D): Dropout(p=0.5, inplace=False)\n",
            "  (conv1): Conv2d(3, 16, kernel_size=(3, 3), stride=(1, 1), padding=(1, 1))\n",
            "  (conv1_bn): BatchNorm2d(16, eps=1e-05, momentum=0.1, affine=True, track_running_stats=True)\n",
            "  (conv2): Conv2d(16, 16, kernel_size=(3, 3), stride=(1, 1), padding=(1, 1))\n",
            "  (conv2_bn): BatchNorm2d(16, eps=1e-05, momentum=0.1, affine=True, track_running_stats=True)\n",
            "  (conv3): Conv2d(16, 32, kernel_size=(3, 3), stride=(1, 1), padding=(1, 1))\n",
            "  (conv3_bn): BatchNorm2d(32, eps=1e-05, momentum=0.1, affine=True, track_running_stats=True)\n",
            "  (conv4): Conv2d(32, 32, kernel_size=(3, 3), stride=(1, 1), padding=(1, 1))\n",
            "  (conv4_bn): BatchNorm2d(32, eps=1e-05, momentum=0.1, affine=True, track_running_stats=True)\n",
            "  (conv5): Conv2d(32, 64, kernel_size=(3, 3), stride=(1, 1), padding=(1, 1))\n",
            "  (conv5_bn): BatchNorm2d(64, eps=1e-05, momentum=0.1, affine=True, track_running_stats=True)\n",
            "  (conv6): Conv2d(64, 64, kernel_size=(3, 3), stride=(1, 1), padding=(1, 1))\n",
            "  (conv6_bn): BatchNorm2d(64, eps=1e-05, momentum=0.1, affine=True, track_running_stats=True)\n",
            "  (conv7): Conv2d(64, 128, kernel_size=(3, 3), stride=(1, 1), padding=(1, 1))\n",
            "  (conv7_bn): BatchNorm2d(128, eps=1e-05, momentum=0.1, affine=True, track_running_stats=True)\n",
            "  (conv8): Conv2d(128, 128, kernel_size=(3, 3), stride=(1, 1), padding=(1, 1))\n",
            "  (conv8_bn): BatchNorm2d(128, eps=1e-05, momentum=0.1, affine=True, track_running_stats=True)\n",
            "  (conv9): Conv2d(128, 256, kernel_size=(3, 3), stride=(1, 1), padding=(1, 1))\n",
            "  (conv9_bn): BatchNorm2d(256, eps=1e-05, momentum=0.1, affine=True, track_running_stats=True)\n",
            "  (conv10): Conv2d(256, 256, kernel_size=(3, 3), stride=(1, 1), padding=(1, 1))\n",
            "  (conv10_bn): BatchNorm2d(256, eps=1e-05, momentum=0.1, affine=True, track_running_stats=True)\n",
            "  (conv11): Conv2d(256, 256, kernel_size=(3, 3), stride=(1, 1), padding=(1, 1))\n",
            "  (conv11_bn): BatchNorm2d(256, eps=1e-05, momentum=0.1, affine=True, track_running_stats=True)\n",
            "  (fc1): Linear(in_features=2304, out_features=64, bias=True)\n",
            "  (fc2): Linear(in_features=64, out_features=64, bias=True)\n",
            "  (fc3): Linear(in_features=64, out_features=10, bias=True)\n",
            ")\n",
            "Tesla K80\n",
            "Memory Usage:\n",
            "Allocated: 0.0 GB\n",
            "Cached:    0.0 GB\n"
          ]
        },
        {
          "output_type": "stream",
          "name": "stderr",
          "text": [
            "/usr/local/lib/python3.7/dist-packages/torch/cuda/memory.py:375: FutureWarning: torch.cuda.memory_cached has been renamed to torch.cuda.memory_reserved\n",
            "  FutureWarning)\n"
          ]
        }
      ]
    },
    {
      "cell_type": "markdown",
      "metadata": {
        "id": "3d87bd4a"
      },
      "source": [
        "---------------------\n",
        "#### (optionals) NOTE : if you are curious on how to get the shapes after pooling or convolution, this is the function\n",
        "\n",
        "    though since I'm the one who wrote this one, there might be errors in this function"
      ],
      "id": "3d87bd4a"
    },
    {
      "cell_type": "code",
      "metadata": {
        "scrolled": true,
        "colab": {
          "base_uri": "https://localhost:8080/"
        },
        "id": "f801b5d6",
        "outputId": "537519e4-c59a-4e85-bb29-d9cd6371bddb"
      },
      "source": [
        "def conv_out_len(N,kernel_len=1, stride=1):\n",
        "    cnt = 0\n",
        "    i = 0\n",
        "    while i < N:\n",
        "        if i+kernel_len > N:\n",
        "            break\n",
        "        cnt += 1\n",
        "        i += stride\n",
        "    return cnt\n",
        "\n",
        "conv_out_len(6,kernel_len=2, stride=2)"
      ],
      "id": "f801b5d6",
      "execution_count": null,
      "outputs": [
        {
          "output_type": "execute_result",
          "data": {
            "text/plain": [
              "3"
            ]
          },
          "metadata": {},
          "execution_count": 8
        }
      ]
    },
    {
      "cell_type": "markdown",
      "metadata": {
        "id": "36778ec9"
      },
      "source": [
        "---------------------\n",
        "####  4. Choosing our optimizer\n",
        "    \n",
        "    you can use any optimizer you want, either the classic SGD(sochastic gradient descent), \n",
        "    or the newer ones like AdaGrad, and etc.\n",
        "    \n",
        "    but here we will used the most recent optimizer that is considered\n",
        "    to be one of the fastest optimizer for updating our neural networks' weight called 'Adam',\n",
        "    so that we will have a faster convergence and use only a small numbers of epoch(training loop)"
      ],
      "id": "36778ec9"
    },
    {
      "cell_type": "code",
      "metadata": {
        "id": "1133023f",
        "colab": {
          "base_uri": "https://localhost:8080/"
        },
        "outputId": "803e1144-9452-4a90-ace5-ca69b679dee3"
      },
      "source": [
        "import torch.optim as optim\n",
        "\n",
        "optimizer = optim.Adam(net.parameters(), lr=0.001)\n",
        "\n",
        "device_stat(device)"
      ],
      "id": "1133023f",
      "execution_count": null,
      "outputs": [
        {
          "output_type": "stream",
          "name": "stdout",
          "text": [
            "Tesla K80\n",
            "Memory Usage:\n",
            "Allocated: 0.0 GB\n",
            "Cached:    0.0 GB\n"
          ]
        },
        {
          "output_type": "stream",
          "name": "stderr",
          "text": [
            "/usr/local/lib/python3.7/dist-packages/torch/cuda/memory.py:375: FutureWarning: torch.cuda.memory_cached has been renamed to torch.cuda.memory_reserved\n",
            "  FutureWarning)\n"
          ]
        }
      ]
    },
    {
      "cell_type": "markdown",
      "metadata": {
        "id": "4265fbf3"
      },
      "source": [
        "---------------------\n",
        "#### 5. Train the neural network"
      ],
      "id": "4265fbf3"
    },
    {
      "cell_type": "code",
      "metadata": {
        "scrolled": true,
        "colab": {
          "base_uri": "https://localhost:8080/"
        },
        "id": "e934292e",
        "outputId": "aaaa0687-a5f5-480b-8e55-86af7f73f21a"
      },
      "source": [
        "import time\n",
        "\n",
        "start = time.time()\n",
        "\n",
        "\n",
        "criterion1 = nn.CrossEntropyLoss()\n",
        "\n",
        "EPOCH = 100\n",
        "\n",
        "net.train()\n",
        "\n",
        "i = 0\n",
        "for epoch in range(EPOCH):\n",
        "    i+=1\n",
        "    print('(',round((i/EPOCH)*100,2),'%) Epoch : ',i,'/',EPOCH, sep='')\n",
        "    for data in trainloader:\n",
        "        # inputs, labels = data # CPU\n",
        "        inputs, labels = data[0].to(device), data[1].to(device) # To GPU\n",
        "\n",
        "        # print('currect epoch gpu input :')\n",
        "        # device_stat(device)\n",
        "\n",
        "        optimizer.zero_grad()\n",
        "        outputs = net(inputs)\n",
        "        # loss = F.nll_loss(outputs, labels) # loss function use in tandem with log_softmax\n",
        "        loss = criterion1(outputs, labels)\n",
        "        loss.backward()\n",
        "        optimizer.step()\n",
        "\n",
        "end = time.time()\n",
        "\n",
        "dur_sec = end-start\n",
        "dur_min = dur_sec/60\n",
        "dur_hr  = dur_min/60\n",
        "\n",
        "print('Finished Training, \\nTraining took',dur_sec,'seconds')\n",
        "print('Min : ', dur_min)\n",
        "print('Hr  : ', dur_hr)"
      ],
      "id": "e934292e",
      "execution_count": null,
      "outputs": [
        {
          "output_type": "stream",
          "name": "stdout",
          "text": [
            "(1.0%) Epoch : 1/100\n",
            "(2.0%) Epoch : 2/100\n",
            "(3.0%) Epoch : 3/100\n",
            "(4.0%) Epoch : 4/100\n",
            "(5.0%) Epoch : 5/100\n",
            "(6.0%) Epoch : 6/100\n",
            "(7.0%) Epoch : 7/100\n",
            "(8.0%) Epoch : 8/100\n",
            "(9.0%) Epoch : 9/100\n",
            "(10.0%) Epoch : 10/100\n",
            "(11.0%) Epoch : 11/100\n",
            "(12.0%) Epoch : 12/100\n",
            "(13.0%) Epoch : 13/100\n",
            "(14.0%) Epoch : 14/100\n",
            "(15.0%) Epoch : 15/100\n",
            "(16.0%) Epoch : 16/100\n",
            "(17.0%) Epoch : 17/100\n",
            "(18.0%) Epoch : 18/100\n",
            "(19.0%) Epoch : 19/100\n",
            "(20.0%) Epoch : 20/100\n",
            "(21.0%) Epoch : 21/100\n",
            "(22.0%) Epoch : 22/100\n",
            "(23.0%) Epoch : 23/100\n",
            "(24.0%) Epoch : 24/100\n",
            "(25.0%) Epoch : 25/100\n",
            "(26.0%) Epoch : 26/100\n",
            "(27.0%) Epoch : 27/100\n",
            "(28.0%) Epoch : 28/100\n",
            "(29.0%) Epoch : 29/100\n",
            "(30.0%) Epoch : 30/100\n",
            "(31.0%) Epoch : 31/100\n",
            "(32.0%) Epoch : 32/100\n",
            "(33.0%) Epoch : 33/100\n",
            "(34.0%) Epoch : 34/100\n",
            "(35.0%) Epoch : 35/100\n",
            "(36.0%) Epoch : 36/100\n",
            "(37.0%) Epoch : 37/100\n",
            "(38.0%) Epoch : 38/100\n",
            "(39.0%) Epoch : 39/100\n",
            "(40.0%) Epoch : 40/100\n",
            "(41.0%) Epoch : 41/100\n",
            "(42.0%) Epoch : 42/100\n",
            "(43.0%) Epoch : 43/100\n",
            "(44.0%) Epoch : 44/100\n",
            "(45.0%) Epoch : 45/100\n",
            "(46.0%) Epoch : 46/100\n",
            "(47.0%) Epoch : 47/100\n",
            "(48.0%) Epoch : 48/100\n",
            "(49.0%) Epoch : 49/100\n",
            "(50.0%) Epoch : 50/100\n",
            "(51.0%) Epoch : 51/100\n",
            "(52.0%) Epoch : 52/100\n",
            "(53.0%) Epoch : 53/100\n",
            "(54.0%) Epoch : 54/100\n",
            "(55.0%) Epoch : 55/100\n",
            "(56.0%) Epoch : 56/100\n",
            "(57.0%) Epoch : 57/100\n",
            "(58.0%) Epoch : 58/100\n",
            "(59.0%) Epoch : 59/100\n",
            "(60.0%) Epoch : 60/100\n",
            "(61.0%) Epoch : 61/100\n",
            "(62.0%) Epoch : 62/100\n",
            "(63.0%) Epoch : 63/100\n",
            "(64.0%) Epoch : 64/100\n",
            "(65.0%) Epoch : 65/100\n",
            "(66.0%) Epoch : 66/100\n",
            "(67.0%) Epoch : 67/100\n",
            "(68.0%) Epoch : 68/100\n",
            "(69.0%) Epoch : 69/100\n",
            "(70.0%) Epoch : 70/100\n"
          ]
        }
      ]
    },
    {
      "cell_type": "markdown",
      "metadata": {
        "id": "081506e4"
      },
      "source": [
        "---------------------\n",
        "#### (optionals) Save the trained model"
      ],
      "id": "081506e4"
    },
    {
      "cell_type": "code",
      "metadata": {
        "id": "4c15d381",
        "colab": {
          "base_uri": "https://localhost:8080/"
        },
        "outputId": "723f64bc-de12-4eda-8fc4-65e58e9ada5f"
      },
      "source": [
        "net.eval()\n",
        "net.to('cpu')\n",
        "PATH = 'drive/MyDrive/Colab Notebooks/cifar10_cnn_bn_200epoch.pth'\n",
        "torch.save(net.state_dict(), PATH)\n",
        "net.to(device)"
      ],
      "id": "4c15d381",
      "execution_count": null,
      "outputs": [
        {
          "output_type": "execute_result",
          "data": {
            "text/plain": [
              "Net(\n",
              "  (maxPool): MaxPool2d(kernel_size=2, stride=2, padding=0, dilation=1, ceil_mode=False)\n",
              "  (drop1D): Dropout(p=0.5, inplace=False)\n",
              "  (conv1): Conv2d(3, 16, kernel_size=(3, 3), stride=(1, 1), padding=(1, 1))\n",
              "  (conv1_bn): BatchNorm2d(16, eps=1e-05, momentum=0.1, affine=True, track_running_stats=True)\n",
              "  (conv2): Conv2d(16, 16, kernel_size=(3, 3), stride=(1, 1), padding=(1, 1))\n",
              "  (conv2_bn): BatchNorm2d(16, eps=1e-05, momentum=0.1, affine=True, track_running_stats=True)\n",
              "  (conv3): Conv2d(16, 32, kernel_size=(3, 3), stride=(1, 1), padding=(1, 1))\n",
              "  (conv3_bn): BatchNorm2d(32, eps=1e-05, momentum=0.1, affine=True, track_running_stats=True)\n",
              "  (conv4): Conv2d(32, 32, kernel_size=(3, 3), stride=(1, 1), padding=(1, 1))\n",
              "  (conv4_bn): BatchNorm2d(32, eps=1e-05, momentum=0.1, affine=True, track_running_stats=True)\n",
              "  (conv5): Conv2d(32, 64, kernel_size=(3, 3), stride=(1, 1), padding=(1, 1))\n",
              "  (conv5_bn): BatchNorm2d(64, eps=1e-05, momentum=0.1, affine=True, track_running_stats=True)\n",
              "  (conv6): Conv2d(64, 64, kernel_size=(3, 3), stride=(1, 1), padding=(1, 1))\n",
              "  (conv6_bn): BatchNorm2d(64, eps=1e-05, momentum=0.1, affine=True, track_running_stats=True)\n",
              "  (conv7): Conv2d(64, 128, kernel_size=(3, 3), stride=(1, 1), padding=(1, 1))\n",
              "  (conv7_bn): BatchNorm2d(128, eps=1e-05, momentum=0.1, affine=True, track_running_stats=True)\n",
              "  (conv8): Conv2d(128, 128, kernel_size=(3, 3), stride=(1, 1), padding=(1, 1))\n",
              "  (conv8_bn): BatchNorm2d(128, eps=1e-05, momentum=0.1, affine=True, track_running_stats=True)\n",
              "  (conv9): Conv2d(128, 256, kernel_size=(3, 3), stride=(1, 1), padding=(1, 1))\n",
              "  (conv9_bn): BatchNorm2d(256, eps=1e-05, momentum=0.1, affine=True, track_running_stats=True)\n",
              "  (conv10): Conv2d(256, 256, kernel_size=(3, 3), stride=(1, 1), padding=(1, 1))\n",
              "  (conv10_bn): BatchNorm2d(256, eps=1e-05, momentum=0.1, affine=True, track_running_stats=True)\n",
              "  (conv11): Conv2d(256, 256, kernel_size=(3, 3), stride=(1, 1), padding=(1, 1))\n",
              "  (conv11_bn): BatchNorm2d(256, eps=1e-05, momentum=0.1, affine=True, track_running_stats=True)\n",
              "  (fc1): Linear(in_features=2304, out_features=64, bias=True)\n",
              "  (fc2): Linear(in_features=64, out_features=64, bias=True)\n",
              "  (fc3): Linear(in_features=64, out_features=10, bias=True)\n",
              ")"
            ]
          },
          "metadata": {},
          "execution_count": 11
        }
      ]
    },
    {
      "cell_type": "markdown",
      "metadata": {
        "id": "fc800c27"
      },
      "source": [
        "---------------------\n",
        "#### (optionals)  Load the model back"
      ],
      "id": "fc800c27"
    },
    {
      "cell_type": "code",
      "metadata": {
        "id": "9d0c8c59"
      },
      "source": [
        "# net = Net()\n",
        "# net.load_state_dict(torch.load(PATH))"
      ],
      "id": "9d0c8c59",
      "execution_count": null,
      "outputs": []
    },
    {
      "cell_type": "markdown",
      "metadata": {
        "id": "980eb220"
      },
      "source": [
        "---------------------\n",
        "#### (optionals)  Try one item in the test dataset using the model"
      ],
      "id": "980eb220"
    },
    {
      "cell_type": "code",
      "metadata": {
        "id": "128ca36e"
      },
      "source": [
        "# dataiter = iter(testloader)\n",
        "# # images, labels = dataiter.next()\n",
        "\n",
        "# # print images\n",
        "# imshow(torchvision.utils.make_grid(images))\n",
        "# print('GroundTruth: ', ' '.join('%5s' % classes[labels[j]] for j in range(4)))\n",
        "\n",
        "# outputs = net(images)\n",
        "# _, predicted = torch.max(outputs, 1)\n",
        "\n",
        "# print('Predicted: ', ' '.join('%5s' % classes[predicted[j]]for j in range(4)))"
      ],
      "id": "128ca36e",
      "execution_count": null,
      "outputs": []
    },
    {
      "cell_type": "markdown",
      "metadata": {
        "id": "ca590c3d"
      },
      "source": [
        "---------------------\n",
        "#### 6. Check the Accuracy of the model from out datasets"
      ],
      "id": "ca590c3d"
    },
    {
      "cell_type": "code",
      "metadata": {
        "id": "abc173e4",
        "colab": {
          "base_uri": "https://localhost:8080/"
        },
        "outputId": "c72c75aa-ade6-45fa-d226-5550cb0318b9"
      },
      "source": [
        "start = time.time()\n",
        "\n",
        "correct = 0\n",
        "total = 0\n",
        "\n",
        "# since we're not training, we don't need to calculate the gradients for our outputs\n",
        "with torch.no_grad():\n",
        "    for data in trainloader:\n",
        "        # images, labels = data\n",
        "        images, labels = data[0].to(device), data[1].to(device) # To GPU\n",
        "        # calculate outputs by running images through the network \n",
        "        outputs = net(images)\n",
        "        # the class with the highest energy is what we choose as prediction\n",
        "        _, predicted = torch.max(outputs.data, 1)\n",
        "        total += labels.size(0)\n",
        "        correct += (predicted == labels).sum().item()\n",
        "\n",
        "print('Accuracy of the network on training images: %d %%' % (100 * correct / total))\n",
        "        \n",
        "correct = 0\n",
        "total = 0\n",
        "\n",
        "with torch.no_grad():\n",
        "    for data in testloader:\n",
        "        # images, labels = data\n",
        "        images, labels = data[0].to(device), data[1].to(device) # To GPU\n",
        "        outputs = net(images)\n",
        "        _, predicted = torch.max(outputs.data, 1)\n",
        "        total += labels.size(0)\n",
        "        correct += (predicted == labels).sum().item()\n",
        "\n",
        "print('Accuracy of the network on testing images: %d %%' % (100 * correct / total))\n",
        "\n",
        "end = time.time()\n",
        "\n",
        "print('The whole cell took ',(end-start), 'seconds')"
      ],
      "id": "abc173e4",
      "execution_count": null,
      "outputs": [
        {
          "output_type": "stream",
          "name": "stdout",
          "text": [
            "Accuracy of the network on training images: 98 %\n",
            "Accuracy of the network on testing images: 89 %\n",
            "The whole cell took  50.881430864334106 seconds\n"
          ]
        }
      ]
    }
  ]
}