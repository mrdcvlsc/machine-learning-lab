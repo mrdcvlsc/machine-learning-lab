{
 "cells": [
  {
   "cell_type": "markdown",
   "id": "14085acd",
   "metadata": {},
   "source": [
    "# A Feedforward Neural Network Implementation Using Pytorch"
   ]
  },
  {
   "cell_type": "markdown",
   "id": "6f6464b6",
   "metadata": {},
   "source": [
    "#### 1. Data Pre-processing "
   ]
  },
  {
   "cell_type": "code",
   "execution_count": 1,
   "id": "47337647",
   "metadata": {},
   "outputs": [
    {
     "name": "stdout",
     "output_type": "stream",
     "text": [
      "loading dataloader\n",
      "Data loading took 79.51316976547241 seconds\n",
      "loading datasets\n"
     ]
    }
   ],
   "source": [
    "import torch\n",
    "from torch.utils.data import Dataset, DataLoader\n",
    "import numpy as np\n",
    "\n",
    "path_fmnist_train = 'mnist_fashion/fashion-mnist_train.csv'\n",
    "path_fmnist_test = 'mnist_fashion/fashion-mnist_test.csv'\n",
    "\n",
    "class loadDataset(Dataset):\n",
    "    \n",
    "    def __init__(self,dataset_path):\n",
    "        \n",
    "        cvs_file = np.loadtxt(dataset_path, delimiter=',', dtype=np.float32, skiprows=1)\n",
    "        \n",
    "        self.len = cvs_file.shape[0]\n",
    "        self.X = cvs_file[:,1:]/255\n",
    "        self.Y = cvs_file[:,0].astype(np.int64)\n",
    "        \n",
    "    def __getitem__(self, index):\n",
    "        return self.X[index], self.Y[index]\n",
    "    \n",
    "    def __len__(self):\n",
    "        return self.len\n",
    "        \n",
    "import time\n",
    "\n",
    "start = time.time()\n",
    "print('loading dataloader')\n",
    "trainDataloader = loadDataset(path_fmnist_train)\n",
    "testDataloader = loadDataset(path_fmnist_test)\n",
    "end = time.time()\n",
    "print('Data loading took',(end-start),'seconds')\n",
    "\n",
    "print('loading datasets')\n",
    "fmnist_train = DataLoader(dataset=trainDataloader, batch_size=100, shuffle=True, num_workers=4)\n",
    "fmnist_test = DataLoader(dataset=testDataloader, batch_size=100, shuffle=True, num_workers=4)"
   ]
  },
  {
   "cell_type": "markdown",
   "id": "c3bc8d48",
   "metadata": {},
   "source": [
    "#### 2. Building The Neural Network"
   ]
  },
  {
   "cell_type": "code",
   "execution_count": 2,
   "id": "a9840afe",
   "metadata": {},
   "outputs": [],
   "source": [
    "import torch.nn as nn\n",
    "import torch.nn.functional as nnf\n",
    "\n",
    "class neuralNetwork(nn.Module):\n",
    "    \n",
    "    def __init__(self):\n",
    "        super().__init__()\n",
    "        self.input_layer   = nn.Linear(28*28,64)\n",
    "        self.hidden_layer1 = nn.Linear(64,64)\n",
    "        self.hidden_layer2 = nn.Linear(64,64)\n",
    "        self.output_layer  = nn.Linear(64,10)\n",
    "        \n",
    "    def forward(self, x):\n",
    "        x = nnf.relu(self.input_layer(x))\n",
    "        x = nnf.relu(self.hidden_layer1(x))\n",
    "        x = nnf.relu(self.hidden_layer2(x))\n",
    "        return nnf.log_softmax(self.output_layer(x),dim=1)\n",
    "    \n",
    "fmnist_classifier = neuralNetwork()"
   ]
  },
  {
   "cell_type": "markdown",
   "id": "d64d612b",
   "metadata": {},
   "source": [
    "#### 3. Training The Neural Network"
   ]
  },
  {
   "cell_type": "code",
   "execution_count": 3,
   "id": "5d6d5d13",
   "metadata": {},
   "outputs": [
    {
     "name": "stdout",
     "output_type": "stream",
     "text": [
      "tensor(0.3953, grad_fn=<NllLossBackward>)\n",
      "tensor(0.3154, grad_fn=<NllLossBackward>)\n",
      "tensor(0.4694, grad_fn=<NllLossBackward>)\n",
      "Training took 34.6606867313385 seconds\n"
     ]
    }
   ],
   "source": [
    "import torch.optim as train\n",
    "\n",
    "optimizer = train.Adam(fmnist_classifier.parameters(), lr=0.001)\n",
    "\n",
    "start = time.time()\n",
    "\n",
    "epoch = 3\n",
    "\n",
    "for i in range(epoch):\n",
    "    for data in fmnist_train:\n",
    "        X, Y = data\n",
    "        output = fmnist_classifier(X)\n",
    "        loss = nnf.nll_loss(output,Y)\n",
    "        loss.backward()\n",
    "        optimizer.step()\n",
    "        fmnist_classifier.zero_grad()\n",
    "    print(loss)\n",
    "    \n",
    "end = time.time()\n",
    "\n",
    "print('Training took',(end-start),'seconds')\n"
   ]
  },
  {
   "cell_type": "markdown",
   "id": "3d8c60db",
   "metadata": {},
   "source": [
    "#### 4. Cross-validation "
   ]
  },
  {
   "cell_type": "code",
   "execution_count": 4,
   "id": "a196878e",
   "metadata": {},
   "outputs": [
    {
     "name": "stdout",
     "output_type": "stream",
     "text": [
      "Train dataset Accuracy:  0.876\n",
      "Train dataset Accuracy:  0.867\n"
     ]
    }
   ],
   "source": [
    "correct = 0\n",
    "total = 0\n",
    "\n",
    "with torch.no_grad():\n",
    "    for data in fmnist_train:\n",
    "        X, y = data\n",
    "        output = fmnist_classifier(X.view(-1,784))\n",
    "        #print(output)\n",
    "        for idx, i in enumerate(output):\n",
    "            #print(torch.argmax(i), y[idx])\n",
    "            if torch.argmax(i) == y[idx]:\n",
    "                correct += 1\n",
    "            total += 1\n",
    "\n",
    "print(\"Train dataset Accuracy: \", round(correct/total, 3))\n",
    "\n",
    "correct = 0\n",
    "total = 0\n",
    "\n",
    "with torch.no_grad():\n",
    "    for data in fmnist_test:\n",
    "        X, y = data\n",
    "        output = fmnist_classifier(X.view(-1,784))\n",
    "        #print(output)\n",
    "        for idx, i in enumerate(output):\n",
    "            #print(torch.argmax(i), y[idx])\n",
    "            if torch.argmax(i) == y[idx]:\n",
    "                correct += 1\n",
    "            total += 1\n",
    "\n",
    "print(\"Train dataset Accuracy: \", round(correct/total, 3))"
   ]
  },
  {
   "cell_type": "code",
   "execution_count": 5,
   "id": "3600fd11",
   "metadata": {},
   "outputs": [
    {
     "data": {
      "image/png": "[encoded data removed]",
      "text/plain": [
       "<Figure size 432x288 with 1 Axes>"
      ]
     },
     "metadata": {
      "needs_background": "light"
     },
     "output_type": "display_data"
    },
    {
     "name": "stdout",
     "output_type": "stream",
     "text": [
      "predicted output =  Dress\n",
      "target output    =  Dress\n"
     ]
    }
   ],
   "source": [
    "index = 7\n",
    "\n",
    "labelsmap = {0:'T-shirt/top',1:'Trouser',2:'Pullover',3:'Dress',4:'Coat',5:'Sandal',6:'Shirt',7:'Sneaker',8:'Bag',9:'Ankle boot'}\n",
    "\n",
    "import matplotlib.pyplot as plt\n",
    "plt.imshow(X[index].view(28,28))\n",
    "plt.show()\n",
    "\n",
    "print('predicted output = ',labelsmap[torch.argmax(fmnist_classifier(X[index].view(1,784))[0]).item()])\n",
    "print('target output    = ',labelsmap[y[index].item()])"
   ]
  },
  {
   "cell_type": "code",
   "execution_count": null,
   "id": "8883c476",
   "metadata": {},
   "outputs": [],
   "source": []
  }
 ],
 "metadata": {
  "kernelspec": {
   "display_name": "Python 3",
   "language": "python",
   "name": "python3"
  },
  "language_info": {
   "codemirror_mode": {
    "name": "ipython",
    "version": 3
   },
   "file_extension": ".py",
   "mimetype": "text/x-python",
   "name": "python",
   "nbconvert_exporter": "python",
   "pygments_lexer": "ipython3",
   "version": "3.8.10"
  }
 },
 "nbformat": 4,
 "nbformat_minor": 5
}
