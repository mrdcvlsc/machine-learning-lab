{
 "cells": [
  {
   "cell_type": "markdown",
   "id": "34840302",
   "metadata": {},
   "source": [
    "##### About the code below\n",
    "    this is the overall code of sentdex's 1'st tutorial\n",
    "    from his pytorch series in youtube with some additional code,\n",
    "    his tutorial playlist is in the link below\n",
    "\n",
    "##### Pytorch - Deep learning w/ Python : https://www.youtube.com/playlist?list=PLQVvvaa0QuDdeMyHEYc0gxFpYwHY2Qfdh"
   ]
  },
  {
   "cell_type": "markdown",
   "id": "81306e7f",
   "metadata": {},
   "source": [
    "## Using pytorch Neural Network module"
   ]
  },
  {
   "cell_type": "code",
   "execution_count": 1,
   "id": "318b5940",
   "metadata": {},
   "outputs": [],
   "source": [
    "import torch"
   ]
  },
  {
   "cell_type": "markdown",
   "id": "04dbe0ba",
   "metadata": {},
   "source": [
    "##### importing the MNIST digit dataset that we will be using"
   ]
  },
  {
   "cell_type": "code",
   "execution_count": 2,
   "id": "33f79979",
   "metadata": {},
   "outputs": [
    {
     "name": "stdout",
     "output_type": "stream",
     "text": [
      "number of train samples : 60000\n",
      "number of test  samples : 10000\n",
      "torch.Size([100, 1, 28, 28])\n",
      "torch.Size([100])\n",
      "torch.Size([100, 784])\n"
     ]
    }
   ],
   "source": [
    "import torchvision\n",
    "from torchvision import transforms, datasets\n",
    "\n",
    "BATCH_SIZE = 100\n",
    "\n",
    "train = datasets.MNIST(\"\", train=True, download=True, transform = transforms.Compose([transforms.ToTensor()]))\n",
    "test = datasets.MNIST(\"\", train=False, download=True, transform = transforms.Compose([transforms.ToTensor()]))\n",
    "\n",
    "print('number of train samples :',len(train)) # 60,000\n",
    "print('number of test  samples :',len(test))  # 10,000\n",
    "# the 'train' set inside contains 60,000 2d tensor of images with labels\n",
    "# the 'test'  set inside contains 10,000 2d tensor of images with labels\n",
    "\n",
    "trainset = torch.utils.data.DataLoader(train, batch_size=BATCH_SIZE, shuffle=True)\n",
    "testset = torch.utils.data.DataLoader(test, batch_size=BATCH_SIZE, shuffle=True)\n",
    "# we partioned the train & test sets into batches of 100 into the trainset & testseta.\n",
    "# each iteration of the trainset, and testset when unpacked inside a for loop contains\n",
    "# a tuple or a list with a length size of 2.\n",
    "\n",
    "# let us call each 'iteration' of the trainset as 'data'\n",
    "\n",
    "# the first index of the data == data[0] == a, contains a 100x1x28x28 tensor,\n",
    "# the 100x1 part is a tensor that contains a 28x28 tensor per row\n",
    "# the second index of the data == data[1] == b, constains a 100x tensor array these are the labels\n",
    "# of each 100 samples\n",
    "\n",
    "# when we pass the first index of data == data[0] == a into our network, for each iteration of trainset,\n",
    "# we need to reshape it into a 100x784 tensor where 100 is the batch size,\n",
    "# and 784 is the flatten 28x28 image tensor.\n",
    "# we can do that using the method '.view(-1,28*28)'"
   ]
  },
  {
   "cell_type": "markdown",
   "id": "997cf7ed",
   "metadata": {},
   "source": [
    "##### importing the neural network module of pytorch and creating our neural network model"
   ]
  },
  {
   "cell_type": "code",
   "execution_count": 3,
   "id": "1d43b33c",
   "metadata": {},
   "outputs": [],
   "source": [
    "import torch.nn as nn\n",
    "import torch.nn.functional as F\n",
    "\n",
    "class NeuralNetwork(nn.Module):\n",
    "    def __init__(self):\n",
    "        super().__init__()\n",
    "        self.fc1 = nn.Linear(28*28, 64)\n",
    "        self.fc2 = nn.Linear(64, 64)\n",
    "        self.fc3 = nn.Linear(64, 64)\n",
    "        self.fc4 = nn.Linear(64, 10)\n",
    "\n",
    "    def forward(self, x):\n",
    "        x = F.relu(self.fc1(x))\n",
    "        x = F.relu(self.fc2(x))\n",
    "        x = F.relu(self.fc3(x))\n",
    "        x = self.fc4(x)\n",
    "        return F.log_softmax(x, dim=1)\n",
    "\n",
    "nnet = NeuralNetwork()"
   ]
  },
  {
   "cell_type": "markdown",
   "id": "47a0d1bb",
   "metadata": {},
   "source": [
    "##### training our neural network with the MNIST digit dataset"
   ]
  },
  {
   "cell_type": "code",
   "execution_count": 4,
   "id": "08df9698",
   "metadata": {},
   "outputs": [
    {
     "name": "stdout",
     "output_type": "stream",
     "text": [
      "tensor(0.3343, grad_fn=<NllLossBackward>)\n",
      "tensor(0.1276, grad_fn=<NllLossBackward>)\n",
      "tensor(0.0544, grad_fn=<NllLossBackward>)\n",
      "\n",
      "The total training time took 72.91031193733215 seconds\n"
     ]
    }
   ],
   "source": [
    "import torch.optim as optim\n",
    "\n",
    "loss_function = nn.CrossEntropyLoss()\n",
    "optimizer = optim.Adam(nnet.parameters(), lr=0.001)\n",
    "\n",
    "import time\n",
    "\n",
    "start = time.time()\n",
    "\n",
    "for epoch in range(3):\n",
    "    for data in trainset:\n",
    "        X, y = data\n",
    "        nnet.zero_grad()\n",
    "        output = nnet(X.view(-1,784))\n",
    "        loss = F.nll_loss(output, y)\n",
    "        loss.backward()\n",
    "        optimizer.step()\n",
    "    print(loss)\n",
    "    \n",
    "end = time.time()\n",
    "\n",
    "print('\\nThe total training time took',(end-start),'seconds')"
   ]
  },
  {
   "cell_type": "markdown",
   "id": "3f890028",
   "metadata": {},
   "source": [
    "##### testing our neural network with MNIST test and training datasets"
   ]
  },
  {
   "cell_type": "code",
   "execution_count": 5,
   "id": "4e419672",
   "metadata": {},
   "outputs": [
    {
     "name": "stdout",
     "output_type": "stream",
     "text": [
      "Train dataset Accuracy:  0.967\n",
      "Test dataset Accuracy:  0.962\n"
     ]
    }
   ],
   "source": [
    "correct = 0\n",
    "total = 0\n",
    "\n",
    "with torch.no_grad():\n",
    "    for data in trainset:\n",
    "        X, y = data\n",
    "        output = nnet(X.view(-1,784))\n",
    "        #print(output)\n",
    "        for idx, i in enumerate(output):\n",
    "            #print(torch.argmax(i), y[idx])\n",
    "            if torch.argmax(i) == y[idx]:\n",
    "                correct += 1\n",
    "            total += 1\n",
    "\n",
    "print(\"Train dataset Accuracy: \", round(correct/total, 3))\n",
    "\n",
    "correct = 0\n",
    "total = 0\n",
    "\n",
    "with torch.no_grad():\n",
    "    for data in testset:\n",
    "        X, y = data\n",
    "        output = nnet(X.view(-1,784))\n",
    "        #print(output)\n",
    "        for idx, i in enumerate(output):\n",
    "            #print(torch.argmax(i), y[idx])\n",
    "            if torch.argmax(i) == y[idx]:\n",
    "                correct += 1\n",
    "            total += 1\n",
    "\n",
    "print(\"Test dataset Accuracy: \", round(correct/total, 3))"
   ]
  },
  {
   "cell_type": "markdown",
   "id": "80338002",
   "metadata": {},
   "source": [
    "##### looking at predictions"
   ]
  },
  {
   "cell_type": "code",
   "execution_count": 6,
   "id": "d9d3ab99",
   "metadata": {},
   "outputs": [
    {
     "data": {
      "image/png": "[encoded data removed]",
      "text/plain": [
       "<Figure size 432x288 with 1 Axes>"
      ]
     },
     "metadata": {
      "needs_background": "light"
     },
     "output_type": "display_data"
    },
    {
     "name": "stdout",
     "output_type": "stream",
     "text": [
      "predicted output =  tensor(3)\n",
      "target output    =  tensor(3)\n"
     ]
    }
   ],
   "source": [
    "index = 99\n",
    "\n",
    "import matplotlib.pyplot as plt\n",
    "plt.imshow(X[index].view(28,28))\n",
    "plt.show()\n",
    "print('predicted output = ',torch.argmax(nnet(X[index].view(-1,784))[0]))\n",
    "print('target output    = ',y[index])"
   ]
  },
  {
   "cell_type": "code",
   "execution_count": null,
   "id": "cd58b939",
   "metadata": {},
   "outputs": [],
   "source": []
  }
 ],
 "metadata": {
  "kernelspec": {
   "display_name": "Python 3",
   "language": "python",
   "name": "python3"
  },
  "language_info": {
   "codemirror_mode": {
    "name": "ipython",
    "version": 3
   },
   "file_extension": ".py",
   "mimetype": "text/x-python",
   "name": "python",
   "nbconvert_exporter": "python",
   "pygments_lexer": "ipython3",
   "version": "3.8.10"
  }
 },
 "nbformat": 4,
 "nbformat_minor": 5
}
