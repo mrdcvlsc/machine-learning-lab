{
 "cells": [
  {
   "cell_type": "code",
   "execution_count": 1,
   "id": "58a0810a",
   "metadata": {},
   "outputs": [],
   "source": [
    "import numpy as np\n",
    "import pandas as pd\n",
    "from myffnnmodule.ffnet import *\n",
    "from matplotlib import pyplot as plt\n",
    "%matplotlib inline"
   ]
  },
  {
   "cell_type": "code",
   "execution_count": 2,
   "id": "d83e11be",
   "metadata": {},
   "outputs": [],
   "source": [
    "#load data\n",
    "data = pd.read_csv('mnist_fashion/fashion-mnist_train.csv')"
   ]
  },
  {
   "cell_type": "code",
   "execution_count": 3,
   "id": "35928e58",
   "metadata": {},
   "outputs": [],
   "source": [
    "data = np.array(data)"
   ]
  },
  {
   "cell_type": "code",
   "execution_count": 4,
   "id": "0b1422aa",
   "metadata": {},
   "outputs": [
    {
     "data": {
      "text/plain": [
       "(60000,)"
      ]
     },
     "execution_count": 4,
     "metadata": {},
     "output_type": "execute_result"
    }
   ],
   "source": [
    "y_labels = data[:,0]\n",
    "y_labels.shape"
   ]
  },
  {
   "cell_type": "code",
   "execution_count": 5,
   "id": "ceee22c6",
   "metadata": {},
   "outputs": [
    {
     "data": {
      "text/plain": [
       "(784, 60000)"
      ]
     },
     "execution_count": 5,
     "metadata": {},
     "output_type": "execute_result"
    }
   ],
   "source": [
    "x_train = data[:,1:data.shape[1]]\n",
    "x_train = x_train.T\n",
    "x_train = x_train/255\n",
    "x_train.shape"
   ]
  },
  {
   "cell_type": "code",
   "execution_count": 6,
   "id": "506f28e8",
   "metadata": {},
   "outputs": [],
   "source": [
    "fmnist = nnet(784,10)\n",
    "fmnist.addLayer(24,activate=ReLu,weight_initializer=KaimingHe)\n",
    "fmnist.addLayer(10,activate=ReLu,weight_initializer=KaimingHe)\n",
    "fmnist.addLayer(10,activate=softMax)"
   ]
  },
  {
   "cell_type": "code",
   "execution_count": 7,
   "id": "5f4a4c8e",
   "metadata": {
    "scrolled": false
   },
   "outputs": [
    {
     "name": "stdout",
     "output_type": "stream",
     "text": [
      "\n",
      "---- Gradient descent ---------------------------------------------------\n",
      "X input shape = \n",
      " (784, 60000)\n",
      "\n",
      "Y_target_labels shape input = \n",
      " (60000,)\n",
      "-------------------------------------------------------------------------\n",
      "\n",
      "epoch :  0\n",
      "Neural network accuracy of : 10.23%\n",
      "\n",
      "epoch :  10\n",
      "Neural network accuracy of : 18.0867%\n",
      "\n",
      "epoch :  20\n",
      "Neural network accuracy of : 23.3083%\n",
      "\n",
      "epoch :  30\n",
      "Neural network accuracy of : 30.6433%\n",
      "\n",
      "epoch :  40\n",
      "Neural network accuracy of : 30.3167%\n",
      "\n",
      "epoch :  50\n",
      "Neural network accuracy of : 37.28%\n",
      "\n",
      "epoch :  60\n",
      "Neural network accuracy of : 44.11%\n",
      "\n",
      "epoch :  70\n",
      "Neural network accuracy of : 48.585%\n",
      "\n",
      "epoch :  80\n",
      "Neural network accuracy of : 51.9967%\n",
      "\n",
      "epoch :  90\n",
      "Neural network accuracy of : 57.965%\n",
      "\n",
      "epoch :  100\n",
      "Neural network accuracy of : 63.5467%\n",
      "\n",
      "epoch :  110\n",
      "Neural network accuracy of : 65.665%\n",
      "\n",
      "epoch :  120\n",
      "Neural network accuracy of : 67.0483%\n",
      "\n",
      "epoch :  130\n",
      "Neural network accuracy of : 68.3767%\n",
      "\n",
      "epoch :  140\n",
      "Neural network accuracy of : 69.625%\n",
      "\n",
      "epoch :  150\n",
      "Neural network accuracy of : 70.74%\n",
      "\n",
      "epoch :  160\n",
      "Neural network accuracy of : 71.7417%\n",
      "\n",
      "epoch :  170\n",
      "Neural network accuracy of : 72.5233%\n",
      "\n",
      "epoch :  180\n",
      "Neural network accuracy of : 73.2367%\n",
      "\n",
      "epoch :  190\n",
      "Neural network accuracy of : 73.8417%\n",
      "\n",
      "epoch :  200\n",
      "Neural network accuracy of : 74.42%\n",
      "\n",
      "epoch :  210\n",
      "Neural network accuracy of : 74.9383%\n",
      "\n",
      "epoch :  220\n",
      "Neural network accuracy of : 75.4%\n",
      "\n",
      "epoch :  230\n",
      "Neural network accuracy of : 75.8167%\n",
      "\n",
      "epoch :  240\n",
      "Neural network accuracy of : 76.1783%\n",
      "\n",
      "epoch :  250\n",
      "Neural network accuracy of : 76.545%\n",
      "\n",
      "epoch :  260\n",
      "Neural network accuracy of : 76.8567%\n",
      "\n",
      "epoch :  270\n",
      "Neural network accuracy of : 77.0983%\n",
      "\n",
      "epoch :  280\n",
      "Neural network accuracy of : 77.3283%\n",
      "\n",
      "epoch :  290\n",
      "Neural network accuracy of : 77.6033%\n",
      "\n",
      "epoch :  300\n",
      "Neural network accuracy of : 77.8467%\n",
      "\n",
      "epoch :  310\n",
      "Neural network accuracy of : 78.0117%\n",
      "\n",
      "epoch :  320\n",
      "Neural network accuracy of : 78.2617%\n",
      "\n",
      "epoch :  330\n",
      "Neural network accuracy of : 78.4483%\n",
      "\n",
      "epoch :  340\n",
      "Neural network accuracy of : 78.6317%\n",
      "\n",
      "epoch :  350\n",
      "Neural network accuracy of : 78.8017%\n",
      "\n",
      "epoch :  360\n",
      "Neural network accuracy of : 78.97%\n",
      "\n",
      "epoch :  370\n",
      "Neural network accuracy of : 79.1367%\n",
      "\n",
      "epoch :  380\n",
      "Neural network accuracy of : 79.275%\n",
      "\n",
      "epoch :  390\n",
      "Neural network accuracy of : 79.3717%\n",
      "\n",
      "epoch :  400\n",
      "Neural network accuracy of : 79.4933%\n",
      "\n",
      "epoch :  410\n",
      "Neural network accuracy of : 79.6317%\n",
      "\n",
      "epoch :  420\n",
      "Neural network accuracy of : 79.7583%\n",
      "\n",
      "epoch :  430\n",
      "Neural network accuracy of : 79.8817%\n",
      "\n",
      "epoch :  440\n",
      "Neural network accuracy of : 79.9983%\n",
      "\n",
      "epoch :  450\n",
      "Neural network accuracy of : 80.0767%\n",
      "\n",
      "epoch :  460\n",
      "Neural network accuracy of : 80.185%\n",
      "\n",
      "epoch :  470\n",
      "Neural network accuracy of : 80.265%\n",
      "\n",
      "epoch :  480\n",
      "Neural network accuracy of : 80.3667%\n",
      "\n",
      "epoch :  490\n",
      "Neural network accuracy of : 80.46%\n",
      "\n",
      "epoch :  500\n",
      "Neural network accuracy of : 80.5467%\n"
     ]
    }
   ],
   "source": [
    "fmnist.gradient_descent(x_train,y_labels,alpha=0.04,epoch=501)"
   ]
  },
  {
   "cell_type": "code",
   "execution_count": 8,
   "id": "72b06cea",
   "metadata": {},
   "outputs": [
    {
     "name": "stdout",
     "output_type": "stream",
     "text": [
      "\n",
      "Shapes of Layer  1\n",
      "\tW[ 1 ] =  (24, 784)\n",
      "\tb[ 1 ] =  (24, 1)\n",
      "\n",
      "Shapes of Layer  2\n",
      "\tW[ 2 ] =  (10, 24)\n",
      "\tb[ 2 ] =  (10, 1)\n",
      "\n",
      "Shapes of Layer  3\n",
      "\tW[ 3 ] =  (10, 10)\n",
      "\tb[ 3 ] =  (10, 1)\n"
     ]
    }
   ],
   "source": [
    "fmnist.network_shapes()"
   ]
  },
  {
   "cell_type": "code",
   "execution_count": 11,
   "id": "37d7230f",
   "metadata": {},
   "outputs": [
    {
     "name": "stdout",
     "output_type": "stream",
     "text": [
      "(784, 10000)\n",
      "\n",
      "test prediction : \n",
      "Neural network accuracy of : 80.2117%\n"
     ]
    }
   ],
   "source": [
    "data_test = pd.read_csv('mnist_fashion/fashion-mnist_test.csv')\n",
    "data_test = np.array(data_test)\n",
    "y_labels_test = data_test[:,0]\n",
    "y_labels_test.shape\n",
    "x_train_test = data_test[:,1:data_test.shape[1]]\n",
    "x_train_test = x_train_test.T\n",
    "x_train_test = x_train_test/255\n",
    "print(x_train_test.shape)\n",
    "\n",
    "print(\"\\ntest prediction : \")\n",
    "fmnist.feedForward(x_train)\n",
    "accuracy = fmnist.network_accuracy(y_labels)*100\n",
    "print('Neural network accuracy of : ',round(accuracy,4),'%',sep='')"
   ]
  },
  {
   "cell_type": "code",
   "execution_count": 47,
   "id": "1cbb5505",
   "metadata": {},
   "outputs": [
    {
     "name": "stdout",
     "output_type": "stream",
     "text": [
      "(784, 1)\n"
     ]
    },
    {
     "data": {
      "image/png": "[encoded data removed]",
      "text/plain": [
       "<Figure size 432x288 with 1 Axes>"
      ]
     },
     "metadata": {
      "needs_background": "light"
     },
     "output_type": "display_data"
    },
    {
     "name": "stdout",
     "output_type": "stream",
     "text": [
      "real label :  Trouser\n",
      "predicted label :  Pullover\n"
     ]
    }
   ],
   "source": [
    "test_index = 9999\n",
    "image_flat = np.array(x_train_test[:,test_index])\n",
    "image_subject = np.array([image_flat]).T\n",
    "print(image_subject.shape)\n",
    "image = image_flat.reshape((28,28))\n",
    "plt.imshow(image, interpolation='nearest')\n",
    "plt.gray()\n",
    "plt.show()\n",
    "\n",
    "answer_label = fmnist.feedForward_output(image_subject)\n",
    "\n",
    "maxval = -1\n",
    "maxindex = -1\n",
    "for i in range(fmnist.layers[-1].A.shape[0]):\n",
    "    if fmnist.layers[-1].A[i,0] > maxval:\n",
    "        maxval = fmnist.layers[-1].A[i,0]\n",
    "        maxindex = i\n",
    "\n",
    "labelsmap = {0:'T-shirt/top',1:'Trouser',2:'Pullover',3:'Dress',4:'Coat',5:'Sandal',6:'Shirt',7:'Sneaker',8:'Bag',9:'Ankle boot'}\n",
    "\n",
    "print('real label : ',labelsmap[y_labels_test[test_index]])\n",
    "print('predicted label : ',labelsmap[maxindex])"
   ]
  },
  {
   "cell_type": "code",
   "execution_count": null,
   "id": "d3ec0bd4",
   "metadata": {},
   "outputs": [],
   "source": []
  }
 ],
 "metadata": {
  "kernelspec": {
   "display_name": "Python 3",
   "language": "python",
   "name": "python3"
  },
  "language_info": {
   "codemirror_mode": {
    "name": "ipython",
    "version": 3
   },
   "file_extension": ".py",
   "mimetype": "text/x-python",
   "name": "python",
   "nbconvert_exporter": "python",
   "pygments_lexer": "ipython3",
   "version": "3.8.5"
  }
 },
 "nbformat": 4,
 "nbformat_minor": 5
}
