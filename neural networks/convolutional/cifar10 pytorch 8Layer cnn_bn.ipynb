{
  "nbformat": 4,
  "nbformat_minor": 5,
  "metadata": {
    "kernelspec": {
      "display_name": "Python 3",
      "language": "python",
      "name": "python3"
    },
    "language_info": {
      "codemirror_mode": {
        "name": "ipython",
        "version": 3
      },
      "file_extension": ".py",
      "mimetype": "text/x-python",
      "name": "python",
      "nbconvert_exporter": "python",
      "pygments_lexer": "ipython3",
      "version": "3.8.10"
    },
    "colab": {
      "name": "cifar10_miniNet_cnn_bn.ipynb",
      "provenance": [],
      "collapsed_sections": []
    },
    "accelerator": "GPU"
  },
  "cells": [
    {
      "cell_type": "markdown",
      "metadata": {
        "id": "e20c74ca"
      },
      "source": [
        "# Convolutional Neural Network\n",
        "\n",
        "    - network description\n",
        "\n",
        "        7 convolution layers with batch normalization\n",
        "        3 maxpooling layers\n",
        "        4 affine layers with dropout at the beginning\n",
        "        Using ReLU for all activation function of hidden layer, and\n",
        "        log_softmax/CrossEntrophyLoss for the output"
      ],
      "id": "e20c74ca"
    },
    {
      "cell_type": "markdown",
      "metadata": {
        "id": "6c4d7c85"
      },
      "source": [
        "---------------------\n",
        "---------------------\n",
        "#### 1. Download the CIFAR10 dataset\n",
        "\n",
        "    first we download the dataset needed, here we use the cifar10 image dataset"
      ],
      "id": "6c4d7c85"
    },
    {
      "cell_type": "code",
      "metadata": {
        "scrolled": true,
        "colab": {
          "base_uri": "https://localhost:8080/"
        },
        "id": "5f41028d",
        "outputId": "dfd34052-38e6-48cb-d510-54d47d20b4c6"
      },
      "source": [
        "import torch\n",
        "import torchvision\n",
        "import torchvision.transforms as transforms\n",
        "\n",
        "# Training Data Augmentation :\n",
        "    # here we apply random changes to our datasets during training\n",
        "    # we do this so that our network will not overfit\n",
        "    # this is kinda like adding more images to our dataset but instead of capturing\n",
        "    # new images and adding it to our dataset, we tweek/augment the current images we\n",
        "    # have every epoch so that the network will work on slightly different image during training\n",
        "    # reducing the possibility of overfitting\n",
        "\n",
        "train_transform = transforms.Compose([\n",
        "    transforms.Resize(size=(56,56)),\n",
        "    transforms.RandomRotation(15),\n",
        "    transforms.RandomHorizontalFlip(),\n",
        "    transforms.ToTensor(),\n",
        "    transforms.Normalize((0.5, 0.5, 0.5),(0.5, 0.5, 0.5))\n",
        "])\n",
        "\n",
        "# For the test data set we leave it as it is, no changes are applied\n",
        "test_transform = transforms.Compose([\n",
        "    transforms.Resize(size=(56,56)),\n",
        "    transforms.ToTensor(),\n",
        "    transforms.Normalize((0.5,0.5,0.5),(0.5,0.5,0.5))\n",
        "])\n",
        "\n",
        "trainset = torchvision.datasets.CIFAR10(root='./data', train=True,download=True, transform=train_transform)\n",
        "testset = torchvision.datasets.CIFAR10(root='./data', train=False,download=True, transform=test_transform)\n",
        "\n",
        "print('\\ntraining data set number of sample images = ',len(trainset))\n",
        "print('testing data set number of sample images  = ',len(testset))"
      ],
      "id": "5f41028d",
      "execution_count": 1,
      "outputs": [
        {
          "output_type": "stream",
          "name": "stdout",
          "text": [
            "Files already downloaded and verified\n",
            "Files already downloaded and verified\n",
            "\n",
            "training data set number of sample images =  50000\n",
            "testing data set number of sample images  =  10000\n"
          ]
        }
      ]
    },
    {
      "cell_type": "markdown",
      "metadata": {
        "id": "3a76ccfe"
      },
      "source": [
        "---------------------\n",
        "#### 2. Partition the Datset into batches\n",
        "\n",
        "    here we partition the 50,000 training images into 100, making 500 batches and,\n",
        "    10,000 sample images of test images into 100, making 100 batches\n",
        "    \n",
        "    where each batches contains 100 images"
      ],
      "id": "3a76ccfe"
    },
    {
      "cell_type": "code",
      "metadata": {
        "id": "51e874a5"
      },
      "source": [
        "batch_size = 250\n",
        "\n",
        "trainloader = torch.utils.data.DataLoader(trainset, batch_size=batch_size,shuffle=True, num_workers=2)\n",
        "testloader = torch.utils.data.DataLoader(testset, batch_size=batch_size,shuffle=False, num_workers=2)\n",
        "\n",
        "classes = ('plane','car','bird','cat','deer','dog','frog','horse','ship','truck')"
      ],
      "id": "51e874a5",
      "execution_count": 2,
      "outputs": []
    },
    {
      "cell_type": "markdown",
      "metadata": {
        "id": "b27cbce1"
      },
      "source": [
        "---------------------\n",
        "##### (optionals) check the shape of our datasets"
      ],
      "id": "b27cbce1"
    },
    {
      "cell_type": "code",
      "metadata": {
        "colab": {
          "base_uri": "https://localhost:8080/"
        },
        "id": "90cfc512",
        "outputId": "7df0c177-5001-4143-94ac-be243c95aa21"
      },
      "source": [
        "# here we don't need to flatten every images in our dataset before feeding it to our neural network\n",
        "\n",
        "for data in trainloader:\n",
        "    images, labels = data\n",
        "    print('images dataset shape = ', images.shape)\n",
        "    print('labels dataset shape = ', labels.shape)\n",
        "    break"
      ],
      "id": "90cfc512",
      "execution_count": 3,
      "outputs": [
        {
          "output_type": "stream",
          "name": "stdout",
          "text": [
            "images dataset shape =  torch.Size([250, 3, 56, 56])\n",
            "labels dataset shape =  torch.Size([250])\n"
          ]
        }
      ]
    },
    {
      "cell_type": "markdown",
      "metadata": {
        "id": "6eaa10d6"
      },
      "source": [
        "---------------------\n",
        "##### (optionals) Quick peek in the images"
      ],
      "id": "6eaa10d6"
    },
    {
      "cell_type": "code",
      "metadata": {
        "scrolled": true,
        "colab": {
          "base_uri": "https://localhost:8080/",
          "height": 137
        },
        "id": "f33e4b96",
        "outputId": "fd1fbf3d-fc40-4202-e9c8-7e25bcca87f3"
      },
      "source": [
        "import matplotlib.pyplot as plt\n",
        "import numpy as np\n",
        "\n",
        "def imshow(img):\n",
        "    img = img / 2 + 0.5     # unnormalize\n",
        "    npimg = img.numpy()\n",
        "    plt.imshow(np.transpose(npimg, (1, 2, 0)))\n",
        "    plt.show()\n",
        "\n",
        "dataiter = iter(trainloader)\n",
        "images, labels = dataiter.next()\n",
        "\n",
        "imshow(torchvision.utils.make_grid(images[0:5]))\n",
        "\n",
        "print(' '.join('%5s' % classes[labels[j]] for j in range(5)))"
      ],
      "id": "f33e4b96",
      "execution_count": 4,
      "outputs": [
        {
          "output_type": "display_data",
          "data": {
            "image/png": "[encoded data removed]",
            "text/plain": [
              "<Figure size 432x288 with 1 Axes>"
            ]
          },
          "metadata": {
            "needs_background": "light"
          }
        },
        {
          "output_type": "stream",
          "name": "stdout",
          "text": [
            "  dog  ship   dog  ship horse\n"
          ]
        }
      ]
    },
    {
      "cell_type": "markdown",
      "metadata": {
        "id": "811ae8ce"
      },
      "source": [
        "---------------------\n",
        "#### 3. Build the Convolution Neural Network"
      ],
      "id": "811ae8ce"
    },
    {
      "cell_type": "code",
      "metadata": {
        "colab": {
          "base_uri": "https://localhost:8080/"
        },
        "id": "a515329b",
        "outputId": "4a25e7f4-838c-47b3-c4b4-95afd2746103"
      },
      "source": [
        "import torch.nn as nn\n",
        "import torch.nn.functional as F\n",
        "\n",
        "\n",
        "class Net(nn.Module):\n",
        "    def __init__(self):\n",
        "        super().__init__()\n",
        "        \n",
        "        self.pool = nn.MaxPool2d(2, 2, dilation=1)\n",
        "        self.avep = nn.AdaptiveAvgPool2d(output_size=(2,2))\n",
        "        self.linDrop = nn.Dropout(p=0.5, inplace=False)\n",
        "        \n",
        "        self.conv1 = nn.Conv2d(3, 32, 3, padding=(1,1))\n",
        "        self.bn2d1 = nn.BatchNorm2d(32, eps=1e-05, momentum=0.1, affine=True)\n",
        "        self.conv2 = nn.Conv2d(32, 32, 3, padding=(1,1))\n",
        "        self.bn2d2 = nn.BatchNorm2d(32, eps=1e-05, momentum=0.1, affine=True)\n",
        "        \n",
        "        self.conv3 = nn.Conv2d(32, 42, 3, padding=(1,1))\n",
        "        self.bn2d3 = nn.BatchNorm2d(42, eps=1e-05, momentum=0.1, affine=True)\n",
        "        self.conv4 = nn.Conv2d(42,42, 3, padding=(1,1))\n",
        "        self.bn2d4 = nn.BatchNorm2d(42, eps=1e-05, momentum=0.1, affine=True)\n",
        "        \n",
        "        self.conv5 = nn.Conv2d(42, 56, 3, padding=(1,1))\n",
        "        self.bn2d5 = nn.BatchNorm2d(56, eps=1e-05, momentum=0.1, affine=True)\n",
        "        self.conv6 = nn.Conv2d(56, 56, 3, padding=(1,1))\n",
        "        self.bn2d6 = nn.BatchNorm2d(56, eps=1e-05, momentum=0.1, affine=True)\n",
        "\n",
        "        self.conv7 = nn.Conv2d(56, 74, 3, padding=(1,1))\n",
        "        self.bn2d7 = nn.BatchNorm2d(74, eps=1e-05, momentum=0.1, affine=True)\n",
        "        self.conv8 = nn.Conv2d(74, 74, 3, padding=(1,1))\n",
        "        self.bn2d8 = nn.BatchNorm2d(74, eps=1e-05, momentum=0.1, affine=True)\n",
        "        \n",
        "        self.fc1 = nn.Linear(74 * 2 * 2, 50)\n",
        "        self.fc2 = nn.Linear(50, 50)\n",
        "        self.fc3 = nn.Linear(50, 50)\n",
        "        self.fc4 = nn.Linear(50, 10)\n",
        "\n",
        "    def forward(self, x):\n",
        "\n",
        "        x = F.relu(self.bn2d1(self.conv1(x)), inplace=True)\n",
        "        x = F.relu(self.bn2d2(self.conv2(x)), inplace=True)\n",
        "        # print('conv2 shape = ',x.shape)\n",
        "        x = self.pool(x)\n",
        "        \n",
        "        x = F.relu(self.bn2d3(self.conv3(x)), inplace=True)\n",
        "        x = F.relu(self.bn2d4(self.conv4(x)), inplace=True)\n",
        "        # print('conv3 shape = ',x.shape)\n",
        "        x = self.pool(x)\n",
        "        \n",
        "        x = F.relu(self.bn2d5(self.conv5(x)), inplace=True)\n",
        "        x = F.relu(self.bn2d6(self.conv6(x)), inplace=True)\n",
        "        # print('conv4 shape = ',x.shape)\n",
        "        x = self.pool(x)\n",
        "\n",
        "        x = F.relu(self.bn2d7(self.conv7(x)), inplace=True)\n",
        "        x = F.relu(self.bn2d8(self.conv8(x)), inplace=True)\n",
        "        # print('conv5 shape = ',x.shape)\n",
        "        x = self.pool(x)\n",
        "        # print('last conv shape = ', x.shape)\n",
        "\n",
        "        x = self.avep(x)\n",
        "        # print('ave shape = ',x.shape)\n",
        "\n",
        "        x = torch.flatten(x, 1) # flatten all dimensions except batch\n",
        "        # print('flatten shape = ', x.shape)\n",
        "        x = self.linDrop(x)\n",
        "        \n",
        "        x = F.relu(self.fc1(x))\n",
        "        x = F.relu(self.fc2(x))\n",
        "        x = F.relu(self.fc3(x))\n",
        "        x = F.log_softmax(self.fc4(x), dim=1)\n",
        "                \n",
        "        return x\n",
        "\n",
        "\n",
        "net = Net() # CPU\n",
        "\n",
        "device = torch.device(\"cuda:0\" if torch.cuda.is_available() else \"cpu\")\n",
        "net.to(device) # GPU\n",
        "\n",
        "print('device in use : ',device)\n",
        "\n",
        "net"
      ],
      "id": "a515329b",
      "execution_count": 5,
      "outputs": [
        {
          "output_type": "stream",
          "name": "stdout",
          "text": [
            "device in use :  cuda:0\n"
          ]
        },
        {
          "output_type": "execute_result",
          "data": {
            "text/plain": [
              "Net(\n",
              "  (pool): MaxPool2d(kernel_size=2, stride=2, padding=0, dilation=1, ceil_mode=False)\n",
              "  (avep): AdaptiveAvgPool2d(output_size=(2, 2))\n",
              "  (linDrop): Dropout(p=0.5, inplace=False)\n",
              "  (conv1): Conv2d(3, 32, kernel_size=(3, 3), stride=(1, 1), padding=(1, 1))\n",
              "  (bn2d1): BatchNorm2d(32, eps=1e-05, momentum=0.1, affine=True, track_running_stats=True)\n",
              "  (conv2): Conv2d(32, 32, kernel_size=(3, 3), stride=(1, 1), padding=(1, 1))\n",
              "  (bn2d2): BatchNorm2d(32, eps=1e-05, momentum=0.1, affine=True, track_running_stats=True)\n",
              "  (conv3): Conv2d(32, 42, kernel_size=(3, 3), stride=(1, 1), padding=(1, 1))\n",
              "  (bn2d3): BatchNorm2d(42, eps=1e-05, momentum=0.1, affine=True, track_running_stats=True)\n",
              "  (conv4): Conv2d(42, 42, kernel_size=(3, 3), stride=(1, 1), padding=(1, 1))\n",
              "  (bn2d4): BatchNorm2d(42, eps=1e-05, momentum=0.1, affine=True, track_running_stats=True)\n",
              "  (conv5): Conv2d(42, 56, kernel_size=(3, 3), stride=(1, 1), padding=(1, 1))\n",
              "  (bn2d5): BatchNorm2d(56, eps=1e-05, momentum=0.1, affine=True, track_running_stats=True)\n",
              "  (conv6): Conv2d(56, 56, kernel_size=(3, 3), stride=(1, 1), padding=(1, 1))\n",
              "  (bn2d6): BatchNorm2d(56, eps=1e-05, momentum=0.1, affine=True, track_running_stats=True)\n",
              "  (conv7): Conv2d(56, 74, kernel_size=(3, 3), stride=(1, 1), padding=(1, 1))\n",
              "  (bn2d7): BatchNorm2d(74, eps=1e-05, momentum=0.1, affine=True, track_running_stats=True)\n",
              "  (conv8): Conv2d(74, 74, kernel_size=(3, 3), stride=(1, 1), padding=(1, 1))\n",
              "  (bn2d8): BatchNorm2d(74, eps=1e-05, momentum=0.1, affine=True, track_running_stats=True)\n",
              "  (fc1): Linear(in_features=296, out_features=50, bias=True)\n",
              "  (fc2): Linear(in_features=50, out_features=50, bias=True)\n",
              "  (fc3): Linear(in_features=50, out_features=50, bias=True)\n",
              "  (fc4): Linear(in_features=50, out_features=10, bias=True)\n",
              ")"
            ]
          },
          "metadata": {},
          "execution_count": 5
        }
      ]
    },
    {
      "cell_type": "markdown",
      "metadata": {
        "id": "36778ec9"
      },
      "source": [
        "---------------------\n",
        "####  4. Choosing our optimizer\n",
        "    \n",
        "    you can use any optimizer you want, either the classic SGD(sochastic gradient descent), \n",
        "    or the newer ones like AdaGrad, and etc.\n",
        "    \n",
        "    but here we will used the most recent optimizer that is considered\n",
        "    to be one of the fastest optimizer for updating our neural networks' weight called 'Adam',\n",
        "    so that we will have a faster convergence and use only a small numbers of epoch(training loop)"
      ],
      "id": "36778ec9"
    },
    {
      "cell_type": "code",
      "metadata": {
        "id": "1133023f"
      },
      "source": [
        "import torch.optim as optim\n",
        "\n",
        "optimizer = optim.Adam(net.parameters(), lr=0.0005)"
      ],
      "id": "1133023f",
      "execution_count": 6,
      "outputs": []
    },
    {
      "cell_type": "markdown",
      "metadata": {
        "id": "4265fbf3"
      },
      "source": [
        "---------------------\n",
        "#### 5. Train the neural network"
      ],
      "id": "4265fbf3"
    },
    {
      "cell_type": "code",
      "metadata": {
        "scrolled": true,
        "colab": {
          "base_uri": "https://localhost:8080/"
        },
        "id": "e934292e",
        "outputId": "68b4c38b-8cea-4e79-a4bf-5efe76b055c7"
      },
      "source": [
        "import time\n",
        "\n",
        "start = time.time()\n",
        "\n",
        "EPOCH = 20\n",
        "\n",
        "net.train()\n",
        "\n",
        "i = 0\n",
        "for epoch in range(EPOCH):\n",
        "    i+=1\n",
        "    print('(',round((i/EPOCH)*100,2),'%) Epoch : ',i,'/',EPOCH, sep='')\n",
        "    for data in trainloader:\n",
        "        inputs, labels = data[0].to(device), data[1].to(device)\n",
        "        optimizer.zero_grad()\n",
        "        outputs = net(inputs)\n",
        "        loss = F.nll_loss(outputs, labels) # loss function use in tandem with log_softmax\n",
        "        loss.backward()\n",
        "        optimizer.step()\n",
        "\n",
        "end = time.time()\n",
        "            \n",
        "dur_sec = end-start\n",
        "dur_min = dur_sec/60\n",
        "dur_hr  = dur_min/60\n",
        "\n",
        "print('Finished Training, \\nTraining took',dur_sec,'seconds')\n",
        "print(dur_min,'min')\n",
        "print(dur_hr,'hr')"
      ],
      "id": "e934292e",
      "execution_count": 15,
      "outputs": [
        {
          "output_type": "stream",
          "name": "stdout",
          "text": [
            "(5.0%) Epoch : 1/20\n",
            "(10.0%) Epoch : 2/20\n",
            "(15.0%) Epoch : 3/20\n",
            "(20.0%) Epoch : 4/20\n",
            "(25.0%) Epoch : 5/20\n",
            "(30.0%) Epoch : 6/20\n",
            "(35.0%) Epoch : 7/20\n",
            "(40.0%) Epoch : 8/20\n",
            "(45.0%) Epoch : 9/20\n",
            "(50.0%) Epoch : 10/20\n",
            "(55.0%) Epoch : 11/20\n",
            "(60.0%) Epoch : 12/20\n",
            "(65.0%) Epoch : 13/20\n",
            "(70.0%) Epoch : 14/20\n",
            "(75.0%) Epoch : 15/20\n",
            "(80.0%) Epoch : 16/20\n",
            "(85.0%) Epoch : 17/20\n",
            "(90.0%) Epoch : 18/20\n",
            "(95.0%) Epoch : 19/20\n",
            "(100.0%) Epoch : 20/20\n",
            "Finished Training, \n",
            "Training took 600.0950198173523 seconds\n",
            "10.001583663622538 min\n",
            "0.16669306106037565 hr\n"
          ]
        }
      ]
    },
    {
      "cell_type": "code",
      "metadata": {
        "id": "4c15d381"
      },
      "source": [
        "# Access Google Drive Storage\n",
        "# from google.colab import drive\n",
        "# drive.mount('/content/drive')\n",
        "\n",
        "# PATH = 'drive/MyDrive/Colab Notebooks/cnn7L4F_cifar10.pth'\n",
        "# torch.save(net.state_dict(), PATH)"
      ],
      "id": "4c15d381",
      "execution_count": 8,
      "outputs": []
    },
    {
      "cell_type": "markdown",
      "metadata": {
        "id": "fc800c27"
      },
      "source": [
        "---------------------\n",
        "#### (optionals)  Load the model back"
      ],
      "id": "fc800c27"
    },
    {
      "cell_type": "code",
      "metadata": {
        "id": "9d0c8c59"
      },
      "source": [
        "# net = Net()\n",
        "# net.load_state_dict(torch.load(PATH))"
      ],
      "id": "9d0c8c59",
      "execution_count": 9,
      "outputs": []
    },
    {
      "cell_type": "markdown",
      "metadata": {
        "id": "980eb220"
      },
      "source": [
        "---------------------\n",
        "#### (optionals)  Try one item in the test dataset using the model"
      ],
      "id": "980eb220"
    },
    {
      "cell_type": "code",
      "metadata": {
        "id": "128ca36e",
        "colab": {
          "base_uri": "https://localhost:8080/",
          "height": 318
        },
        "outputId": "5fd4fd9f-6532-46a4-d02d-655d8f98bbac"
      },
      "source": [
        "index = 0\n",
        "\n",
        "net.eval()\n",
        "\n",
        "for data in testloader:\n",
        "    image, label = data[0].to(device), data[1].to(device)\n",
        "    break\n",
        "\n",
        "print(images.shape)\n",
        "\n",
        "selected_image = torch.unsqueeze(image[index],0).to(device)\n",
        "\n",
        "imshow(image[index].to('cpu'))\n",
        "print('Target label : ', classes[label[index]])\n",
        "\n",
        "prediction = net(selected_image)\n",
        "\n",
        "print('Predicted label : ',classes[prediction.argmax().item()])"
      ],
      "id": "128ca36e",
      "execution_count": 10,
      "outputs": [
        {
          "output_type": "stream",
          "name": "stdout",
          "text": [
            "torch.Size([250, 3, 56, 56])\n"
          ]
        },
        {
          "output_type": "display_data",
          "data": {
            "image/png": "[encoded data removed]",
            "text/plain": [
              "<Figure size 432x288 with 1 Axes>"
            ]
          },
          "metadata": {
            "needs_background": "light"
          }
        },
        {
          "output_type": "stream",
          "name": "stdout",
          "text": [
            "Target label :  cat\n",
            "Predicted label :  cat\n"
          ]
        }
      ]
    },
    {
      "cell_type": "markdown",
      "metadata": {
        "id": "ca590c3d"
      },
      "source": [
        "---------------------\n",
        "#### 6. Check the Accuracy of the model from out datasets"
      ],
      "id": "ca590c3d"
    },
    {
      "cell_type": "code",
      "metadata": {
        "id": "abc173e4",
        "colab": {
          "base_uri": "https://localhost:8080/"
        },
        "outputId": "6033f96a-dd58-4f08-c070-132401fa272a"
      },
      "source": [
        "start = time.time()\n",
        "\n",
        "correct = 0\n",
        "total = 0\n",
        "\n",
        "# since we're not training, we don't need to calculate the gradients for our outputs, we use with torch.no_grad()\n",
        "with torch.no_grad():\n",
        "    for data in trainloader:\n",
        "        images, labels = data[0].to(device), data[1].to(device)\n",
        "        outputs = net(images)\n",
        "        _, predicted = torch.max(outputs.data, 1)\n",
        "        total += labels.size(0)\n",
        "        correct += (predicted == labels).sum().item()\n",
        "\n",
        "print('Accuracy of the network on training images: %d %%' % (100 * correct / total))\n",
        "        \n",
        "correct = 0\n",
        "total = 0\n",
        "\n",
        "with torch.no_grad():\n",
        "    for data in testloader:\n",
        "        # images, labels = data\n",
        "        images, labels = data[0].to(device), data[1].to(device) # To GPU\n",
        "        outputs = net(images)\n",
        "        _, predicted = torch.max(outputs.data, 1)\n",
        "        total += labels.size(0)\n",
        "        correct += (predicted == labels).sum().item()\n",
        "\n",
        "print('Accuracy of the network on testing images: %d %%' % (100 * correct / total))\n",
        "\n",
        "end = time.time()\n",
        "\n",
        "print('The whole cell took ',(end-start), 'seconds')"
      ],
      "id": "abc173e4",
      "execution_count": 17,
      "outputs": [
        {
          "output_type": "stream",
          "name": "stdout",
          "text": [
            "Accuracy of the network on training images: 89 %\n",
            "Accuracy of the network on testing images: 84 %\n",
            "The whole cell took  32.0736768245697 seconds\n"
          ]
        }
      ]
    },
    {
      "cell_type": "code",
      "metadata": {
        "id": "nXwB-0SjSk84"
      },
      "source": [
        "# Accuracy of the network on training images: 86 %\n",
        "# Accuracy of the network on testing images: 84 %\n",
        "# The whole cell took  19.79404854774475 seconds\n",
        "\n"
      ],
      "id": "nXwB-0SjSk84",
      "execution_count": 12,
      "outputs": []
    },
    {
      "cell_type": "code",
      "metadata": {
        "id": "vg-dlNhBJMFa"
      },
      "source": [
        ""
      ],
      "id": "vg-dlNhBJMFa",
      "execution_count": 12,
      "outputs": []
    }
  ]
}