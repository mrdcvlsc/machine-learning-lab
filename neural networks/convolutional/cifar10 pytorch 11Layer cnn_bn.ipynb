{
  "nbformat": 4,
  "nbformat_minor": 5,
  "metadata": {
    "kernelspec": {
      "display_name": "Python 3",
      "language": "python",
      "name": "python3"
    },
    "language_info": {
      "codemirror_mode": {
        "name": "ipython",
        "version": 3
      },
      "file_extension": ".py",
      "mimetype": "text/x-python",
      "name": "python",
      "nbconvert_exporter": "python",
      "pygments_lexer": "ipython3",
      "version": "3.8.10"
    },
    "colab": {
      "name": "cifar10 pytorch 11Layer cnn_bn.ipynb",
      "provenance": [],
      "collapsed_sections": []
    },
    "widgets": {
      "application/vnd.jupyter.widget-state+json": {
        "5cdf15abd0884788bd0b14dfffc1ee28": {
          "model_module": "@jupyter-widgets/controls",
          "model_name": "HBoxModel",
          "model_module_version": "1.5.0",
          "state": {
            "_view_name": "HBoxView",
            "_dom_classes": [],
            "_model_name": "HBoxModel",
            "_view_module": "@jupyter-widgets/controls",
            "_model_module_version": "1.5.0",
            "_view_count": null,
            "_view_module_version": "1.5.0",
            "box_style": "",
            "layout": "IPY_MODEL_1da80e5b0fc344ae80f889326a82aa80",
            "_model_module": "@jupyter-widgets/controls",
            "children": [
              "IPY_MODEL_f4a3df0183634998abc797bccc3b0839",
              "IPY_MODEL_89660fc4d30d44cb8337231738c5b61c",
              "IPY_MODEL_ce41db6ed600477ebf9de8f51f74437f"
            ]
          }
        },
        "1da80e5b0fc344ae80f889326a82aa80": {
          "model_module": "@jupyter-widgets/base",
          "model_name": "LayoutModel",
          "model_module_version": "1.2.0",
          "state": {
            "_view_name": "LayoutView",
            "grid_template_rows": null,
            "right": null,
            "justify_content": null,
            "_view_module": "@jupyter-widgets/base",
            "overflow": null,
            "_model_module_version": "1.2.0",
            "_view_count": null,
            "flex_flow": null,
            "width": null,
            "min_width": null,
            "border": null,
            "align_items": null,
            "bottom": null,
            "_model_module": "@jupyter-widgets/base",
            "top": null,
            "grid_column": null,
            "overflow_y": null,
            "overflow_x": null,
            "grid_auto_flow": null,
            "grid_area": null,
            "grid_template_columns": null,
            "flex": null,
            "_model_name": "LayoutModel",
            "justify_items": null,
            "grid_row": null,
            "max_height": null,
            "align_content": null,
            "visibility": null,
            "align_self": null,
            "height": null,
            "min_height": null,
            "padding": null,
            "grid_auto_rows": null,
            "grid_gap": null,
            "max_width": null,
            "order": null,
            "_view_module_version": "1.2.0",
            "grid_template_areas": null,
            "object_position": null,
            "object_fit": null,
            "grid_auto_columns": null,
            "margin": null,
            "display": null,
            "left": null
          }
        },
        "f4a3df0183634998abc797bccc3b0839": {
          "model_module": "@jupyter-widgets/controls",
          "model_name": "HTMLModel",
          "model_module_version": "1.5.0",
          "state": {
            "_view_name": "HTMLView",
            "style": "IPY_MODEL_b07c1129864b4757bcde7b8d9f30d7fa",
            "_dom_classes": [],
            "description": "",
            "_model_name": "HTMLModel",
            "placeholder": "​",
            "_view_module": "@jupyter-widgets/controls",
            "_model_module_version": "1.5.0",
            "value": "",
            "_view_count": null,
            "_view_module_version": "1.5.0",
            "description_tooltip": null,
            "_model_module": "@jupyter-widgets/controls",
            "layout": "IPY_MODEL_20787c914c95424693e254f41de1cb41"
          }
        },
        "89660fc4d30d44cb8337231738c5b61c": {
          "model_module": "@jupyter-widgets/controls",
          "model_name": "FloatProgressModel",
          "model_module_version": "1.5.0",
          "state": {
            "_view_name": "ProgressView",
            "style": "IPY_MODEL_977b27b183e84c69a18273b6cf43f6f5",
            "_dom_classes": [],
            "description": "",
            "_model_name": "FloatProgressModel",
            "bar_style": "success",
            "max": 170498071,
            "_view_module": "@jupyter-widgets/controls",
            "_model_module_version": "1.5.0",
            "value": 170498071,
            "_view_count": null,
            "_view_module_version": "1.5.0",
            "orientation": "horizontal",
            "min": 0,
            "description_tooltip": null,
            "_model_module": "@jupyter-widgets/controls",
            "layout": "IPY_MODEL_b3c671fa151c4c4ab92ac12f3f304ca1"
          }
        },
        "ce41db6ed600477ebf9de8f51f74437f": {
          "model_module": "@jupyter-widgets/controls",
          "model_name": "HTMLModel",
          "model_module_version": "1.5.0",
          "state": {
            "_view_name": "HTMLView",
            "style": "IPY_MODEL_683b8ccb69c24a84acb56543416b2b6d",
            "_dom_classes": [],
            "description": "",
            "_model_name": "HTMLModel",
            "placeholder": "​",
            "_view_module": "@jupyter-widgets/controls",
            "_model_module_version": "1.5.0",
            "value": " 170499072/? [00:04&lt;00:00, 46746442.77it/s]",
            "_view_count": null,
            "_view_module_version": "1.5.0",
            "description_tooltip": null,
            "_model_module": "@jupyter-widgets/controls",
            "layout": "IPY_MODEL_f21f4c5569924e4397fd6a63fc1338a4"
          }
        },
        "b07c1129864b4757bcde7b8d9f30d7fa": {
          "model_module": "@jupyter-widgets/controls",
          "model_name": "DescriptionStyleModel",
          "model_module_version": "1.5.0",
          "state": {
            "_view_name": "StyleView",
            "_model_name": "DescriptionStyleModel",
            "description_width": "",
            "_view_module": "@jupyter-widgets/base",
            "_model_module_version": "1.5.0",
            "_view_count": null,
            "_view_module_version": "1.2.0",
            "_model_module": "@jupyter-widgets/controls"
          }
        },
        "20787c914c95424693e254f41de1cb41": {
          "model_module": "@jupyter-widgets/base",
          "model_name": "LayoutModel",
          "model_module_version": "1.2.0",
          "state": {
            "_view_name": "LayoutView",
            "grid_template_rows": null,
            "right": null,
            "justify_content": null,
            "_view_module": "@jupyter-widgets/base",
            "overflow": null,
            "_model_module_version": "1.2.0",
            "_view_count": null,
            "flex_flow": null,
            "width": null,
            "min_width": null,
            "border": null,
            "align_items": null,
            "bottom": null,
            "_model_module": "@jupyter-widgets/base",
            "top": null,
            "grid_column": null,
            "overflow_y": null,
            "overflow_x": null,
            "grid_auto_flow": null,
            "grid_area": null,
            "grid_template_columns": null,
            "flex": null,
            "_model_name": "LayoutModel",
            "justify_items": null,
            "grid_row": null,
            "max_height": null,
            "align_content": null,
            "visibility": null,
            "align_self": null,
            "height": null,
            "min_height": null,
            "padding": null,
            "grid_auto_rows": null,
            "grid_gap": null,
            "max_width": null,
            "order": null,
            "_view_module_version": "1.2.0",
            "grid_template_areas": null,
            "object_position": null,
            "object_fit": null,
            "grid_auto_columns": null,
            "margin": null,
            "display": null,
            "left": null
          }
        },
        "977b27b183e84c69a18273b6cf43f6f5": {
          "model_module": "@jupyter-widgets/controls",
          "model_name": "ProgressStyleModel",
          "model_module_version": "1.5.0",
          "state": {
            "_view_name": "StyleView",
            "_model_name": "ProgressStyleModel",
            "description_width": "",
            "_view_module": "@jupyter-widgets/base",
            "_model_module_version": "1.5.0",
            "_view_count": null,
            "_view_module_version": "1.2.0",
            "bar_color": null,
            "_model_module": "@jupyter-widgets/controls"
          }
        },
        "b3c671fa151c4c4ab92ac12f3f304ca1": {
          "model_module": "@jupyter-widgets/base",
          "model_name": "LayoutModel",
          "model_module_version": "1.2.0",
          "state": {
            "_view_name": "LayoutView",
            "grid_template_rows": null,
            "right": null,
            "justify_content": null,
            "_view_module": "@jupyter-widgets/base",
            "overflow": null,
            "_model_module_version": "1.2.0",
            "_view_count": null,
            "flex_flow": null,
            "width": null,
            "min_width": null,
            "border": null,
            "align_items": null,
            "bottom": null,
            "_model_module": "@jupyter-widgets/base",
            "top": null,
            "grid_column": null,
            "overflow_y": null,
            "overflow_x": null,
            "grid_auto_flow": null,
            "grid_area": null,
            "grid_template_columns": null,
            "flex": null,
            "_model_name": "LayoutModel",
            "justify_items": null,
            "grid_row": null,
            "max_height": null,
            "align_content": null,
            "visibility": null,
            "align_self": null,
            "height": null,
            "min_height": null,
            "padding": null,
            "grid_auto_rows": null,
            "grid_gap": null,
            "max_width": null,
            "order": null,
            "_view_module_version": "1.2.0",
            "grid_template_areas": null,
            "object_position": null,
            "object_fit": null,
            "grid_auto_columns": null,
            "margin": null,
            "display": null,
            "left": null
          }
        },
        "683b8ccb69c24a84acb56543416b2b6d": {
          "model_module": "@jupyter-widgets/controls",
          "model_name": "DescriptionStyleModel",
          "model_module_version": "1.5.0",
          "state": {
            "_view_name": "StyleView",
            "_model_name": "DescriptionStyleModel",
            "description_width": "",
            "_view_module": "@jupyter-widgets/base",
            "_model_module_version": "1.5.0",
            "_view_count": null,
            "_view_module_version": "1.2.0",
            "_model_module": "@jupyter-widgets/controls"
          }
        },
        "f21f4c5569924e4397fd6a63fc1338a4": {
          "model_module": "@jupyter-widgets/base",
          "model_name": "LayoutModel",
          "model_module_version": "1.2.0",
          "state": {
            "_view_name": "LayoutView",
            "grid_template_rows": null,
            "right": null,
            "justify_content": null,
            "_view_module": "@jupyter-widgets/base",
            "overflow": null,
            "_model_module_version": "1.2.0",
            "_view_count": null,
            "flex_flow": null,
            "width": null,
            "min_width": null,
            "border": null,
            "align_items": null,
            "bottom": null,
            "_model_module": "@jupyter-widgets/base",
            "top": null,
            "grid_column": null,
            "overflow_y": null,
            "overflow_x": null,
            "grid_auto_flow": null,
            "grid_area": null,
            "grid_template_columns": null,
            "flex": null,
            "_model_name": "LayoutModel",
            "justify_items": null,
            "grid_row": null,
            "max_height": null,
            "align_content": null,
            "visibility": null,
            "align_self": null,
            "height": null,
            "min_height": null,
            "padding": null,
            "grid_auto_rows": null,
            "grid_gap": null,
            "max_width": null,
            "order": null,
            "_view_module_version": "1.2.0",
            "grid_template_areas": null,
            "object_position": null,
            "object_fit": null,
            "grid_auto_columns": null,
            "margin": null,
            "display": null,
            "left": null
          }
        }
      }
    }
  },
  "cells": [
    {
      "cell_type": "markdown",
      "metadata": {
        "id": "c6f46fb1"
      },
      "source": [
        "----------------------"
      ],
      "id": "c6f46fb1"
    },
    {
      "cell_type": "markdown",
      "metadata": {
        "id": "e20c74ca"
      },
      "source": [
        "# A sample Convolutional Neural Network"
      ],
      "id": "e20c74ca"
    },
    {
      "cell_type": "markdown",
      "metadata": {
        "id": "6c4d7c85"
      },
      "source": [
        "---------------------\n",
        "---------------------\n",
        "#### 1. Download the CIFAR10 dataset\n",
        "\n",
        "    first we download the dataset needed, here we use the cifar10 image dataset"
      ],
      "id": "6c4d7c85"
    },
    {
      "cell_type": "code",
      "metadata": {
        "id": "tv_IphTgCe9K",
        "colab": {
          "base_uri": "https://localhost:8080/"
        },
        "outputId": "9f982244-68c2-4b5f-952f-50a737bc8270"
      },
      "source": [
        "import torch\n",
        "\n",
        "device = torch.device(\"cuda:0\" if torch.cuda.is_available() else \"cpu\")\n",
        "\n",
        "def device_stat(using_device):\n",
        "    if using_device.type == 'cuda':\n",
        "        print(torch.cuda.get_device_name(0))\n",
        "        print('Memory Usage:')\n",
        "        print('Allocated:', round(torch.cuda.memory_allocated(0)/1024**3,1), 'GB')\n",
        "        print('Cached:   ', round(torch.cuda.memory_cached(0)/1024**3,1), 'GB')\n",
        "    else:\n",
        "        print('cpu in use')\n",
        "\n",
        "device_stat(device)"
      ],
      "id": "tv_IphTgCe9K",
      "execution_count": 1,
      "outputs": [
        {
          "output_type": "stream",
          "name": "stdout",
          "text": [
            "cpu in use\n"
          ]
        }
      ]
    },
    {
      "cell_type": "code",
      "metadata": {
        "scrolled": true,
        "colab": {
          "base_uri": "https://localhost:8080/",
          "height": 151,
          "referenced_widgets": [
            "5cdf15abd0884788bd0b14dfffc1ee28",
            "1da80e5b0fc344ae80f889326a82aa80",
            "f4a3df0183634998abc797bccc3b0839",
            "89660fc4d30d44cb8337231738c5b61c",
            "ce41db6ed600477ebf9de8f51f74437f",
            "b07c1129864b4757bcde7b8d9f30d7fa",
            "20787c914c95424693e254f41de1cb41",
            "977b27b183e84c69a18273b6cf43f6f5",
            "b3c671fa151c4c4ab92ac12f3f304ca1",
            "683b8ccb69c24a84acb56543416b2b6d",
            "f21f4c5569924e4397fd6a63fc1338a4"
          ]
        },
        "id": "5f41028d",
        "outputId": "b157b201-0049-4149-acb2-0f14064cc64d"
      },
      "source": [
        "import torchvision\n",
        "import torchvision.transforms as transforms\n",
        "\n",
        "# when applied, this will normalize the data from the ranges of (-1) to 1 \n",
        "train_transform = transforms.Compose([\n",
        "    transforms.Resize((112,112)),\n",
        "    transforms.RandomHorizontalFlip(),\n",
        "    transforms.RandomRotation(10),\n",
        "    transforms.ToTensor(),\n",
        "    transforms.Normalize((0.5,0.5,0.5), (0.5,0.5,0.5))\n",
        "])\n",
        "\n",
        "test_transform = transforms.Compose([\n",
        "    transforms.Resize((112,112)),\n",
        "    transforms.ToTensor(),\n",
        "    transforms.Normalize((0.5,0.5,0.5),(0.5,0.5,0.5))\n",
        "])\n",
        "\n",
        "trainset = torchvision.datasets.CIFAR10(root='./data', train=True,download=True, transform=train_transform)\n",
        "testset = torchvision.datasets.CIFAR10(root='./data', train=False,download=True, transform=test_transform)\n",
        "\n",
        "print('\\ntraining data set number of sample images = ',len(trainset))\n",
        "print('testing data set number of sample images  = ',len(testset))"
      ],
      "id": "5f41028d",
      "execution_count": 2,
      "outputs": [
        {
          "output_type": "stream",
          "name": "stdout",
          "text": [
            "Downloading https://www.cs.toronto.edu/~kriz/cifar-10-python.tar.gz to ./data/cifar-10-python.tar.gz\n"
          ]
        },
        {
          "output_type": "display_data",
          "data": {
            "application/vnd.jupyter.widget-view+json": {
              "model_id": "5cdf15abd0884788bd0b14dfffc1ee28",
              "version_minor": 0,
              "version_major": 2
            },
            "text/plain": [
              "  0%|          | 0/170498071 [00:00<?, ?it/s]"
            ]
          },
          "metadata": {}
        },
        {
          "output_type": "stream",
          "name": "stdout",
          "text": [
            "Extracting ./data/cifar-10-python.tar.gz to ./data\n",
            "Files already downloaded and verified\n",
            "\n",
            "training data set number of sample images =  50000\n",
            "testing data set number of sample images  =  10000\n"
          ]
        }
      ]
    },
    {
      "cell_type": "markdown",
      "metadata": {
        "id": "3a76ccfe"
      },
      "source": [
        "---------------------\n",
        "#### 2. Partition the Datset into batches\n",
        "\n",
        "    here we partition the 50,000 training images into 100, making 500 batches and,\n",
        "    10,000 sample images of test images into 100, making 100 batches\n",
        "    \n",
        "    where each batches contains 100 images"
      ],
      "id": "3a76ccfe"
    },
    {
      "cell_type": "code",
      "metadata": {
        "id": "51e874a5",
        "colab": {
          "base_uri": "https://localhost:8080/"
        },
        "outputId": "2d308adb-48ec-43c3-982b-3a6fb995705b"
      },
      "source": [
        "batch_size = 250\n",
        "\n",
        "trainloader = torch.utils.data.DataLoader(trainset, batch_size=batch_size,shuffle=True, num_workers=2)\n",
        "testloader = torch.utils.data.DataLoader(testset, batch_size=batch_size,shuffle=False, num_workers=2)\n",
        "\n",
        "classes = ('plane','car','bird','cat','deer','dog','frog','horse','ship','truck')\n",
        "\n",
        "device_stat(device)"
      ],
      "id": "51e874a5",
      "execution_count": 3,
      "outputs": [
        {
          "output_type": "stream",
          "name": "stdout",
          "text": [
            "cpu in use\n"
          ]
        }
      ]
    },
    {
      "cell_type": "markdown",
      "metadata": {
        "id": "b27cbce1"
      },
      "source": [
        "---------------------\n",
        "##### (optionals) check the shape of our datasets"
      ],
      "id": "b27cbce1"
    },
    {
      "cell_type": "code",
      "metadata": {
        "colab": {
          "base_uri": "https://localhost:8080/"
        },
        "id": "90cfc512",
        "outputId": "f5e6ba52-07d8-456d-8fc6-9378208f9aba"
      },
      "source": [
        "# here we don't need to flatten every images in our dataset before feeding it to our neural network\n",
        "\n",
        "for data in trainloader:\n",
        "    images, labels = data\n",
        "    print('images dataset shape = ', images.shape)\n",
        "    print('labels dataset shape = ', labels.shape)\n",
        "    break\n"
      ],
      "id": "90cfc512",
      "execution_count": 4,
      "outputs": [
        {
          "output_type": "stream",
          "name": "stdout",
          "text": [
            "images dataset shape =  torch.Size([250, 3, 112, 112])\n",
            "labels dataset shape =  torch.Size([250])\n"
          ]
        }
      ]
    },
    {
      "cell_type": "markdown",
      "metadata": {
        "id": "6eaa10d6"
      },
      "source": [
        "---------------------\n",
        "##### (optionals) Quick peek in the images"
      ],
      "id": "6eaa10d6"
    },
    {
      "cell_type": "code",
      "metadata": {
        "scrolled": true,
        "id": "f33e4b96",
        "colab": {
          "base_uri": "https://localhost:8080/",
          "height": 319
        },
        "outputId": "4c9e1874-3186-464d-d064-0e79b728d232"
      },
      "source": [
        "import matplotlib.pyplot as plt\n",
        "import numpy as np\n",
        "\n",
        "def imshow(img):\n",
        "    img = img / 2 + 0.5     # unnormalize\n",
        "    npimg = img.numpy()\n",
        "    plt.imshow(np.transpose(npimg, (1, 2, 0)))\n",
        "    plt.show()\n",
        "\n",
        "for data in trainloader:\n",
        "    image,label = data\n",
        "    break\n",
        "\n",
        "index = 0\n",
        "image = image[index]\n",
        "\n",
        "print('image shape = ',image.shape)\n",
        "\n",
        "imshow(image)\n",
        "print('label : ',classes[label[index].item()])\n",
        "\n",
        "device_stat(device)"
      ],
      "id": "f33e4b96",
      "execution_count": 5,
      "outputs": [
        {
          "output_type": "stream",
          "name": "stdout",
          "text": [
            "image shape =  torch.Size([3, 112, 112])\n"
          ]
        },
        {
          "output_type": "display_data",
          "data": {
            "image/png": "[encoded data removed]",
            "text/plain": [
              "<Figure size 432x288 with 1 Axes>"
            ]
          },
          "metadata": {
            "needs_background": "light"
          }
        },
        {
          "output_type": "stream",
          "name": "stdout",
          "text": [
            "label :  dog\n",
            "cpu in use\n"
          ]
        }
      ]
    },
    {
      "cell_type": "markdown",
      "metadata": {
        "id": "811ae8ce"
      },
      "source": [
        "---------------------\n",
        "#### 3. Build the Convolution Neural Network"
      ],
      "id": "811ae8ce"
    },
    {
      "cell_type": "code",
      "metadata": {
        "colab": {
          "base_uri": "https://localhost:8080/"
        },
        "id": "a515329b",
        "outputId": "a0f169e6-45cf-4c47-8b73-e175ba601d95"
      },
      "source": [
        "import torch.nn as nn\n",
        "import torch.nn.functional as F\n",
        "\n",
        "\n",
        "class Net(nn.Module):\n",
        "    def __init__(self):\n",
        "        super().__init__()\n",
        "        \n",
        "        self.maxPool = nn.MaxPool2d(kernel_size=2, stride=2, padding=0, dilation=1, ceil_mode=False)\n",
        "        self.drop1D = nn.Dropout(p=0.50, inplace=False)\n",
        "\n",
        "        self.conv1 = nn.Conv2d(3, 16, 3, stride=1, padding=1)\n",
        "        self.conv1_bn = nn.BatchNorm2d(16, eps=1e-05, momentum=0.1, affine=True)\n",
        "        self.conv2 = nn.Conv2d(16, 16, 3, stride=1, padding=1)\n",
        "        self.conv2_bn = nn.BatchNorm2d(16, eps=1e-05, momentum=0.1, affine=True)\n",
        "        \n",
        "        self.conv3 = nn.Conv2d(16, 32, 3, stride=1, padding=1)\n",
        "        self.conv3_bn = nn.BatchNorm2d(32, eps=1e-05, momentum=0.1, affine=True)\n",
        "        self.conv4 = nn.Conv2d(32, 32, 3, stride=1, padding=1)\n",
        "        self.conv4_bn = nn.BatchNorm2d(32, eps=1e-05, momentum=0.1, affine=True)\n",
        "\n",
        "        self.conv5 = nn.Conv2d(32, 64, 3, stride=1, padding=1)\n",
        "        self.conv5_bn = nn.BatchNorm2d(64, eps=1e-05, momentum=0.1, affine=True)\n",
        "        self.conv6 = nn.Conv2d(64, 64, 3, stride=1, padding=1)\n",
        "        self.conv6_bn = nn.BatchNorm2d(64, eps=1e-05, momentum=0.1, affine=True)\n",
        "        \n",
        "        self.conv7 = nn.Conv2d(64, 128, 3, stride=1, padding=1)\n",
        "        self.conv7_bn = nn.BatchNorm2d(128, eps=1e-05, momentum=0.1, affine=True)\n",
        "        self.conv8 = nn.Conv2d(128, 128, 3, stride=1, padding=1)\n",
        "        self.conv8_bn = nn.BatchNorm2d(128, eps=1e-05, momentum=0.1, affine=True)\n",
        "\n",
        "        self.conv9 = nn.Conv2d(128, 256, 3, stride=1, padding=1)\n",
        "        self.conv9_bn = nn.BatchNorm2d(256, eps=1e-05, momentum=0.1, affine=True)\n",
        "        self.conv10 = nn.Conv2d(256, 256, 3, stride=1, padding=1)\n",
        "        self.conv10_bn = nn.BatchNorm2d(256, eps=1e-05, momentum=0.1, affine=True)\n",
        "        self.conv11 = nn.Conv2d(256, 256, 3, stride=1, padding=1)\n",
        "        self.conv11_bn = nn.BatchNorm2d(256, eps=1e-05, momentum=0.1, affine=True)      \n",
        "\n",
        "        self.fc1 = nn.Linear(2304, 64)\n",
        "        self.fc2 = nn.Linear(64, 64)\n",
        "        self.fc3 = nn.Linear(64, 10)\n",
        "\n",
        "    def forward(self, x):\n",
        "        \n",
        "        x = F.relu(self.conv1_bn(self.conv1(x)), inplace=True)\n",
        "        x = F.relu(self.conv2_bn(self.conv2(x)), inplace=True)\n",
        "        x = self.maxPool(x)\n",
        "         \n",
        "        x = F.relu(self.conv3_bn(self.conv3(x)), inplace=True)\n",
        "        x = F.relu(self.conv4_bn(self.conv4(x)), inplace=True)\n",
        "        x = self.maxPool(x)\n",
        "        \n",
        "        x = F.relu(self.conv5_bn(self.conv5(x)), inplace=True)\n",
        "        x = F.relu(self.conv6_bn(self.conv6(x)), inplace=True)\n",
        "        x = self.maxPool(x)\n",
        "\n",
        "        x = F.relu(self.conv7_bn(self.conv7(x)), inplace=True)\n",
        "        x = F.relu(self.conv8_bn(self.conv8(x)), inplace=True)\n",
        "        x = self.maxPool(x)\n",
        "\n",
        "        x = F.relu(self.conv9_bn(self.conv9(x)), inplace=True)\n",
        "        x = F.relu(self.conv10_bn(self.conv10(x)), inplace=True)\n",
        "        x = F.relu(self.conv11_bn(self.conv11(x)), inplace=True)\n",
        "        x = self.maxPool(x)\n",
        "\n",
        "        x = torch.flatten(x, 1) # flatten all dimensions except batch\n",
        "        \n",
        "        x = self.drop1D(x)\n",
        "\n",
        "        x = F.relu(self.fc1(x), inplace=True)\n",
        "        x = F.relu(self.fc2(x), inplace=True)\n",
        "\n",
        "        x = self.fc3(x)\n",
        "\n",
        "        return x\n",
        "\n",
        "\n",
        "net = Net() # CPU\n",
        "\n",
        "net.to(device) # GPU\n",
        "\n",
        "print('device in use :',device)\n",
        "print('available devices :',torch.cuda.device_count())\n",
        "print(net)\n",
        "\n",
        "device_stat(device)"
      ],
      "id": "a515329b",
      "execution_count": 6,
      "outputs": [
        {
          "output_type": "stream",
          "name": "stdout",
          "text": [
            "device in use : cpu\n",
            "available devices : 0\n",
            "Net(\n",
            "  (maxPool): MaxPool2d(kernel_size=2, stride=2, padding=0, dilation=1, ceil_mode=False)\n",
            "  (drop1D): Dropout(p=0.5, inplace=False)\n",
            "  (conv1): Conv2d(3, 16, kernel_size=(3, 3), stride=(1, 1), padding=(1, 1))\n",
            "  (conv1_bn): BatchNorm2d(16, eps=1e-05, momentum=0.1, affine=True, track_running_stats=True)\n",
            "  (conv2): Conv2d(16, 16, kernel_size=(3, 3), stride=(1, 1), padding=(1, 1))\n",
            "  (conv2_bn): BatchNorm2d(16, eps=1e-05, momentum=0.1, affine=True, track_running_stats=True)\n",
            "  (conv3): Conv2d(16, 32, kernel_size=(3, 3), stride=(1, 1), padding=(1, 1))\n",
            "  (conv3_bn): BatchNorm2d(32, eps=1e-05, momentum=0.1, affine=True, track_running_stats=True)\n",
            "  (conv4): Conv2d(32, 32, kernel_size=(3, 3), stride=(1, 1), padding=(1, 1))\n",
            "  (conv4_bn): BatchNorm2d(32, eps=1e-05, momentum=0.1, affine=True, track_running_stats=True)\n",
            "  (conv5): Conv2d(32, 64, kernel_size=(3, 3), stride=(1, 1), padding=(1, 1))\n",
            "  (conv5_bn): BatchNorm2d(64, eps=1e-05, momentum=0.1, affine=True, track_running_stats=True)\n",
            "  (conv6): Conv2d(64, 64, kernel_size=(3, 3), stride=(1, 1), padding=(1, 1))\n",
            "  (conv6_bn): BatchNorm2d(64, eps=1e-05, momentum=0.1, affine=True, track_running_stats=True)\n",
            "  (conv7): Conv2d(64, 128, kernel_size=(3, 3), stride=(1, 1), padding=(1, 1))\n",
            "  (conv7_bn): BatchNorm2d(128, eps=1e-05, momentum=0.1, affine=True, track_running_stats=True)\n",
            "  (conv8): Conv2d(128, 128, kernel_size=(3, 3), stride=(1, 1), padding=(1, 1))\n",
            "  (conv8_bn): BatchNorm2d(128, eps=1e-05, momentum=0.1, affine=True, track_running_stats=True)\n",
            "  (conv9): Conv2d(128, 256, kernel_size=(3, 3), stride=(1, 1), padding=(1, 1))\n",
            "  (conv9_bn): BatchNorm2d(256, eps=1e-05, momentum=0.1, affine=True, track_running_stats=True)\n",
            "  (conv10): Conv2d(256, 256, kernel_size=(3, 3), stride=(1, 1), padding=(1, 1))\n",
            "  (conv10_bn): BatchNorm2d(256, eps=1e-05, momentum=0.1, affine=True, track_running_stats=True)\n",
            "  (conv11): Conv2d(256, 256, kernel_size=(3, 3), stride=(1, 1), padding=(1, 1))\n",
            "  (conv11_bn): BatchNorm2d(256, eps=1e-05, momentum=0.1, affine=True, track_running_stats=True)\n",
            "  (fc1): Linear(in_features=2304, out_features=64, bias=True)\n",
            "  (fc2): Linear(in_features=64, out_features=64, bias=True)\n",
            "  (fc3): Linear(in_features=64, out_features=10, bias=True)\n",
            ")\n",
            "cpu in use\n"
          ]
        }
      ]
    },
    {
      "cell_type": "markdown",
      "metadata": {
        "id": "3d87bd4a"
      },
      "source": [
        "---------------------\n",
        "#### (optionals) NOTE : if you are curious on how to get the shapes after pooling or convolution, this is the function\n",
        "\n",
        "    though since I'm the one who wrote this one, there might be errors in this function"
      ],
      "id": "3d87bd4a"
    },
    {
      "cell_type": "code",
      "metadata": {
        "scrolled": true,
        "colab": {
          "base_uri": "https://localhost:8080/"
        },
        "id": "f801b5d6",
        "outputId": "106b059e-3b17-4730-8ae2-15113315ce89"
      },
      "source": [
        "def conv_out_len(N,kernel_len=1, stride=1):\n",
        "    cnt = 0\n",
        "    i = 0\n",
        "    while i < N:\n",
        "        if i+kernel_len > N:\n",
        "            break\n",
        "        cnt += 1\n",
        "        i += stride\n",
        "    return cnt\n",
        "\n",
        "conv_out_len(6,kernel_len=2, stride=2)"
      ],
      "id": "f801b5d6",
      "execution_count": 7,
      "outputs": [
        {
          "output_type": "execute_result",
          "data": {
            "text/plain": [
              "3"
            ]
          },
          "metadata": {},
          "execution_count": 7
        }
      ]
    },
    {
      "cell_type": "markdown",
      "metadata": {
        "id": "36778ec9"
      },
      "source": [
        "---------------------\n",
        "####  4. Choosing our optimizer\n",
        "    \n",
        "    you can use any optimizer you want, either the classic SGD(sochastic gradient descent), \n",
        "    or the newer ones like AdaGrad, and etc.\n",
        "    \n",
        "    but here we will used the most recent optimizer that is considered\n",
        "    to be one of the fastest optimizer for updating our neural networks' weight called 'Adam',\n",
        "    so that we will have a faster convergence and use only a small numbers of epoch(training loop)"
      ],
      "id": "36778ec9"
    },
    {
      "cell_type": "code",
      "metadata": {
        "id": "1133023f",
        "colab": {
          "base_uri": "https://localhost:8080/"
        },
        "outputId": "1c7411b1-158b-4ce7-9ee5-c59691c7bb35"
      },
      "source": [
        "import torch.optim as optim\n",
        "\n",
        "optimizer = optim.Adam(net.parameters(), lr=0.001)\n",
        "\n",
        "device_stat(device)"
      ],
      "id": "1133023f",
      "execution_count": 8,
      "outputs": [
        {
          "output_type": "stream",
          "name": "stdout",
          "text": [
            "cpu in use\n"
          ]
        }
      ]
    },
    {
      "cell_type": "markdown",
      "metadata": {
        "id": "4265fbf3"
      },
      "source": [
        "---------------------\n",
        "#### 5. Train the neural network"
      ],
      "id": "4265fbf3"
    },
    {
      "cell_type": "code",
      "metadata": {
        "scrolled": true,
        "colab": {
          "base_uri": "https://localhost:8080/"
        },
        "id": "e934292e",
        "outputId": "e3898cee-5937-4ace-ca91-7985163f140b"
      },
      "source": [
        "import time\n",
        "\n",
        "start = time.time()\n",
        "\n",
        "\n",
        "criterion1 = nn.CrossEntropyLoss()\n",
        "\n",
        "EPOCH = 1\n",
        "\n",
        "net.train()\n",
        "\n",
        "i = 0\n",
        "for epoch in range(EPOCH):\n",
        "    i+=1\n",
        "    print('(',round((i/EPOCH)*100,2),'%) Epoch : ',i,'/',EPOCH, sep='')\n",
        "    for data in trainloader:\n",
        "        inputs, labels = data[0].to(device), data[1].to(device) # To GPU\n",
        "        optimizer.zero_grad()\n",
        "        outputs = net(inputs)\n",
        "        loss = criterion1(outputs, labels)\n",
        "        loss.backward()\n",
        "        optimizer.step()\n",
        "\n",
        "end = time.time()\n",
        "\n",
        "dur_sec = end-start\n",
        "dur_min = dur_sec/60\n",
        "dur_hr  = dur_min/60\n",
        "\n",
        "print('Finished Training, \\nTraining took',dur_sec,'seconds')\n",
        "print('Min : ', dur_min)\n",
        "print('Hr  : ', dur_hr)"
      ],
      "id": "e934292e",
      "execution_count": null,
      "outputs": [
        {
          "output_type": "stream",
          "name": "stdout",
          "text": [
            "(100.0%) Epoch : 1/1\n"
          ]
        },
        {
          "output_type": "stream",
          "name": "stderr",
          "text": [
            "/usr/local/lib/python3.7/dist-packages/torch/nn/functional.py:718: UserWarning: Named tensors and all their associated APIs are an experimental feature and subject to change. Please do not use them for anything important until they are released as stable. (Triggered internally at  /pytorch/c10/core/TensorImpl.h:1156.)\n",
            "  return torch.max_pool2d(input, kernel_size, stride, padding, dilation, ceil_mode)\n"
          ]
        }
      ]
    },
    {
      "cell_type": "markdown",
      "metadata": {
        "id": "081506e4"
      },
      "source": [
        "---------------------\n",
        "#### (optionals) Save the trained model"
      ],
      "id": "081506e4"
    },
    {
      "cell_type": "code",
      "metadata": {
        "id": "4c15d381"
      },
      "source": [
        "# Access Google Drive Storage\n",
        "# from google.colab import drive\n",
        "# drive.mount('/content/drive')\n",
        "\n",
        "# net.eval()\n",
        "# net.to('cpu')\n",
        "# PATH = 'drive/MyDrive/Colab Notebooks/cnn11L3Fbn_cifar10.pth'\n",
        "# torch.save(net.state_dict(), PATH)\n",
        "# net.to(device)"
      ],
      "id": "4c15d381",
      "execution_count": null,
      "outputs": []
    },
    {
      "cell_type": "markdown",
      "metadata": {
        "id": "fc800c27"
      },
      "source": [
        "---------------------\n",
        "#### (optionals)  Load the model back"
      ],
      "id": "fc800c27"
    },
    {
      "cell_type": "code",
      "metadata": {
        "id": "9d0c8c59"
      },
      "source": [
        "# net = Net()\n",
        "# net.load_state_dict(torch.load(PATH))"
      ],
      "id": "9d0c8c59",
      "execution_count": null,
      "outputs": []
    },
    {
      "cell_type": "markdown",
      "metadata": {
        "id": "980eb220"
      },
      "source": [
        "---------------------\n",
        "#### (optionals)  Try one item in the test dataset using the model"
      ],
      "id": "980eb220"
    },
    {
      "cell_type": "code",
      "metadata": {
        "id": "128ca36e"
      },
      "source": [
        "index = 0\n",
        "\n",
        "net.eval()\n",
        "\n",
        "for data in testloader:\n",
        "    image, label = data[0].to(device), data[1].to(device)\n",
        "    break\n",
        "\n",
        "print(images.shape)\n",
        "\n",
        "selected_image = torch.unsqueeze(image[index],0).to(device)\n",
        "\n",
        "imshow(image[index].to('cpu'))\n",
        "print('Target label : ', classes[label[index]])\n",
        "\n",
        "prediction = net(selected_image)\n",
        "\n",
        "print('Predicted label : ',classes[prediction.argmax().item()])"
      ],
      "id": "128ca36e",
      "execution_count": null,
      "outputs": []
    },
    {
      "cell_type": "markdown",
      "metadata": {
        "id": "ca590c3d"
      },
      "source": [
        "---------------------\n",
        "#### 6. Check the Accuracy of the model from out datasets"
      ],
      "id": "ca590c3d"
    },
    {
      "cell_type": "code",
      "metadata": {
        "id": "abc173e4"
      },
      "source": [
        "start = time.time()\n",
        "\n",
        "correct = 0\n",
        "total = 0\n",
        "\n",
        "# since we're not training, we don't need to calculate the gradients for our outputs\n",
        "with torch.no_grad():\n",
        "    for data in trainloader:\n",
        "        # images, labels = data\n",
        "        images, labels = data[0].to(device), data[1].to(device) # To GPU\n",
        "        # calculate outputs by running images through the network \n",
        "        outputs = net(images)\n",
        "        # the class with the highest energy is what we choose as prediction\n",
        "        _, predicted = torch.max(outputs.data, 1)\n",
        "        total += labels.size(0)\n",
        "        correct += (predicted == labels).sum().item()\n",
        "\n",
        "print('Accuracy of the network on training images: %d %%' % (100 * correct / total))\n",
        "        \n",
        "correct = 0\n",
        "total = 0\n",
        "\n",
        "with torch.no_grad():\n",
        "    for data in testloader:\n",
        "        # images, labels = data\n",
        "        images, labels = data[0].to(device), data[1].to(device) # To GPU\n",
        "        outputs = net(images)\n",
        "        _, predicted = torch.max(outputs.data, 1)\n",
        "        total += labels.size(0)\n",
        "        correct += (predicted == labels).sum().item()\n",
        "\n",
        "print('Accuracy of the network on testing images: %d %%' % (100 * correct / total))\n",
        "\n",
        "end = time.time()\n",
        "\n",
        "print('The whole cell took ',(end-start), 'seconds')"
      ],
      "id": "abc173e4",
      "execution_count": null,
      "outputs": []
    }
  ]
}