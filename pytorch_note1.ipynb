{
 "cells": [
  {
   "cell_type": "markdown",
   "id": "d01f2bce",
   "metadata": {},
   "source": [
    "# TENSORS & PYTORCH\n",
    "\n",
    "    tensors are kinda like matricies but can have a lower or higher dimension instead of just fixed 2-dimension\n",
    "    pytorch provides objects and functions to easily work with vectors/matrix/tensors\n",
    "    to use pytorch... first you need to import the pytorch module in your project using 'import torch'"
   ]
  },
  {
   "cell_type": "code",
   "execution_count": 1,
   "id": "17cf7ced",
   "metadata": {},
   "outputs": [],
   "source": [
    "import torch"
   ]
  },
  {
   "cell_type": "markdown",
   "id": "84912091",
   "metadata": {},
   "source": [
    "-------------------------------------------------------------------------------------------------"
   ]
  },
  {
   "cell_type": "markdown",
   "id": "3e460bef",
   "metadata": {},
   "source": [
    "* ### Initializing Tensor Using Pytorch"
   ]
  },
  {
   "cell_type": "markdown",
   "id": "3bfcbd18",
   "metadata": {},
   "source": [
    "1. ##### tensors with uninitialized values"
   ]
  },
  {
   "cell_type": "code",
   "execution_count": 2,
   "id": "ce1e5e43",
   "metadata": {},
   "outputs": [],
   "source": [
    "oneDimension   = torch.empty(size=(5,))     # vector/arrays/tensor\n",
    "twoDimension   = torch.empty(size=(3,3))    # matrix/tensor\n",
    "threeDimension = torch.empty(size=(3,3,3)) # tensor\n",
    "\n",
    "# print('one dimension tensor = ',oneDimension)\n",
    "# print('\\ntwo dimension tensor = \\n',twoDimension)\n",
    "# print('\\nthree dimension tensor = \\n',threeDimension)"
   ]
  },
  {
   "cell_type": "markdown",
   "id": "e80c9ea1",
   "metadata": {},
   "source": [
    "2. ##### tensors with random values"
   ]
  },
  {
   "cell_type": "code",
   "execution_count": 3,
   "id": "7baefd3c",
   "metadata": {},
   "outputs": [
    {
     "name": "stdout",
     "output_type": "stream",
     "text": [
      "one dimension tensor =  tensor([0.6427, 0.5905, 0.2546, 0.5761, 0.8954])\n",
      "\n",
      "two dimension tensor = \n",
      " tensor([[0.2237, 0.4295, 0.2663],\n",
      "        [0.4602, 0.9174, 0.2738],\n",
      "        [0.6117, 0.5544, 0.6232]])\n",
      "\n",
      "three dimension tensor = \n",
      " tensor([[[0.5847, 0.7490, 0.7079],\n",
      "         [0.7383, 0.1653, 0.3292],\n",
      "         [0.0076, 0.5904, 0.7532]],\n",
      "\n",
      "        [[0.1598, 0.9407, 0.1579],\n",
      "         [0.8177, 0.1609, 0.0769],\n",
      "         [0.0513, 0.7109, 0.5186]],\n",
      "\n",
      "        [[0.5131, 0.5019, 0.9265],\n",
      "         [0.7463, 0.0595, 0.7982],\n",
      "         [0.4832, 0.0604, 0.6003]]])\n"
     ]
    }
   ],
   "source": [
    "# random values from zero to one 0 - 1\n",
    "oneDimension   = torch.rand(size=(5,))    # vector/arrays/tensor\n",
    "twoDimension   = torch.rand(size=(3,3))   # matrix/tensor\n",
    "threeDimension = torch.rand(size=(3,3,3)) # tensor\n",
    "\n",
    "# .randn - Returns a tensor filled with random numbers from a normal distribution with\n",
    "#         mean 0 and variance 1 (also called the standard normal distribution).\n",
    "                            \n",
    "# random integer values specific range\n",
    "# oneDimension   = torch.randint(3, 5, size=(3,))     # range from 3 - 4\n",
    "# twoDimension   = torch.randint(10,size=(2,2))       # range from 0 - 10\n",
    "# threeDimension = torch.randint(-10,-5,size=(3,3,3)) # range from (-10) - (-5)\n",
    "                            \n",
    "print('one dimension tensor = ',oneDimension)\n",
    "print('\\ntwo dimension tensor = \\n',twoDimension)\n",
    "print('\\nthree dimension tensor = \\n',threeDimension)"
   ]
  },
  {
   "cell_type": "markdown",
   "id": "dec8725e",
   "metadata": {},
   "source": [
    "3. ##### tensors from list"
   ]
  },
  {
   "cell_type": "code",
   "execution_count": 4,
   "id": "86145742",
   "metadata": {},
   "outputs": [],
   "source": [
    "oneDimension   = torch.tensor([1,2,3,4,5])    # vector/arrays/tensor\n",
    "twoDimension   = torch.tensor([[1,2],[-5,21]])   # matrix/tensor\n",
    "threeDimension = torch.tensor(\n",
    "   [[[1,2,3],[4,5,6],[7,8,9]],\n",
    "    [[-6,4,3],[8,-5,0],[1,8,3]],\n",
    "    [[-1,2,-3],[5,5,7],[7,2,0]]]) # tensor\n",
    "\n",
    "# print('one dimension tensor = ',oneDimension)\n",
    "# print('\\ntwo dimension tensor = \\n',twoDimension)\n",
    "# print('\\nthree dimension tensor = \\n',threeDimension)"
   ]
  },
  {
   "cell_type": "markdown",
   "id": "e8f6d69e",
   "metadata": {},
   "source": [
    "4. ##### tensors with one specific values"
   ]
  },
  {
   "cell_type": "code",
   "execution_count": 5,
   "id": "802ae911",
   "metadata": {},
   "outputs": [],
   "source": [
    "# ALL ZEROS\n",
    "oneDimension   = torch.zeros(size=(5,))\n",
    "twoDimension   = torch.zeros(size=(3,3))\n",
    "threeDimension = torch.zeros(size=(3,3,3))\n",
    "\n",
    "# ALL ONES\n",
    "oneDimension   = torch.ones(size=(5,))\n",
    "twoDimension   = torch.ones(size=(3,3))\n",
    "threeDimension = torch.ones(size=(3,3,3))\n",
    "\n",
    "# print('one dimension tensor = ',oneDimension)\n",
    "# print('\\ntwo dimension tensor = \\n',twoDimension)\n",
    "# print('\\nthree dimension tensor = \\n',threeDimension)"
   ]
  },
  {
   "cell_type": "markdown",
   "id": "163d5786",
   "metadata": {},
   "source": [
    "5. ##### tensors from a numpy vector/array/matrix & vice-versa"
   ]
  },
  {
   "cell_type": "code",
   "execution_count": 6,
   "id": "9689bca4",
   "metadata": {},
   "outputs": [],
   "source": [
    "import numpy as np\n",
    "\n",
    "# pytorch tensor to numpy\n",
    "tensor = torch.randint(11,size=(3,3))\n",
    "torch_to_numpy = tensor.numpy()\n",
    "# print('torch_to_numpy = \\n',torch_to_numpy)\n",
    "\n",
    "# note that numpy instance will occupy the same memory address as the pytorch tensor\n",
    "# so changing values of either of the two will also change the other\n",
    "\n",
    "# numpy matrix to torch tensor\n",
    "matrix = np.array([\n",
    "    [1,2,3],\n",
    "    [4,5,6],\n",
    "    [7,8,9]\n",
    "], dtype=int)\n",
    "\n",
    "numpy_matrix = torch.from_numpy(matrix)\n",
    "# print('\\nnumpy_to_torch = \\n',numpy_matrix)\n",
    "\n"
   ]
  },
  {
   "cell_type": "markdown",
   "id": "350fd308",
   "metadata": {},
   "source": [
    "6. ##### tensor with specific data type"
   ]
  },
  {
   "cell_type": "code",
   "execution_count": 7,
   "id": "b9957950",
   "metadata": {},
   "outputs": [],
   "source": [
    "integer_tensor = torch.tensor([1,2,3,4],dtype=torch.float16)\n",
    "# print(integer_tensor[2].item())"
   ]
  },
  {
   "cell_type": "markdown",
   "id": "95ab3eb8",
   "metadata": {},
   "source": [
    "7. ##### tensors on GPU"
   ]
  },
  {
   "cell_type": "code",
   "execution_count": 8,
   "id": "c8589049",
   "metadata": {},
   "outputs": [],
   "source": [
    "if torch.cuda.is_available():\n",
    "    gpu = torch.device(\"cuda\")\n",
    "    \n",
    "    # 1. to gpu\n",
    "    x = torch.rand(size=(6,6),device=gpu)\n",
    "    \n",
    "    # 2. cpu to gpu\n",
    "    x = torch.rand(size=(6,6))\n",
    "    x = x.to(device)\n",
    "    \n",
    "    # gpu to cpu\n",
    "    x = x.to(\"cpu\")"
   ]
  },
  {
   "cell_type": "markdown",
   "id": "80391c0f",
   "metadata": {},
   "source": [
    "* ### Reshaping Pytorch Tensor"
   ]
  },
  {
   "cell_type": "code",
   "execution_count": 9,
   "id": "a7cfb838",
   "metadata": {},
   "outputs": [],
   "source": [
    "cube = torch.rand(size=(3,3,3))\n",
    "rectangle = cube.view(3,9)\n",
    "flatten = cube.view(27)\n",
    "\n",
    "# print('cube dim = ',cube.dim())\n",
    "# print('rect dim = ',rectangle.dim())\n",
    "# print('flat dim = ',flatten.dim())\n",
    "\n",
    "# print('\\ncube = \\n',cube)\n",
    "# print('\\nrectangle = \\n',rectangle)\n",
    "# print('\\nflatten = ',flatten)"
   ]
  },
  {
   "cell_type": "markdown",
   "id": "872372bd",
   "metadata": {},
   "source": [
    "* ### Indexing With Pytorch Tensor"
   ]
  },
  {
   "cell_type": "code",
   "execution_count": 10,
   "id": "132e1f73",
   "metadata": {},
   "outputs": [
    {
     "name": "stdout",
     "output_type": "stream",
     "text": [
      "\n",
      "threeDimension's 2nd dimension size value =  3\n",
      "\n",
      "tensor display using element indexing\n",
      "0.39541441202163696  0.16164255142211914  0.9703479409217834  \n",
      "0.3232273459434509  0.35100841522216797  0.9647573828697205  \n",
      "0.1817176342010498  0.5450662970542908  0.6120798587799072  \n",
      "\n",
      "0.7969836592674255  0.043720901012420654  0.18793350458145142  \n",
      "0.002149641513824463  0.86839759349823  0.7762633562088013  \n",
      "0.10662579536437988  0.6249131560325623  0.9273651838302612  \n",
      "\n",
      "0.8534080982208252  0.5061436295509338  0.5990992188453674  \n",
      "0.7333399057388306  0.9140135645866394  0.10978740453720093  \n",
      "0.2373967170715332  0.1805132031440735  0.013045310974121094  \n",
      "\n"
     ]
    }
   ],
   "source": [
    "oneDimension   = torch.rand(size=(5,))    # vector/arrays/tensor\n",
    "twoDimension   = torch.rand(size=(3,3))   # matrix/tensor\n",
    "threeDimension = torch.rand(size=(3,3,3)) # tensor\n",
    "\n",
    "# getting the number of dimension a tensor have\n",
    "# print('oneDimension\\'s   dim = ',oneDimension.dim())\n",
    "# print('twoDimension\\'s   dim = ',twoDimension.dim())\n",
    "# print('threeDimension\\'s dim = ',threeDimension.dim())\n",
    "\n",
    "# getting the sizes of the dimensions\n",
    "# print('\\noneDimension\\'s   dimension sizes = ',oneDimension.size())\n",
    "# print('twoDimension\\'s   dimension sizes = ',twoDimension.size())\n",
    "# print('threeDimension\\'s dimension sizes = ',threeDimension.size())\n",
    "\n",
    "# getting the size of a specific\n",
    "print('\\nthreeDimension\\'s 2nd dimension size value = ',threeDimension.size()[1])\n",
    "\n",
    "print('\\ntensor display using element indexing')\n",
    "for i in range(threeDimension.size()[0]):\n",
    "    for j in range(threeDimension.size()[1]):\n",
    "        for k in range(threeDimension.size()[2]):\n",
    "            print(threeDimension[i,j,k].item(),' ',end='')\n",
    "        print('')\n",
    "    print('')"
   ]
  },
  {
   "cell_type": "markdown",
   "id": "05e30a1e",
   "metadata": {},
   "source": [
    "* ### Basic Linear Algebra Operations"
   ]
  },
  {
   "cell_type": "markdown",
   "id": "4844b650",
   "metadata": {},
   "source": [
    "1. ##### element-wise addition"
   ]
  },
  {
   "cell_type": "code",
   "execution_count": 11,
   "id": "9443e9c7",
   "metadata": {},
   "outputs": [
    {
     "name": "stdout",
     "output_type": "stream",
     "text": [
      "a + b =  tensor([11,  9,  8, 10])\n"
     ]
    }
   ],
   "source": [
    "a = torch.tensor([4,5,6,7])\n",
    "b = torch.tensor([7,4,2,3])\n",
    "\n",
    "# addition using the operation\n",
    "c = a + b\n",
    "\n",
    "# addition using torch method\n",
    "# c = torch.add(a,b)\n",
    "\n",
    "# inplace addition\n",
    "# c = a\n",
    "# c.add_(b)\n",
    "\n",
    "print('a + b = ',c)"
   ]
  },
  {
   "cell_type": "markdown",
   "id": "50bdee50",
   "metadata": {},
   "source": [
    "2. ##### element-wise subtraction"
   ]
  },
  {
   "cell_type": "code",
   "execution_count": 12,
   "id": "90b9b4a1",
   "metadata": {},
   "outputs": [
    {
     "name": "stdout",
     "output_type": "stream",
     "text": [
      "a - b =  tensor([11,  9,  8, 10])\n"
     ]
    }
   ],
   "source": [
    "a = torch.tensor([4,5,6,7])\n",
    "b = torch.tensor([7,4,2,3])\n",
    "\n",
    "# # subtraction using the operation\n",
    "# c = a - b\n",
    "\n",
    "# subtraction using torch method\n",
    "# c = torch.sub(a,b)\n",
    "\n",
    "# inplace subtraction\n",
    "# c = a\n",
    "# c.sub_(b)\n",
    "\n",
    "print('a - b = ',c)"
   ]
  },
  {
   "cell_type": "markdown",
   "id": "c51c0b52",
   "metadata": {},
   "source": [
    "3. ##### element-wise multiplication (hadamard product)"
   ]
  },
  {
   "cell_type": "code",
   "execution_count": 13,
   "id": "1544e8ce",
   "metadata": {},
   "outputs": [
    {
     "name": "stdout",
     "output_type": "stream",
     "text": [
      "a * b =  tensor([28, 20, 12, 21])\n"
     ]
    }
   ],
   "source": [
    "a = torch.tensor([4,5,6,7])\n",
    "b = torch.tensor([7,4,2,3])\n",
    "\n",
    "# # multiplicatiion using the operation\n",
    "c = a * b\n",
    "\n",
    "# multiplicatiion using torch method\n",
    "# c = torch.mul(a,b)\n",
    "\n",
    "# inplace multiplicatiion\n",
    "# c = a\n",
    "# c.mul_(b)\n",
    "\n",
    "print('a * b = ',c)"
   ]
  },
  {
   "cell_type": "markdown",
   "id": "7fae4588",
   "metadata": {},
   "source": [
    "4. ##### element-wise division"
   ]
  },
  {
   "cell_type": "code",
   "execution_count": 14,
   "id": "afe28ae0",
   "metadata": {},
   "outputs": [
    {
     "name": "stdout",
     "output_type": "stream",
     "text": [
      "a / b =  tensor([0.5714, 1.2500, 3.0000, 2.3333], dtype=torch.float64)\n"
     ]
    }
   ],
   "source": [
    "a = torch.tensor([4,5,6,7],dtype=float)\n",
    "b = torch.tensor([7,4,2,3],dtype=float)\n",
    "\n",
    "# # division using the operation\n",
    "c = a / b\n",
    "\n",
    "# division using torch method\n",
    "# c = torch.div(a,b)\n",
    "\n",
    "# inplace division\n",
    "# c = a\n",
    "# c.div_(b)\n",
    "\n",
    "print('a / b = ',c)"
   ]
  },
  {
   "cell_type": "markdown",
   "id": "cb46d19a",
   "metadata": {},
   "source": [
    "5. ##### dot-product/matrix product(gemm)"
   ]
  },
  {
   "cell_type": "code",
   "execution_count": 15,
   "id": "d9dfb6a8",
   "metadata": {},
   "outputs": [
    {
     "name": "stdout",
     "output_type": "stream",
     "text": [
      "dot product : a * b =  81\n"
     ]
    }
   ],
   "source": [
    "a = torch.tensor([4,5,6,7])\n",
    "b = torch.tensor([7,4,2,3])\n",
    "\n",
    "# dot product\n",
    "c = torch.dot(a,b)\n",
    "\n",
    "# dot product\n",
    "# c = a.dot(b)\n",
    "\n",
    "print('dot product : a * b = ',c.item())\n",
    "\n",
    "# the .item() displays the one value if your tensor only has one element, but you need\n",
    "# to specify the index before .item() if your tensor has multiple elements"
   ]
  },
  {
   "cell_type": "code",
   "execution_count": null,
   "id": "942c3583",
   "metadata": {},
   "outputs": [],
   "source": []
  }
 ],
 "metadata": {
  "kernelspec": {
   "display_name": "Python 3",
   "language": "python",
   "name": "python3"
  },
  "language_info": {
   "codemirror_mode": {
    "name": "ipython",
    "version": 3
   },
   "file_extension": ".py",
   "mimetype": "text/x-python",
   "name": "python",
   "nbconvert_exporter": "python",
   "pygments_lexer": "ipython3",
   "version": "3.8.10"
  }
 },
 "nbformat": 4,
 "nbformat_minor": 5
}
