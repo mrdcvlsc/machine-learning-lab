{
 "cells": [
  {
   "cell_type": "markdown",
   "id": "bcf43f07",
   "metadata": {},
   "source": [
    "# TENSORS & PYTORCH\n",
    "\n",
    "    tensors are kinda like matricies but can have a lower or higher dimension instead of just fixed 2-dimension\n",
    "    pytorch provides objects and functions to easily work with vectors/matrix/tensors\n",
    "    to use pytorch... first you need to import the pytorch module in your project using 'import torch'"
   ]
  },
  {
   "cell_type": "code",
   "execution_count": 1,
   "id": "bb06229b",
   "metadata": {},
   "outputs": [],
   "source": [
    "import torch"
   ]
  },
  {
   "cell_type": "markdown",
   "id": "56bb76c8",
   "metadata": {},
   "source": [
    "-------------------------------------------------------------------------------------------------"
   ]
  },
  {
   "cell_type": "markdown",
   "id": "0d54a131",
   "metadata": {},
   "source": [
    "### * Initializing Tensor Using Pytorch"
   ]
  },
  {
   "cell_type": "markdown",
   "id": "3cec8bef",
   "metadata": {},
   "source": [
    "#### 1. tensors with uninitialized values"
   ]
  },
  {
   "cell_type": "code",
   "execution_count": 2,
   "id": "15100d1c",
   "metadata": {},
   "outputs": [],
   "source": [
    "oneDimension   = torch.empty(size=(5,))     # vector/arrays/tensor\n",
    "twoDimension   = torch.empty(size=(3,3))    # matrix/tensor\n",
    "threeDimension = torch.empty(size=(3,3,3)) # tensor\n",
    "\n",
    "# print('one dimension tensor = ',oneDimension)\n",
    "# print('\\ntwo dimension tensor = \\n',twoDimension)\n",
    "# print('\\nthree dimension tensor = \\n',threeDimension)"
   ]
  },
  {
   "cell_type": "markdown",
   "id": "5f04ac3d",
   "metadata": {},
   "source": [
    "##### 2. tensors with random values"
   ]
  },
  {
   "cell_type": "code",
   "execution_count": 3,
   "id": "bade655a",
   "metadata": {},
   "outputs": [
    {
     "name": "stdout",
     "output_type": "stream",
     "text": [
      "one dimension tensor =  tensor([0.9550, 0.9157, 0.5935, 0.1407, 0.9449])\n",
      "\n",
      "two dimension tensor = \n",
      " tensor([[0.8933, 0.1805, 0.9218],\n",
      "        [0.5272, 0.5719, 0.6052],\n",
      "        [0.1400, 0.3413, 0.6594]])\n",
      "\n",
      "three dimension tensor = \n",
      " tensor([[[0.0760, 0.6822, 0.1312],\n",
      "         [0.3668, 0.1164, 0.9408],\n",
      "         [0.5687, 0.6433, 0.2297]],\n",
      "\n",
      "        [[0.1660, 0.3012, 0.6343],\n",
      "         [0.6397, 0.5766, 0.3087],\n",
      "         [0.8299, 0.2989, 0.2252]],\n",
      "\n",
      "        [[0.5860, 0.4427, 0.4446],\n",
      "         [0.2831, 0.9766, 0.8437],\n",
      "         [0.2836, 0.8636, 0.9735]]])\n"
     ]
    }
   ],
   "source": [
    "# random values from zero to one 0 - 1\n",
    "oneDimension   = torch.rand(size=(5,))    # vector/arrays/tensor\n",
    "twoDimension   = torch.rand(size=(3,3))   # matrix/tensor\n",
    "threeDimension = torch.rand(size=(3,3,3)) # tensor\n",
    "\n",
    "# .randn - Returns a tensor filled with random numbers from a normal distribution with\n",
    "#         mean 0 and variance 1 (also called the standard normal distribution).\n",
    "                            \n",
    "# random integer values specific range\n",
    "# oneDimension   = torch.randint(3, 5, size=(3,))     # range from 3 - 4\n",
    "# twoDimension   = torch.randint(10,size=(2,2))       # range from 0 - 10\n",
    "# threeDimension = torch.randint(-10,-5,size=(3,3,3)) # range from (-10) - (-5)\n",
    "                            \n",
    "print('one dimension tensor = ',oneDimension)\n",
    "print('\\ntwo dimension tensor = \\n',twoDimension)\n",
    "print('\\nthree dimension tensor = \\n',threeDimension)"
   ]
  },
  {
   "cell_type": "markdown",
   "id": "7f8d88bd",
   "metadata": {},
   "source": [
    "##### 3. tensors from list"
   ]
  },
  {
   "cell_type": "code",
   "execution_count": 4,
   "id": "aee339d8",
   "metadata": {},
   "outputs": [],
   "source": [
    "oneDimension   = torch.tensor([1,2,3,4,5])    # vector/arrays/tensor\n",
    "twoDimension   = torch.tensor([[1,2],[-5,21]])   # matrix/tensor\n",
    "threeDimension = torch.tensor(\n",
    "   [[[1,2,3],[4,5,6],[7,8,9]],\n",
    "    [[-6,4,3],[8,-5,0],[1,8,3]],\n",
    "    [[-1,2,-3],[5,5,7],[7,2,0]]]) # tensor\n",
    "\n",
    "# print('one dimension tensor = ',oneDimension)\n",
    "# print('\\ntwo dimension tensor = \\n',twoDimension)\n",
    "# print('\\nthree dimension tensor = \\n',threeDimension)"
   ]
  },
  {
   "cell_type": "markdown",
   "id": "f38e284e",
   "metadata": {},
   "source": [
    "##### 4. tensors with one specific values"
   ]
  },
  {
   "cell_type": "code",
   "execution_count": 5,
   "id": "e9b18367",
   "metadata": {},
   "outputs": [],
   "source": [
    "# ALL ZEROS\n",
    "oneDimension   = torch.zeros(size=(5,))\n",
    "twoDimension   = torch.zeros(size=(3,3))\n",
    "threeDimension = torch.zeros(size=(3,3,3))\n",
    "\n",
    "# ALL ONES\n",
    "oneDimension   = torch.ones(size=(5,))\n",
    "twoDimension   = torch.ones(size=(3,3))\n",
    "threeDimension = torch.ones(size=(3,3,3))\n",
    "\n",
    "# print('one dimension tensor = ',oneDimension)\n",
    "# print('\\ntwo dimension tensor = \\n',twoDimension)\n",
    "# print('\\nthree dimension tensor = \\n',threeDimension)"
   ]
  },
  {
   "cell_type": "markdown",
   "id": "e63b5d2a",
   "metadata": {},
   "source": [
    "##### 5. tensors from a numpy vector/array/matrix & vice-versa"
   ]
  },
  {
   "cell_type": "code",
   "execution_count": 6,
   "id": "d6938ecc",
   "metadata": {},
   "outputs": [],
   "source": [
    "import numpy as np\n",
    "\n",
    "# pytorch tensor to numpy\n",
    "tensor = torch.randint(11,size=(3,3))\n",
    "torch_to_numpy = tensor.numpy()\n",
    "# print('torch_to_numpy = \\n',torch_to_numpy)\n",
    "\n",
    "# note that numpy instance will occupy the same memory address as the pytorch tensor\n",
    "# so changing values of either of the two will also change the other\n",
    "\n",
    "# numpy matrix to torch tensor\n",
    "matrix = np.array([\n",
    "    [1,2,3],\n",
    "    [4,5,6],\n",
    "    [7,8,9]\n",
    "], dtype=int)\n",
    "\n",
    "numpy_matrix = torch.from_numpy(matrix)\n",
    "# print('\\nnumpy_to_torch = \\n',numpy_matrix)\n",
    "\n"
   ]
  },
  {
   "cell_type": "markdown",
   "id": "c68cdc2f",
   "metadata": {},
   "source": [
    "##### 6. tensor with specific data type"
   ]
  },
  {
   "cell_type": "code",
   "execution_count": 7,
   "id": "dcea4736",
   "metadata": {},
   "outputs": [],
   "source": [
    "integer_tensor = torch.tensor([1,2,3,4],dtype=torch.float16)\n",
    "# print(integer_tensor[2].item())"
   ]
  },
  {
   "cell_type": "markdown",
   "id": "9407b5ed",
   "metadata": {},
   "source": [
    "##### 7. tensors on GPU"
   ]
  },
  {
   "cell_type": "code",
   "execution_count": 8,
   "id": "77a51bb2",
   "metadata": {},
   "outputs": [],
   "source": [
    "if torch.cuda.is_available():\n",
    "    gpu = torch.device(\"cuda\")\n",
    "    \n",
    "    # 1. to gpu\n",
    "    x = torch.rand(size=(6,6),device=gpu)\n",
    "    \n",
    "    # 2. cpu to gpu\n",
    "    x = torch.rand(size=(6,6))\n",
    "    x = x.to(device)\n",
    "    \n",
    "    # gpu to cpu\n",
    "    x = x.to(\"cpu\")"
   ]
  },
  {
   "cell_type": "markdown",
   "id": "205b03fa",
   "metadata": {},
   "source": [
    "### * Reshaping Pytorch Tensor"
   ]
  },
  {
   "cell_type": "code",
   "execution_count": 9,
   "id": "335a6a6c",
   "metadata": {},
   "outputs": [],
   "source": [
    "cube = torch.rand(size=(3,3,3))\n",
    "rectangle = cube.view(3,9)\n",
    "flatten = cube.view(27)\n",
    "\n",
    "# print('cube dim = ',cube.dim())\n",
    "# print('rect dim = ',rectangle.dim())\n",
    "# print('flat dim = ',flatten.dim())\n",
    "\n",
    "# print('\\ncube = \\n',cube)\n",
    "# print('\\nrectangle = \\n',rectangle)\n",
    "# print('\\nflatten = ',flatten)"
   ]
  },
  {
   "cell_type": "markdown",
   "id": "52db6e8a",
   "metadata": {},
   "source": [
    "### * Indexing With Pytorch Tensor"
   ]
  },
  {
   "cell_type": "code",
   "execution_count": 10,
   "id": "b4834d8a",
   "metadata": {},
   "outputs": [
    {
     "name": "stdout",
     "output_type": "stream",
     "text": [
      "\n",
      "threeDimension's 2nd dimension size value =  3\n",
      "\n",
      "tensor display using element indexing\n",
      "0.21326446533203125  0.6713548898696899  0.08482939004898071  \n",
      "0.6581918001174927  0.7017199397087097  0.9482356309890747  \n",
      "0.7876487374305725  0.03059631586074829  0.046458661556243896  \n",
      "\n",
      "0.9053604602813721  0.2944648861885071  0.5295004844665527  \n",
      "0.41048765182495117  0.3751147389411926  0.355080246925354  \n",
      "0.29963356256484985  0.43051689863204956  0.33947765827178955  \n",
      "\n",
      "0.8435706496238708  0.9128153324127197  0.17010128498077393  \n",
      "0.9031193256378174  0.6708775162696838  0.7272334098815918  \n",
      "0.24280232191085815  0.9268078207969666  0.3677635192871094  \n",
      "\n"
     ]
    }
   ],
   "source": [
    "oneDimension   = torch.rand(size=(5,))    # vector/arrays/tensor\n",
    "twoDimension   = torch.rand(size=(3,3))   # matrix/tensor\n",
    "threeDimension = torch.rand(size=(3,3,3)) # tensor\n",
    "\n",
    "# getting the number of dimension a tensor have\n",
    "# print('oneDimension\\'s   dim = ',oneDimension.dim())\n",
    "# print('twoDimension\\'s   dim = ',twoDimension.dim())\n",
    "# print('threeDimension\\'s dim = ',threeDimension.dim())\n",
    "\n",
    "# getting the sizes of the dimensions\n",
    "# print('\\noneDimension\\'s   dimension sizes = ',oneDimension.size())\n",
    "# print('twoDimension\\'s   dimension sizes = ',twoDimension.size())\n",
    "# print('threeDimension\\'s dimension sizes = ',threeDimension.size())\n",
    "\n",
    "# getting the size of a specific\n",
    "print('\\nthreeDimension\\'s 2nd dimension size value = ',threeDimension.size()[1])\n",
    "\n",
    "print('\\ntensor display using element indexing')\n",
    "for i in range(threeDimension.size()[0]):\n",
    "    for j in range(threeDimension.size()[1]):\n",
    "        for k in range(threeDimension.size()[2]):\n",
    "            print(threeDimension[i,j,k].item(),' ',end='')\n",
    "        print('')\n",
    "    print('')"
   ]
  },
  {
   "cell_type": "markdown",
   "id": "4354d1e3",
   "metadata": {},
   "source": [
    "### * Basic Linear Algebra Operations"
   ]
  },
  {
   "cell_type": "markdown",
   "id": "44df16de",
   "metadata": {},
   "source": [
    "##### 1. element-wise addition"
   ]
  },
  {
   "cell_type": "code",
   "execution_count": 11,
   "id": "e2c31759",
   "metadata": {},
   "outputs": [
    {
     "name": "stdout",
     "output_type": "stream",
     "text": [
      "a + b =  tensor([11,  9,  8, 10])\n"
     ]
    }
   ],
   "source": [
    "a = torch.tensor([4,5,6,7])\n",
    "b = torch.tensor([7,4,2,3])\n",
    "\n",
    "# addition using the operation\n",
    "c = a + b\n",
    "\n",
    "# addition using torch method\n",
    "# c = torch.add(a,b)\n",
    "\n",
    "# inplace addition\n",
    "# c = a\n",
    "# c.add_(b)\n",
    "\n",
    "print('a + b = ',c)"
   ]
  },
  {
   "cell_type": "markdown",
   "id": "cc65eb8f",
   "metadata": {},
   "source": [
    "##### 2. element-wise subtraction"
   ]
  },
  {
   "cell_type": "code",
   "execution_count": 12,
   "id": "4fceb8cc",
   "metadata": {},
   "outputs": [
    {
     "name": "stdout",
     "output_type": "stream",
     "text": [
      "a - b =  tensor([11,  9,  8, 10])\n"
     ]
    }
   ],
   "source": [
    "a = torch.tensor([4,5,6,7])\n",
    "b = torch.tensor([7,4,2,3])\n",
    "\n",
    "# # subtraction using the operation\n",
    "# c = a - b\n",
    "\n",
    "# subtraction using torch method\n",
    "# c = torch.sub(a,b)\n",
    "\n",
    "# inplace subtraction\n",
    "# c = a\n",
    "# c.sub_(b)\n",
    "\n",
    "print('a - b = ',c)"
   ]
  },
  {
   "cell_type": "markdown",
   "id": "16ede9af",
   "metadata": {},
   "source": [
    "##### 3. element-wise multiplication (hadamard product)"
   ]
  },
  {
   "cell_type": "code",
   "execution_count": 13,
   "id": "37c5e777",
   "metadata": {},
   "outputs": [
    {
     "name": "stdout",
     "output_type": "stream",
     "text": [
      "a * b =  tensor([28, 20, 12, 21])\n"
     ]
    }
   ],
   "source": [
    "a = torch.tensor([4,5,6,7])\n",
    "b = torch.tensor([7,4,2,3])\n",
    "\n",
    "# # multiplicatiion using the operation\n",
    "c = a * b\n",
    "\n",
    "# multiplicatiion using torch method\n",
    "# c = torch.mul(a,b)\n",
    "\n",
    "# inplace multiplicatiion\n",
    "# c = a\n",
    "# c.mul_(b)\n",
    "\n",
    "print('a * b = ',c)"
   ]
  },
  {
   "cell_type": "markdown",
   "id": "9a1ea185",
   "metadata": {},
   "source": [
    "##### 4. element-wise division"
   ]
  },
  {
   "cell_type": "code",
   "execution_count": 14,
   "id": "6b69256f",
   "metadata": {},
   "outputs": [
    {
     "name": "stdout",
     "output_type": "stream",
     "text": [
      "a / b =  tensor([0.5714, 1.2500, 3.0000, 2.3333], dtype=torch.float64)\n"
     ]
    }
   ],
   "source": [
    "a = torch.tensor([4,5,6,7],dtype=float)\n",
    "b = torch.tensor([7,4,2,3],dtype=float)\n",
    "\n",
    "# # division using the operation\n",
    "c = a / b\n",
    "\n",
    "# division using torch method\n",
    "# c = torch.div(a,b)\n",
    "\n",
    "# inplace division\n",
    "# c = a\n",
    "# c.div_(b)\n",
    "\n",
    "print('a / b = ',c)"
   ]
  },
  {
   "cell_type": "markdown",
   "id": "74d7cbdd",
   "metadata": {},
   "source": [
    "##### 5. dot-product/matrix product(gemm)"
   ]
  },
  {
   "cell_type": "code",
   "execution_count": 15,
   "id": "3d51780e",
   "metadata": {},
   "outputs": [
    {
     "name": "stdout",
     "output_type": "stream",
     "text": [
      "dot product : a * b =  81\n"
     ]
    }
   ],
   "source": [
    "a = torch.tensor([4,5,6,7])\n",
    "b = torch.tensor([7,4,2,3])\n",
    "\n",
    "# dot product\n",
    "c = torch.dot(a,b)\n",
    "\n",
    "# dot product\n",
    "# c = a.dot(b)\n",
    "\n",
    "print('dot product : a * b = ',c.item())\n",
    "\n",
    "# the .item() displays the one value if your tensor only has one element, but you need\n",
    "# to specify the index before .item() if your tensor has multiple elements"
   ]
  },
  {
   "cell_type": "code",
   "execution_count": null,
   "id": "57768938",
   "metadata": {},
   "outputs": [],
   "source": []
  }
 ],
 "metadata": {
  "kernelspec": {
   "display_name": "Python 3",
   "language": "python",
   "name": "python3"
  },
  "language_info": {
   "codemirror_mode": {
    "name": "ipython",
    "version": 3
   },
   "file_extension": ".py",
   "mimetype": "text/x-python",
   "name": "python",
   "nbconvert_exporter": "python",
   "pygments_lexer": "ipython3",
   "version": "3.8.10"
  }
 },
 "nbformat": 4,
 "nbformat_minor": 5
}
