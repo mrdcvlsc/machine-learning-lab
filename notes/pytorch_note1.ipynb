{
 "cells": [
  {
   "cell_type": "markdown",
   "id": "19444b59",
   "metadata": {},
   "source": [
    "# TENSORS & PYTORCH\n",
    "\n",
    "    tensors are kinda like matricies but can have a lower or higher dimension instead of just fixed 2-dimension\n",
    "    pytorch provides objects and functions to easily work with vectors/matrix/tensors\n",
    "    to use pytorch... first you need to import the pytorch module in your project using 'import torch'"
   ]
  },
  {
   "cell_type": "code",
   "execution_count": 1,
   "id": "a4de7422",
   "metadata": {},
   "outputs": [],
   "source": [
    "import torch"
   ]
  },
  {
   "cell_type": "markdown",
   "id": "c712dfae",
   "metadata": {},
   "source": [
    "### Initializing Tensor Using Pytorch"
   ]
  },
  {
   "cell_type": "markdown",
   "id": "2544a0e0",
   "metadata": {},
   "source": [
    "##### tensors with uninitialized values"
   ]
  },
  {
   "cell_type": "code",
   "execution_count": 17,
   "id": "f6224e8b",
   "metadata": {},
   "outputs": [],
   "source": [
    "oneDimension   = torch.empty(size=(5,))     # vector/arrays/tensor\n",
    "twoDimension   = torch.empty(size=(3,3))    # matrix/tensor\n",
    "threeDimension = torch.empty(size=(3,3,3)) # tensor\n",
    "\n",
    "# print('one dimension tensor = ',oneDimension)\n",
    "# print('\\ntwo dimension tensor = \\n',twoDimension)\n",
    "# print('\\nthree dimension tensor = \\n',threeDimension)"
   ]
  },
  {
   "cell_type": "markdown",
   "id": "7904386b",
   "metadata": {},
   "source": [
    "##### tensors with random values"
   ]
  },
  {
   "cell_type": "code",
   "execution_count": 10,
   "id": "4b3c8122",
   "metadata": {},
   "outputs": [],
   "source": [
    "# random values from zero to one 0 - 1\n",
    "oneDimension   = torch.rand(size=(5,))    # vector/arrays/tensor\n",
    "twoDimension   = torch.rand(size=(3,3))   # matrix/tensor\n",
    "threeDimension = torch.rand(size=(3,3,3)) # tensor\n",
    "                            \n",
    "# random integer values specific range\n",
    "# oneDimension   = torch.randint(3, 5, size=(3,))     # range from 3 - 4\n",
    "# twoDimension   = torch.randint(10,size=(2,2))       # range from 0 - 10\n",
    "# threeDimension = torch.randint(-10,-5,size=(3,3,3)) # range from (-10) - (-5)\n",
    "                            \n",
    "# print('one dimension tensor = ',oneDimension)\n",
    "# print('\\ntwo dimension tensor = \\n',twoDimension)\n",
    "# print('\\nthree dimension tensor = \\n',threeDimension)"
   ]
  },
  {
   "cell_type": "markdown",
   "id": "44e80230",
   "metadata": {},
   "source": [
    "##### tensors from list"
   ]
  },
  {
   "cell_type": "code",
   "execution_count": 11,
   "id": "742571d3",
   "metadata": {},
   "outputs": [],
   "source": [
    "oneDimension   = torch.tensor([1,2,3,4,5])    # vector/arrays/tensor\n",
    "twoDimension   = torch.tensor([[1,2],[-5,21]])   # matrix/tensor\n",
    "threeDimension = torch.tensor(\n",
    "   [[[1,2,3],[4,5,6],[7,8,9]],\n",
    "    [[-6,4,3],[8,-5,0],[1,8,3]],\n",
    "    [[-1,2,-3],[5,5,7],[7,2,0]]]) # tensor\n",
    "\n",
    "# print('one dimension tensor = ',oneDimension)\n",
    "# print('\\ntwo dimension tensor = \\n',twoDimension)\n",
    "# print('\\nthree dimension tensor = \\n',threeDimension)"
   ]
  },
  {
   "cell_type": "markdown",
   "id": "b226029b",
   "metadata": {},
   "source": [
    "##### tensors with one specific values"
   ]
  },
  {
   "cell_type": "code",
   "execution_count": 16,
   "id": "55f8ec76",
   "metadata": {},
   "outputs": [],
   "source": [
    "# ALL ZEROS\n",
    "oneDimension   = torch.zeros(size=(5,))\n",
    "twoDimension   = torch.zeros(size=(3,3))\n",
    "threeDimension = torch.zeros(size=(3,3,3))\n",
    "\n",
    "# ALL ONES\n",
    "oneDimension   = torch.ones(size=(5,))\n",
    "twoDimension   = torch.ones(size=(3,3))\n",
    "threeDimension = torch.ones(size=(3,3,3))\n",
    "\n",
    "# print('one dimension tensor = ',oneDimension)\n",
    "# print('\\ntwo dimension tensor = \\n',twoDimension)\n",
    "# print('\\nthree dimension tensor = \\n',threeDimension)"
   ]
  },
  {
   "cell_type": "markdown",
   "id": "da107c72",
   "metadata": {},
   "source": [
    "##### tensors from a numpy vector/array/matrix & vice-versa"
   ]
  },
  {
   "cell_type": "code",
   "execution_count": 27,
   "id": "aa0451bd",
   "metadata": {},
   "outputs": [],
   "source": [
    "import numpy as np\n",
    "\n",
    "# pytorch tensor to numpy\n",
    "tensor = torch.randint(11,size=(3,3))\n",
    "torch_to_numpy = tensor.numpy()\n",
    "# print('torch_to_numpy = \\n',torch_to_numpy)\n",
    "\n",
    "# note that numpy instance will occupy the same memory address as the pytorch tensor\n",
    "# so changing values of either of the two will also change the other\n",
    "\n",
    "# numpy matrix to torch tensor\n",
    "matrix = np.array([\n",
    "    [1,2,3],\n",
    "    [4,5,6],\n",
    "    [7,8,9]\n",
    "], dtype=int)\n",
    "\n",
    "numpy_matrix = torch.from_numpy(matrix)\n",
    "# print('\\nnumpy_to_torch = \\n',numpy_matrix)\n",
    "\n"
   ]
  },
  {
   "cell_type": "markdown",
   "id": "f69a966a",
   "metadata": {},
   "source": [
    "##### tensor with specific data type"
   ]
  },
  {
   "cell_type": "code",
   "execution_count": 89,
   "id": "36ee7d50",
   "metadata": {},
   "outputs": [],
   "source": [
    "integer_tensor = torch.tensor([1,2,3,4],dtype=torch.float16)\n",
    "# print(integer_tensor[2].item())"
   ]
  },
  {
   "cell_type": "markdown",
   "id": "e8117f4a",
   "metadata": {},
   "source": [
    "### Indexing With Pytorch Tensor"
   ]
  },
  {
   "cell_type": "code",
   "execution_count": 62,
   "id": "3bb11d85",
   "metadata": {},
   "outputs": [
    {
     "name": "stdout",
     "output_type": "stream",
     "text": [
      "\n",
      "threeDimension's 2nd dimension size value =  3\n",
      "\n",
      "tensor display using element indexing\n",
      "0.8349334597587585  0.4005167484283447  0.10727900266647339  \n",
      "0.0546337366104126  0.9962729811668396  0.11317414045333862  \n",
      "0.14673298597335815  0.5947994589805603  0.4323524236679077  \n",
      "\n",
      "0.9306092262268066  0.9280824661254883  0.37335360050201416  \n",
      "0.7180056571960449  0.6890600919723511  0.5495572686195374  \n",
      "0.13585388660430908  0.314914345741272  0.5432498455047607  \n",
      "\n",
      "0.31733644008636475  0.3347267508506775  0.15762627124786377  \n",
      "0.0600704550743103  0.12572193145751953  0.7459300756454468  \n",
      "0.9777885675430298  0.4446197748184204  0.7394772171974182  \n",
      "\n"
     ]
    }
   ],
   "source": [
    "oneDimension   = torch.rand(size=(5,))    # vector/arrays/tensor\n",
    "twoDimension   = torch.rand(size=(3,3))   # matrix/tensor\n",
    "threeDimension = torch.rand(size=(3,3,3)) # tensor\n",
    "\n",
    "# getting the number of dimension a tensor have\n",
    "# print('oneDimension\\'s   dim = ',oneDimension.dim())\n",
    "# print('twoDimension\\'s   dim = ',twoDimension.dim())\n",
    "# print('threeDimension\\'s dim = ',threeDimension.dim())\n",
    "\n",
    "# getting the sizes of the dimensions\n",
    "# print('\\noneDimension\\'s   dimension sizes = ',oneDimension.size())\n",
    "# print('twoDimension\\'s   dimension sizes = ',twoDimension.size())\n",
    "# print('threeDimension\\'s dimension sizes = ',threeDimension.size())\n",
    "\n",
    "# getting the size of a specific\n",
    "print('\\nthreeDimension\\'s 2nd dimension size value = ',threeDimension.size()[1])\n",
    "\n",
    "print('\\ntensor display using element indexing')\n",
    "for i in range(threeDimension.size()[0]):\n",
    "    for j in range(threeDimension.size()[1]):\n",
    "        for k in range(threeDimension.size()[2]):\n",
    "            print(threeDimension[i,j,k].item(),' ',end='')\n",
    "        print('')\n",
    "    print('')"
   ]
  },
  {
   "cell_type": "markdown",
   "id": "adf71b0f",
   "metadata": {},
   "source": [
    "### Basic Linear Algebra Operations"
   ]
  },
  {
   "cell_type": "markdown",
   "id": "44e62039",
   "metadata": {},
   "source": [
    "##### element-wise addition"
   ]
  },
  {
   "cell_type": "code",
   "execution_count": 92,
   "id": "99e048df",
   "metadata": {},
   "outputs": [
    {
     "name": "stdout",
     "output_type": "stream",
     "text": [
      "a + b =  tensor([11,  9,  8, 10])\n"
     ]
    }
   ],
   "source": [
    "a = torch.tensor([4,5,6,7])\n",
    "b = torch.tensor([7,4,2,3])\n",
    "\n",
    "# addition using the operation\n",
    "c = a + b\n",
    "\n",
    "# addition using torch method\n",
    "# c = torch.add(a,b)\n",
    "\n",
    "# inplace addition\n",
    "# c = a\n",
    "# c.add_(b)\n",
    "\n",
    "print('a + b = ',c)"
   ]
  },
  {
   "cell_type": "markdown",
   "id": "0156941d",
   "metadata": {},
   "source": [
    "##### element-wise subtraction"
   ]
  },
  {
   "cell_type": "code",
   "execution_count": 99,
   "id": "190bd617",
   "metadata": {},
   "outputs": [
    {
     "name": "stdout",
     "output_type": "stream",
     "text": [
      "a - b =  tensor([-3,  1,  4,  4])\n"
     ]
    }
   ],
   "source": [
    "a = torch.tensor([4,5,6,7])\n",
    "b = torch.tensor([7,4,2,3])\n",
    "\n",
    "# # subtraction using the operation\n",
    "# c = a - b\n",
    "\n",
    "# subtraction using torch method\n",
    "# c = torch.sub(a,b)\n",
    "\n",
    "# inplace subtraction\n",
    "# c = a\n",
    "# c.sub_(b)\n",
    "\n",
    "print('a - b = ',c)"
   ]
  },
  {
   "cell_type": "markdown",
   "id": "f1fa99d7",
   "metadata": {},
   "source": [
    "##### element-wise multiplication (hadamard product)"
   ]
  },
  {
   "cell_type": "code",
   "execution_count": 107,
   "id": "13caf7fd",
   "metadata": {},
   "outputs": [
    {
     "name": "stdout",
     "output_type": "stream",
     "text": [
      "a * b =  tensor([28, 20, 12, 21])\n"
     ]
    }
   ],
   "source": [
    "a = torch.tensor([4,5,6,7])\n",
    "b = torch.tensor([7,4,2,3])\n",
    "\n",
    "# # multiplicatiion using the operation\n",
    "c = a * b\n",
    "\n",
    "# multiplicatiion using torch method\n",
    "# c = torch.mul(a,b)\n",
    "\n",
    "# inplace multiplicatiion\n",
    "# c = a\n",
    "# c.mul_(b)\n",
    "\n",
    "print('a * b = ',c)"
   ]
  },
  {
   "cell_type": "markdown",
   "id": "78b129ee",
   "metadata": {},
   "source": [
    "##### element-wise division"
   ]
  },
  {
   "cell_type": "code",
   "execution_count": 106,
   "id": "648ee399",
   "metadata": {},
   "outputs": [
    {
     "name": "stdout",
     "output_type": "stream",
     "text": [
      "a / b =  tensor([0.5714, 1.2500, 3.0000, 2.3333], dtype=torch.float64)\n"
     ]
    }
   ],
   "source": [
    "a = torch.tensor([4,5,6,7],dtype=float)\n",
    "b = torch.tensor([7,4,2,3],dtype=float)\n",
    "\n",
    "# # division using the operation\n",
    "c = a / b\n",
    "\n",
    "# division using torch method\n",
    "# c = torch.div(a,b)\n",
    "\n",
    "# inplace division\n",
    "# c = a\n",
    "# c.div_(b)\n",
    "\n",
    "print('a / b = ',c)"
   ]
  },
  {
   "cell_type": "markdown",
   "id": "90fbcc69",
   "metadata": {},
   "source": [
    "##### dot-product"
   ]
  },
  {
   "cell_type": "code",
   "execution_count": 117,
   "id": "ab0fd408",
   "metadata": {},
   "outputs": [
    {
     "name": "stdout",
     "output_type": "stream",
     "text": [
      "dot product : a * b =  81\n"
     ]
    }
   ],
   "source": [
    "a = torch.tensor([4,5,6,7])\n",
    "b = torch.tensor([7,4,2,3])\n",
    "\n",
    "# dot product\n",
    "c = torch.dot(a,b)\n",
    "\n",
    "# dot product\n",
    "# c = a.dot(b)\n",
    "\n",
    "print('dot product : a * b = ',c.item())\n",
    "\n",
    "# the .item() displays the one value if your tensor only has one element, but you need\n",
    "# to specify the index before .item() if your tensor has multiple elements"
   ]
  },
  {
   "cell_type": "code",
   "execution_count": null,
   "id": "7deec349",
   "metadata": {},
   "outputs": [],
   "source": []
  }
 ],
 "metadata": {
  "kernelspec": {
   "display_name": "Python 3",
   "language": "python",
   "name": "python3"
  },
  "language_info": {
   "codemirror_mode": {
    "name": "ipython",
    "version": 3
   },
   "file_extension": ".py",
   "mimetype": "text/x-python",
   "name": "python",
   "nbconvert_exporter": "python",
   "pygments_lexer": "ipython3",
   "version": "3.8.10"
  }
 },
 "nbformat": 4,
 "nbformat_minor": 5
}
